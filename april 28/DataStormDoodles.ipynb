{
  "nbformat": 4,
  "nbformat_minor": 0,
  "metadata": {
    "colab": {
      "provenance": []
    },
    "kernelspec": {
      "name": "python3",
      "display_name": "Python 3"
    },
    "language_info": {
      "name": "python"
    }
  },
  "cells": [
    {
      "cell_type": "code",
      "execution_count": 2,
      "metadata": {
        "colab": {
          "base_uri": "https://localhost:8080/"
        },
        "id": "N8X9Ay5RRt9Q",
        "outputId": "32b59cdf-e7ca-4565-fb37-2776b5f9f25a"
      },
      "outputs": [
        {
          "output_type": "stream",
          "name": "stdout",
          "text": [
            "Looking in indexes: https://pypi.org/simple, https://us-python.pkg.dev/colab-wheels/public/simple/\n",
            "Requirement already satisfied: kaggle in /usr/local/lib/python3.10/dist-packages (1.5.13)\n",
            "Requirement already satisfied: urllib3 in /usr/local/lib/python3.10/dist-packages (from kaggle) (1.26.15)\n",
            "Requirement already satisfied: tqdm in /usr/local/lib/python3.10/dist-packages (from kaggle) (4.65.0)\n",
            "Requirement already satisfied: python-slugify in /usr/local/lib/python3.10/dist-packages (from kaggle) (8.0.1)\n",
            "Requirement already satisfied: requests in /usr/local/lib/python3.10/dist-packages (from kaggle) (2.27.1)\n",
            "Requirement already satisfied: python-dateutil in /usr/local/lib/python3.10/dist-packages (from kaggle) (2.8.2)\n",
            "Requirement already satisfied: six>=1.10 in /usr/local/lib/python3.10/dist-packages (from kaggle) (1.16.0)\n",
            "Requirement already satisfied: certifi in /usr/local/lib/python3.10/dist-packages (from kaggle) (2022.12.7)\n",
            "Requirement already satisfied: text-unidecode>=1.3 in /usr/local/lib/python3.10/dist-packages (from python-slugify->kaggle) (1.3)\n",
            "Requirement already satisfied: charset-normalizer~=2.0.0 in /usr/local/lib/python3.10/dist-packages (from requests->kaggle) (2.0.12)\n",
            "Requirement already satisfied: idna<4,>=2.5 in /usr/local/lib/python3.10/dist-packages (from requests->kaggle) (3.4)\n",
            "Downloading data-storm-4.zip to /content\n",
            "  0% 0.00/5.77M [00:00<?, ?B/s]\n",
            "100% 5.77M/5.77M [00:00<00:00, 89.3MB/s]\n",
            "Archive:  data-storm-4.zip\n",
            "  inflating: Data-dictionary.xlsx    \n",
            "  inflating: DataStorm4.0_KaggleProblemStatement.pdf  \n",
            "  inflating: Historical-transaction-data.csv  \n",
            "  inflating: Store-info.csv          \n",
            "  inflating: Testing-data.csv        \n"
          ]
        }
      ],
      "source": [
        "!pip install kaggle\n",
        "! mkdir ~/.kaggle\n",
        "\n",
        "import json\n",
        "kaggle_token = {\"username\":\"datastorm120\",\"key\":\"8ff6645b2258b372547db6ef8b635c6c\"}\n",
        "with open(\"kaggle.json\", \"w\") as f:\n",
        "  token_json = json.dumps(kaggle_token)\n",
        "  f.write(token_json)\n",
        "\n",
        "! cp kaggle.json ~/.kaggle/\n",
        "! chmod 600 ~/.kaggle/kaggle.json\n",
        "! kaggle competitions download -c data-storm-4\n",
        "! unzip data-storm-4.zip "
      ]
    },
    {
      "cell_type": "code",
      "source": [
        "import pandas as pd\n",
        "import numpy as np\n",
        "\n",
        "store_info_data = pd.read_csv('Store-info.csv')\n",
        "historical_data = pd.read_csv('Historical-transaction-data.csv')\n",
        "testing_data = pd.read_csv('Testing-data.csv')\n",
        "\n",
        "store_info_data.head()"
      ],
      "metadata": {
        "colab": {
          "base_uri": "https://localhost:8080/",
          "height": 206
        },
        "id": "I45EQt14R9jd",
        "outputId": "3f8e4811-dba4-42a2-844b-de5e3cb05660"
      },
      "execution_count": 3,
      "outputs": [
        {
          "output_type": "execute_result",
          "data": {
            "text/plain": [
              "   shop_id  shop_area_sq_ft shop_profile\n",
              "0  SHOP047              528     Moderate\n",
              "1  SHOP009              676         High\n",
              "2  SHOP083              676          Low\n",
              "3  SHOP117              676          Low\n",
              "4  SHOP042              676          Low"
            ],
            "text/html": [
              "\n",
              "  <div id=\"df-2af2ccd2-69ce-4848-9010-f99becfd2360\">\n",
              "    <div class=\"colab-df-container\">\n",
              "      <div>\n",
              "<style scoped>\n",
              "    .dataframe tbody tr th:only-of-type {\n",
              "        vertical-align: middle;\n",
              "    }\n",
              "\n",
              "    .dataframe tbody tr th {\n",
              "        vertical-align: top;\n",
              "    }\n",
              "\n",
              "    .dataframe thead th {\n",
              "        text-align: right;\n",
              "    }\n",
              "</style>\n",
              "<table border=\"1\" class=\"dataframe\">\n",
              "  <thead>\n",
              "    <tr style=\"text-align: right;\">\n",
              "      <th></th>\n",
              "      <th>shop_id</th>\n",
              "      <th>shop_area_sq_ft</th>\n",
              "      <th>shop_profile</th>\n",
              "    </tr>\n",
              "  </thead>\n",
              "  <tbody>\n",
              "    <tr>\n",
              "      <th>0</th>\n",
              "      <td>SHOP047</td>\n",
              "      <td>528</td>\n",
              "      <td>Moderate</td>\n",
              "    </tr>\n",
              "    <tr>\n",
              "      <th>1</th>\n",
              "      <td>SHOP009</td>\n",
              "      <td>676</td>\n",
              "      <td>High</td>\n",
              "    </tr>\n",
              "    <tr>\n",
              "      <th>2</th>\n",
              "      <td>SHOP083</td>\n",
              "      <td>676</td>\n",
              "      <td>Low</td>\n",
              "    </tr>\n",
              "    <tr>\n",
              "      <th>3</th>\n",
              "      <td>SHOP117</td>\n",
              "      <td>676</td>\n",
              "      <td>Low</td>\n",
              "    </tr>\n",
              "    <tr>\n",
              "      <th>4</th>\n",
              "      <td>SHOP042</td>\n",
              "      <td>676</td>\n",
              "      <td>Low</td>\n",
              "    </tr>\n",
              "  </tbody>\n",
              "</table>\n",
              "</div>\n",
              "      <button class=\"colab-df-convert\" onclick=\"convertToInteractive('df-2af2ccd2-69ce-4848-9010-f99becfd2360')\"\n",
              "              title=\"Convert this dataframe to an interactive table.\"\n",
              "              style=\"display:none;\">\n",
              "        \n",
              "  <svg xmlns=\"http://www.w3.org/2000/svg\" height=\"24px\"viewBox=\"0 0 24 24\"\n",
              "       width=\"24px\">\n",
              "    <path d=\"M0 0h24v24H0V0z\" fill=\"none\"/>\n",
              "    <path d=\"M18.56 5.44l.94 2.06.94-2.06 2.06-.94-2.06-.94-.94-2.06-.94 2.06-2.06.94zm-11 1L8.5 8.5l.94-2.06 2.06-.94-2.06-.94L8.5 2.5l-.94 2.06-2.06.94zm10 10l.94 2.06.94-2.06 2.06-.94-2.06-.94-.94-2.06-.94 2.06-2.06.94z\"/><path d=\"M17.41 7.96l-1.37-1.37c-.4-.4-.92-.59-1.43-.59-.52 0-1.04.2-1.43.59L10.3 9.45l-7.72 7.72c-.78.78-.78 2.05 0 2.83L4 21.41c.39.39.9.59 1.41.59.51 0 1.02-.2 1.41-.59l7.78-7.78 2.81-2.81c.8-.78.8-2.07 0-2.86zM5.41 20L4 18.59l7.72-7.72 1.47 1.35L5.41 20z\"/>\n",
              "  </svg>\n",
              "      </button>\n",
              "      \n",
              "  <style>\n",
              "    .colab-df-container {\n",
              "      display:flex;\n",
              "      flex-wrap:wrap;\n",
              "      gap: 12px;\n",
              "    }\n",
              "\n",
              "    .colab-df-convert {\n",
              "      background-color: #E8F0FE;\n",
              "      border: none;\n",
              "      border-radius: 50%;\n",
              "      cursor: pointer;\n",
              "      display: none;\n",
              "      fill: #1967D2;\n",
              "      height: 32px;\n",
              "      padding: 0 0 0 0;\n",
              "      width: 32px;\n",
              "    }\n",
              "\n",
              "    .colab-df-convert:hover {\n",
              "      background-color: #E2EBFA;\n",
              "      box-shadow: 0px 1px 2px rgba(60, 64, 67, 0.3), 0px 1px 3px 1px rgba(60, 64, 67, 0.15);\n",
              "      fill: #174EA6;\n",
              "    }\n",
              "\n",
              "    [theme=dark] .colab-df-convert {\n",
              "      background-color: #3B4455;\n",
              "      fill: #D2E3FC;\n",
              "    }\n",
              "\n",
              "    [theme=dark] .colab-df-convert:hover {\n",
              "      background-color: #434B5C;\n",
              "      box-shadow: 0px 1px 3px 1px rgba(0, 0, 0, 0.15);\n",
              "      filter: drop-shadow(0px 1px 2px rgba(0, 0, 0, 0.3));\n",
              "      fill: #FFFFFF;\n",
              "    }\n",
              "  </style>\n",
              "\n",
              "      <script>\n",
              "        const buttonEl =\n",
              "          document.querySelector('#df-2af2ccd2-69ce-4848-9010-f99becfd2360 button.colab-df-convert');\n",
              "        buttonEl.style.display =\n",
              "          google.colab.kernel.accessAllowed ? 'block' : 'none';\n",
              "\n",
              "        async function convertToInteractive(key) {\n",
              "          const element = document.querySelector('#df-2af2ccd2-69ce-4848-9010-f99becfd2360');\n",
              "          const dataTable =\n",
              "            await google.colab.kernel.invokeFunction('convertToInteractive',\n",
              "                                                     [key], {});\n",
              "          if (!dataTable) return;\n",
              "\n",
              "          const docLinkHtml = 'Like what you see? Visit the ' +\n",
              "            '<a target=\"_blank\" href=https://colab.research.google.com/notebooks/data_table.ipynb>data table notebook</a>'\n",
              "            + ' to learn more about interactive tables.';\n",
              "          element.innerHTML = '';\n",
              "          dataTable['output_type'] = 'display_data';\n",
              "          await google.colab.output.renderOutput(dataTable, element);\n",
              "          const docLink = document.createElement('div');\n",
              "          docLink.innerHTML = docLinkHtml;\n",
              "          element.appendChild(docLink);\n",
              "        }\n",
              "      </script>\n",
              "    </div>\n",
              "  </div>\n",
              "  "
            ]
          },
          "metadata": {},
          "execution_count": 3
        }
      ]
    },
    {
      "cell_type": "code",
      "source": [
        "\n",
        "\n",
        "# assuming you have a DataFrame named df with the given features\n",
        "# group the data by shop_id and customer_id\n",
        "grouped = historical_data.groupby(['shop_id', 'customer_id'])\n",
        "\n",
        "# calculate the total spending for each customer at each shop\n",
        "total_spending = grouped.apply(lambda x: (x['item_price'] * x['quantity_sold']).sum())\n",
        "\n",
        "# calculate the average spending for each customer at each shop\n",
        "average_spending = total_spending.groupby('shop_id').mean()\n",
        "\n",
        "# create a new DataFrame with the shop_id and average_customer_spending columns\n",
        "result = pd.DataFrame({'shop_id': average_spending.index, 'average_customer_spending': average_spending.values})\n",
        "\n",
        "print(result)"
      ],
      "metadata": {
        "colab": {
          "base_uri": "https://localhost:8080/"
        },
        "id": "5PZTZJIa1SBy",
        "outputId": "52265da7-ad41-4650-c1fb-d304848d504c"
      },
      "execution_count": 7,
      "outputs": [
        {
          "output_type": "stream",
          "name": "stdout",
          "text": [
            "     shop_id  average_customer_spending\n",
            "0    SHOP001                1328.519678\n",
            "1    SHOP002                1196.916958\n",
            "2    SHOP003                 931.683624\n",
            "3    SHOP004                 901.204128\n",
            "4    SHOP005                 975.270086\n",
            "..       ...                        ...\n",
            "119  SHOP123                 853.990509\n",
            "120  SHOP124                1300.828584\n",
            "121  SHOP125                1509.960806\n",
            "122  SHOP126                1070.438101\n",
            "123  SHOP127                1700.917843\n",
            "\n",
            "[124 rows x 2 columns]\n"
          ]
        }
      ]
    },
    {
      "cell_type": "code",
      "source": [
        "# assuming you have a DataFrame named df with the given features\n",
        "# group the data by shop_id and customer_id\n",
        "grouped = historical_data.groupby(['shop_id', 'customer_id'])\n",
        "\n",
        "# calculate the number of distinct invoices for each customer at each shop\n",
        "num_invoices = grouped['invoice_id'].nunique()\n",
        "\n",
        "# calculate the average number of invoices for each customer at each shop\n",
        "average_invoices = num_invoices.groupby('shop_id').mean()\n",
        "\n",
        "# create a new DataFrame with the shop_id and average_transactions_customer_make columns\n",
        "result = pd.DataFrame({'shop_id': average_invoices.index, 'average_transactions_customer_make': average_invoices.values})\n",
        "\n",
        "print(result)"
      ],
      "metadata": {
        "colab": {
          "base_uri": "https://localhost:8080/"
        },
        "id": "eQl9Uakt32bC",
        "outputId": "8ab06178-bceb-4051-be18-58a9e87f8375"
      },
      "execution_count": 9,
      "outputs": [
        {
          "output_type": "stream",
          "name": "stdout",
          "text": [
            "     shop_id  average_transactions_customer_make\n",
            "0    SHOP001                            1.374776\n",
            "1    SHOP002                            1.462553\n",
            "2    SHOP003                            1.389050\n",
            "3    SHOP004                            1.514335\n",
            "4    SHOP005                            1.444848\n",
            "..       ...                                 ...\n",
            "119  SHOP123                            1.387403\n",
            "120  SHOP124                            1.423498\n",
            "121  SHOP125                            1.426652\n",
            "122  SHOP126                            1.448841\n",
            "123  SHOP127                            1.314078\n",
            "\n",
            "[124 rows x 2 columns]\n"
          ]
        }
      ]
    },
    {
      "cell_type": "code",
      "source": [
        "merged_df = pd.merge(historical_data, store_info_data, on='shop_id', how='left')\n",
        "\n",
        "merged_df.head()"
      ],
      "metadata": {
        "colab": {
          "base_uri": "https://localhost:8080/",
          "height": 357
        },
        "id": "lUc_5sfCSItZ",
        "outputId": "1c83fd9d-69f4-4cc6-b547-0cbbd731f79c"
      },
      "execution_count": null,
      "outputs": [
        {
          "output_type": "execute_result",
          "data": {
            "text/plain": [
              "        item_description          transaction_date  invoice_id customer_id  \\\n",
              "0     ORANGE BARLEY 1.5L  2021-12-11T00:00:00.000Z       147.0        BGXA   \n",
              "1       GINGER BEER 1.5L  2021-10-17T00:00:00.000Z       371.0        IA25   \n",
              "2        TONIC PET 500ML  2021-12-13T00:00:00.000Z       484.0        VN7V   \n",
              "3          CREAM SODA 1L  2021-12-13T00:00:00.000Z       484.0        VN7V   \n",
              "4  STRAWBERRY MILK 180ML  2021-10-23T00:00:00.000Z      1310.0        7S00   \n",
              "\n",
              "   shop_id  item_price  quantity_sold  shop_area_sq_ft shop_profile  \n",
              "0  SHOP008         220              2              678     Moderate  \n",
              "1  SHOP112         220              2              668     Moderate  \n",
              "2  SHOP008         160              2              678     Moderate  \n",
              "3  SHOP008         150              2              678     Moderate  \n",
              "4  SHOP112         210              5              668     Moderate  "
            ],
            "text/html": [
              "\n",
              "  <div id=\"df-a635e27c-084b-4575-a215-6e56ea46c9ce\">\n",
              "    <div class=\"colab-df-container\">\n",
              "      <div>\n",
              "<style scoped>\n",
              "    .dataframe tbody tr th:only-of-type {\n",
              "        vertical-align: middle;\n",
              "    }\n",
              "\n",
              "    .dataframe tbody tr th {\n",
              "        vertical-align: top;\n",
              "    }\n",
              "\n",
              "    .dataframe thead th {\n",
              "        text-align: right;\n",
              "    }\n",
              "</style>\n",
              "<table border=\"1\" class=\"dataframe\">\n",
              "  <thead>\n",
              "    <tr style=\"text-align: right;\">\n",
              "      <th></th>\n",
              "      <th>item_description</th>\n",
              "      <th>transaction_date</th>\n",
              "      <th>invoice_id</th>\n",
              "      <th>customer_id</th>\n",
              "      <th>shop_id</th>\n",
              "      <th>item_price</th>\n",
              "      <th>quantity_sold</th>\n",
              "      <th>shop_area_sq_ft</th>\n",
              "      <th>shop_profile</th>\n",
              "    </tr>\n",
              "  </thead>\n",
              "  <tbody>\n",
              "    <tr>\n",
              "      <th>0</th>\n",
              "      <td>ORANGE BARLEY 1.5L</td>\n",
              "      <td>2021-12-11T00:00:00.000Z</td>\n",
              "      <td>147.0</td>\n",
              "      <td>BGXA</td>\n",
              "      <td>SHOP008</td>\n",
              "      <td>220</td>\n",
              "      <td>2</td>\n",
              "      <td>678</td>\n",
              "      <td>Moderate</td>\n",
              "    </tr>\n",
              "    <tr>\n",
              "      <th>1</th>\n",
              "      <td>GINGER BEER 1.5L</td>\n",
              "      <td>2021-10-17T00:00:00.000Z</td>\n",
              "      <td>371.0</td>\n",
              "      <td>IA25</td>\n",
              "      <td>SHOP112</td>\n",
              "      <td>220</td>\n",
              "      <td>2</td>\n",
              "      <td>668</td>\n",
              "      <td>Moderate</td>\n",
              "    </tr>\n",
              "    <tr>\n",
              "      <th>2</th>\n",
              "      <td>TONIC PET 500ML</td>\n",
              "      <td>2021-12-13T00:00:00.000Z</td>\n",
              "      <td>484.0</td>\n",
              "      <td>VN7V</td>\n",
              "      <td>SHOP008</td>\n",
              "      <td>160</td>\n",
              "      <td>2</td>\n",
              "      <td>678</td>\n",
              "      <td>Moderate</td>\n",
              "    </tr>\n",
              "    <tr>\n",
              "      <th>3</th>\n",
              "      <td>CREAM SODA 1L</td>\n",
              "      <td>2021-12-13T00:00:00.000Z</td>\n",
              "      <td>484.0</td>\n",
              "      <td>VN7V</td>\n",
              "      <td>SHOP008</td>\n",
              "      <td>150</td>\n",
              "      <td>2</td>\n",
              "      <td>678</td>\n",
              "      <td>Moderate</td>\n",
              "    </tr>\n",
              "    <tr>\n",
              "      <th>4</th>\n",
              "      <td>STRAWBERRY MILK 180ML</td>\n",
              "      <td>2021-10-23T00:00:00.000Z</td>\n",
              "      <td>1310.0</td>\n",
              "      <td>7S00</td>\n",
              "      <td>SHOP112</td>\n",
              "      <td>210</td>\n",
              "      <td>5</td>\n",
              "      <td>668</td>\n",
              "      <td>Moderate</td>\n",
              "    </tr>\n",
              "  </tbody>\n",
              "</table>\n",
              "</div>\n",
              "      <button class=\"colab-df-convert\" onclick=\"convertToInteractive('df-a635e27c-084b-4575-a215-6e56ea46c9ce')\"\n",
              "              title=\"Convert this dataframe to an interactive table.\"\n",
              "              style=\"display:none;\">\n",
              "        \n",
              "  <svg xmlns=\"http://www.w3.org/2000/svg\" height=\"24px\"viewBox=\"0 0 24 24\"\n",
              "       width=\"24px\">\n",
              "    <path d=\"M0 0h24v24H0V0z\" fill=\"none\"/>\n",
              "    <path d=\"M18.56 5.44l.94 2.06.94-2.06 2.06-.94-2.06-.94-.94-2.06-.94 2.06-2.06.94zm-11 1L8.5 8.5l.94-2.06 2.06-.94-2.06-.94L8.5 2.5l-.94 2.06-2.06.94zm10 10l.94 2.06.94-2.06 2.06-.94-2.06-.94-.94-2.06-.94 2.06-2.06.94z\"/><path d=\"M17.41 7.96l-1.37-1.37c-.4-.4-.92-.59-1.43-.59-.52 0-1.04.2-1.43.59L10.3 9.45l-7.72 7.72c-.78.78-.78 2.05 0 2.83L4 21.41c.39.39.9.59 1.41.59.51 0 1.02-.2 1.41-.59l7.78-7.78 2.81-2.81c.8-.78.8-2.07 0-2.86zM5.41 20L4 18.59l7.72-7.72 1.47 1.35L5.41 20z\"/>\n",
              "  </svg>\n",
              "      </button>\n",
              "      \n",
              "  <style>\n",
              "    .colab-df-container {\n",
              "      display:flex;\n",
              "      flex-wrap:wrap;\n",
              "      gap: 12px;\n",
              "    }\n",
              "\n",
              "    .colab-df-convert {\n",
              "      background-color: #E8F0FE;\n",
              "      border: none;\n",
              "      border-radius: 50%;\n",
              "      cursor: pointer;\n",
              "      display: none;\n",
              "      fill: #1967D2;\n",
              "      height: 32px;\n",
              "      padding: 0 0 0 0;\n",
              "      width: 32px;\n",
              "    }\n",
              "\n",
              "    .colab-df-convert:hover {\n",
              "      background-color: #E2EBFA;\n",
              "      box-shadow: 0px 1px 2px rgba(60, 64, 67, 0.3), 0px 1px 3px 1px rgba(60, 64, 67, 0.15);\n",
              "      fill: #174EA6;\n",
              "    }\n",
              "\n",
              "    [theme=dark] .colab-df-convert {\n",
              "      background-color: #3B4455;\n",
              "      fill: #D2E3FC;\n",
              "    }\n",
              "\n",
              "    [theme=dark] .colab-df-convert:hover {\n",
              "      background-color: #434B5C;\n",
              "      box-shadow: 0px 1px 3px 1px rgba(0, 0, 0, 0.15);\n",
              "      filter: drop-shadow(0px 1px 2px rgba(0, 0, 0, 0.3));\n",
              "      fill: #FFFFFF;\n",
              "    }\n",
              "  </style>\n",
              "\n",
              "      <script>\n",
              "        const buttonEl =\n",
              "          document.querySelector('#df-a635e27c-084b-4575-a215-6e56ea46c9ce button.colab-df-convert');\n",
              "        buttonEl.style.display =\n",
              "          google.colab.kernel.accessAllowed ? 'block' : 'none';\n",
              "\n",
              "        async function convertToInteractive(key) {\n",
              "          const element = document.querySelector('#df-a635e27c-084b-4575-a215-6e56ea46c9ce');\n",
              "          const dataTable =\n",
              "            await google.colab.kernel.invokeFunction('convertToInteractive',\n",
              "                                                     [key], {});\n",
              "          if (!dataTable) return;\n",
              "\n",
              "          const docLinkHtml = 'Like what you see? Visit the ' +\n",
              "            '<a target=\"_blank\" href=https://colab.research.google.com/notebooks/data_table.ipynb>data table notebook</a>'\n",
              "            + ' to learn more about interactive tables.';\n",
              "          element.innerHTML = '';\n",
              "          dataTable['output_type'] = 'display_data';\n",
              "          await google.colab.output.renderOutput(dataTable, element);\n",
              "          const docLink = document.createElement('div');\n",
              "          docLink.innerHTML = docLinkHtml;\n",
              "          element.appendChild(docLink);\n",
              "        }\n",
              "      </script>\n",
              "    </div>\n",
              "  </div>\n",
              "  "
            ]
          },
          "metadata": {},
          "execution_count": 3
        }
      ]
    },
    {
      "cell_type": "code",
      "source": [
        "# create a dictionary mapping item prices to their most common item descriptions\n",
        "price_to_mode = merged_df.groupby('item_description')['item_price'].apply(lambda x: x.mode()[0]).to_dict()\n",
        "# Loop through each row in merged_df\n",
        "for index, row in merged_df.iterrows():\n",
        "    # Check if item_description is null\n",
        "    if pd.isnull(row['item_description']):\n",
        "        # Find the item name in price_to_mode that has the same price\n",
        "        item_name = [key for key, value in price_to_mode.items() if value == row['item_price']]\n",
        "        # If there is a matching item name, fill the null value in item_description\n",
        "        if item_name:\n",
        "            merged_df.at[index, 'item_description'] = item_name[0]\n",
        "\n",
        "null_count = merged_df['item_description'].isnull().sum()\n",
        "print(\"Number of null values in item_description feature:\", null_count)"
      ],
      "metadata": {
        "colab": {
          "base_uri": "https://localhost:8080/"
        },
        "id": "qVaKb9noSLKJ",
        "outputId": "f72f183f-7559-4b77-ae09-22ec9073a434"
      },
      "execution_count": null,
      "outputs": [
        {
          "output_type": "stream",
          "name": "stdout",
          "text": [
            "Number of null values in item_description feature: 15503\n"
          ]
        }
      ]
    },
    {
      "cell_type": "code",
      "source": [
        "merged_df['item_price'] = merged_df.apply(lambda row: price_to_mode[row['item_description']] if pd.isnull(row['item_price']) else row['item_price'], axis=1)\n",
        "\n",
        "null_count = merged_df['item_price'].isnull().sum()\n",
        "print(\"Number of null values in item_price feature:\", null_count)"
      ],
      "metadata": {
        "colab": {
          "base_uri": "https://localhost:8080/"
        },
        "id": "OiHrFfi5SWG4",
        "outputId": "e4ecd0c0-2003-4bf1-b498-2912d0f86740"
      },
      "execution_count": null,
      "outputs": [
        {
          "output_type": "stream",
          "name": "stdout",
          "text": [
            "Number of null values in item_price feature: 0\n"
          ]
        }
      ]
    },
    {
      "cell_type": "code",
      "source": [
        "merged_df.dropna(subset=['item_description'], inplace=True)\n",
        "\n",
        "null_count = merged_df['item_description'].isnull().sum()\n",
        "print(\"Number of null values in item_description feature:\", null_count)"
      ],
      "metadata": {
        "colab": {
          "base_uri": "https://localhost:8080/"
        },
        "id": "nKRiWmGeScT0",
        "outputId": "b627cae5-390e-4677-f4c8-d885d28f6a35"
      },
      "execution_count": null,
      "outputs": [
        {
          "output_type": "stream",
          "name": "stdout",
          "text": [
            "Number of null values in item_description feature: 0\n"
          ]
        }
      ]
    },
    {
      "cell_type": "code",
      "source": [
        "merged_df.dropna(subset=['invoice_id'], inplace=True)\n",
        "\n",
        "null_count = merged_df['invoice_id'].isnull().sum()\n",
        "print(\"Number of null values in invoice_id feature:\", null_count)"
      ],
      "metadata": {
        "colab": {
          "base_uri": "https://localhost:8080/"
        },
        "id": "p-JjjNPJSfmw",
        "outputId": "6ef45d83-b504-4533-ecd3-bc9ec72a33d1"
      },
      "execution_count": null,
      "outputs": [
        {
          "output_type": "stream",
          "name": "stdout",
          "text": [
            "Number of null values in invoice_id feature: 0\n"
          ]
        }
      ]
    },
    {
      "cell_type": "code",
      "source": [
        "# Select columns with numeric data types\n",
        "numeric_cols = merged_df.select_dtypes(include=[int, float])\n",
        "\n",
        "# Drop rows with negative values in any numeric column\n",
        "merged_df = merged_df.drop(numeric_cols[(numeric_cols < 0).any(1)].index)"
      ],
      "metadata": {
        "colab": {
          "base_uri": "https://localhost:8080/"
        },
        "id": "m7_Us7RjSg3A",
        "outputId": "c97a36d6-3ebe-4cff-8a84-7a7a63cdb5d0"
      },
      "execution_count": null,
      "outputs": [
        {
          "output_type": "stream",
          "name": "stderr",
          "text": [
            "<ipython-input-8-e7cf8abd89dd>:5: FutureWarning: In a future version of pandas all arguments of DataFrame.any and Series.any will be keyword-only.\n",
            "  merged_df = merged_df.drop(numeric_cols[(numeric_cols < 0).any(1)].index)\n"
          ]
        }
      ]
    },
    {
      "cell_type": "code",
      "source": [
        "from sklearn.preprocessing import LabelEncoder\n",
        "\n",
        "# instantiate a LabelEncoder object\n",
        "le = LabelEncoder()\n",
        "\n",
        "# label encode the item_description, customer_id, and shop_profile columns\n",
        "merged_df['item_description'] = le.fit_transform(merged_df['item_description'])\n",
        "merged_df['customer_id'] = le.fit_transform(merged_df['customer_id'])\n",
        "\n",
        "# replace the values in the shop_profile column with 1 for High, 2 for Moderate, and 3 for Low\n",
        "merged_df['shop_profile'] = merged_df['shop_profile'].replace({'Low':3, 'Moderate':2, 'High':1})\n",
        "\n",
        "merged_df.head()"
      ],
      "metadata": {
        "colab": {
          "base_uri": "https://localhost:8080/",
          "height": 357
        },
        "id": "LIZClqxFSoeR",
        "outputId": "c9c8389f-f0f9-40e0-fac5-e95aeb83cccc"
      },
      "execution_count": null,
      "outputs": [
        {
          "output_type": "execute_result",
          "data": {
            "text/plain": [
              "   item_description          transaction_date  invoice_id  customer_id  \\\n",
              "0                27  2021-12-11T00:00:00.000Z       147.0        59378   \n",
              "1                14  2021-10-17T00:00:00.000Z       371.0        94694   \n",
              "2                35  2021-12-13T00:00:00.000Z       484.0       163963   \n",
              "3                 4  2021-12-13T00:00:00.000Z       484.0       163963   \n",
              "4                34  2021-10-23T00:00:00.000Z      1310.0        40280   \n",
              "\n",
              "   shop_id  item_price  quantity_sold  shop_area_sq_ft  shop_profile  \n",
              "0  SHOP008         220              2              678           2.0  \n",
              "1  SHOP112         220              2              668           2.0  \n",
              "2  SHOP008         160              2              678           2.0  \n",
              "3  SHOP008         150              2              678           2.0  \n",
              "4  SHOP112         210              5              668           2.0  "
            ],
            "text/html": [
              "\n",
              "  <div id=\"df-ee4cdf0e-7b23-4d62-be75-fff343cf37a8\">\n",
              "    <div class=\"colab-df-container\">\n",
              "      <div>\n",
              "<style scoped>\n",
              "    .dataframe tbody tr th:only-of-type {\n",
              "        vertical-align: middle;\n",
              "    }\n",
              "\n",
              "    .dataframe tbody tr th {\n",
              "        vertical-align: top;\n",
              "    }\n",
              "\n",
              "    .dataframe thead th {\n",
              "        text-align: right;\n",
              "    }\n",
              "</style>\n",
              "<table border=\"1\" class=\"dataframe\">\n",
              "  <thead>\n",
              "    <tr style=\"text-align: right;\">\n",
              "      <th></th>\n",
              "      <th>item_description</th>\n",
              "      <th>transaction_date</th>\n",
              "      <th>invoice_id</th>\n",
              "      <th>customer_id</th>\n",
              "      <th>shop_id</th>\n",
              "      <th>item_price</th>\n",
              "      <th>quantity_sold</th>\n",
              "      <th>shop_area_sq_ft</th>\n",
              "      <th>shop_profile</th>\n",
              "    </tr>\n",
              "  </thead>\n",
              "  <tbody>\n",
              "    <tr>\n",
              "      <th>0</th>\n",
              "      <td>27</td>\n",
              "      <td>2021-12-11T00:00:00.000Z</td>\n",
              "      <td>147.0</td>\n",
              "      <td>59378</td>\n",
              "      <td>SHOP008</td>\n",
              "      <td>220</td>\n",
              "      <td>2</td>\n",
              "      <td>678</td>\n",
              "      <td>2.0</td>\n",
              "    </tr>\n",
              "    <tr>\n",
              "      <th>1</th>\n",
              "      <td>14</td>\n",
              "      <td>2021-10-17T00:00:00.000Z</td>\n",
              "      <td>371.0</td>\n",
              "      <td>94694</td>\n",
              "      <td>SHOP112</td>\n",
              "      <td>220</td>\n",
              "      <td>2</td>\n",
              "      <td>668</td>\n",
              "      <td>2.0</td>\n",
              "    </tr>\n",
              "    <tr>\n",
              "      <th>2</th>\n",
              "      <td>35</td>\n",
              "      <td>2021-12-13T00:00:00.000Z</td>\n",
              "      <td>484.0</td>\n",
              "      <td>163963</td>\n",
              "      <td>SHOP008</td>\n",
              "      <td>160</td>\n",
              "      <td>2</td>\n",
              "      <td>678</td>\n",
              "      <td>2.0</td>\n",
              "    </tr>\n",
              "    <tr>\n",
              "      <th>3</th>\n",
              "      <td>4</td>\n",
              "      <td>2021-12-13T00:00:00.000Z</td>\n",
              "      <td>484.0</td>\n",
              "      <td>163963</td>\n",
              "      <td>SHOP008</td>\n",
              "      <td>150</td>\n",
              "      <td>2</td>\n",
              "      <td>678</td>\n",
              "      <td>2.0</td>\n",
              "    </tr>\n",
              "    <tr>\n",
              "      <th>4</th>\n",
              "      <td>34</td>\n",
              "      <td>2021-10-23T00:00:00.000Z</td>\n",
              "      <td>1310.0</td>\n",
              "      <td>40280</td>\n",
              "      <td>SHOP112</td>\n",
              "      <td>210</td>\n",
              "      <td>5</td>\n",
              "      <td>668</td>\n",
              "      <td>2.0</td>\n",
              "    </tr>\n",
              "  </tbody>\n",
              "</table>\n",
              "</div>\n",
              "      <button class=\"colab-df-convert\" onclick=\"convertToInteractive('df-ee4cdf0e-7b23-4d62-be75-fff343cf37a8')\"\n",
              "              title=\"Convert this dataframe to an interactive table.\"\n",
              "              style=\"display:none;\">\n",
              "        \n",
              "  <svg xmlns=\"http://www.w3.org/2000/svg\" height=\"24px\"viewBox=\"0 0 24 24\"\n",
              "       width=\"24px\">\n",
              "    <path d=\"M0 0h24v24H0V0z\" fill=\"none\"/>\n",
              "    <path d=\"M18.56 5.44l.94 2.06.94-2.06 2.06-.94-2.06-.94-.94-2.06-.94 2.06-2.06.94zm-11 1L8.5 8.5l.94-2.06 2.06-.94-2.06-.94L8.5 2.5l-.94 2.06-2.06.94zm10 10l.94 2.06.94-2.06 2.06-.94-2.06-.94-.94-2.06-.94 2.06-2.06.94z\"/><path d=\"M17.41 7.96l-1.37-1.37c-.4-.4-.92-.59-1.43-.59-.52 0-1.04.2-1.43.59L10.3 9.45l-7.72 7.72c-.78.78-.78 2.05 0 2.83L4 21.41c.39.39.9.59 1.41.59.51 0 1.02-.2 1.41-.59l7.78-7.78 2.81-2.81c.8-.78.8-2.07 0-2.86zM5.41 20L4 18.59l7.72-7.72 1.47 1.35L5.41 20z\"/>\n",
              "  </svg>\n",
              "      </button>\n",
              "      \n",
              "  <style>\n",
              "    .colab-df-container {\n",
              "      display:flex;\n",
              "      flex-wrap:wrap;\n",
              "      gap: 12px;\n",
              "    }\n",
              "\n",
              "    .colab-df-convert {\n",
              "      background-color: #E8F0FE;\n",
              "      border: none;\n",
              "      border-radius: 50%;\n",
              "      cursor: pointer;\n",
              "      display: none;\n",
              "      fill: #1967D2;\n",
              "      height: 32px;\n",
              "      padding: 0 0 0 0;\n",
              "      width: 32px;\n",
              "    }\n",
              "\n",
              "    .colab-df-convert:hover {\n",
              "      background-color: #E2EBFA;\n",
              "      box-shadow: 0px 1px 2px rgba(60, 64, 67, 0.3), 0px 1px 3px 1px rgba(60, 64, 67, 0.15);\n",
              "      fill: #174EA6;\n",
              "    }\n",
              "\n",
              "    [theme=dark] .colab-df-convert {\n",
              "      background-color: #3B4455;\n",
              "      fill: #D2E3FC;\n",
              "    }\n",
              "\n",
              "    [theme=dark] .colab-df-convert:hover {\n",
              "      background-color: #434B5C;\n",
              "      box-shadow: 0px 1px 3px 1px rgba(0, 0, 0, 0.15);\n",
              "      filter: drop-shadow(0px 1px 2px rgba(0, 0, 0, 0.3));\n",
              "      fill: #FFFFFF;\n",
              "    }\n",
              "  </style>\n",
              "\n",
              "      <script>\n",
              "        const buttonEl =\n",
              "          document.querySelector('#df-ee4cdf0e-7b23-4d62-be75-fff343cf37a8 button.colab-df-convert');\n",
              "        buttonEl.style.display =\n",
              "          google.colab.kernel.accessAllowed ? 'block' : 'none';\n",
              "\n",
              "        async function convertToInteractive(key) {\n",
              "          const element = document.querySelector('#df-ee4cdf0e-7b23-4d62-be75-fff343cf37a8');\n",
              "          const dataTable =\n",
              "            await google.colab.kernel.invokeFunction('convertToInteractive',\n",
              "                                                     [key], {});\n",
              "          if (!dataTable) return;\n",
              "\n",
              "          const docLinkHtml = 'Like what you see? Visit the ' +\n",
              "            '<a target=\"_blank\" href=https://colab.research.google.com/notebooks/data_table.ipynb>data table notebook</a>'\n",
              "            + ' to learn more about interactive tables.';\n",
              "          element.innerHTML = '';\n",
              "          dataTable['output_type'] = 'display_data';\n",
              "          await google.colab.output.renderOutput(dataTable, element);\n",
              "          const docLink = document.createElement('div');\n",
              "          docLink.innerHTML = docLinkHtml;\n",
              "          element.appendChild(docLink);\n",
              "        }\n",
              "      </script>\n",
              "    </div>\n",
              "  </div>\n",
              "  "
            ]
          },
          "metadata": {},
          "execution_count": 9
        }
      ]
    },
    {
      "cell_type": "code",
      "source": [
        "# Parse the transaction_date column as a datetime object\n",
        "merged_df['transaction_date'] = pd.to_datetime(merged_df['transaction_date'])\n",
        "\n",
        "# Extract relevant features from the transaction_date column\n",
        "merged_df['year'] = merged_df['transaction_date'].dt.year\n",
        "merged_df['month'] = merged_df['transaction_date'].dt.month\n",
        "merged_df['day_of_week'] = merged_df['transaction_date'].dt.dayofweek\n",
        "merged_df['hour'] = merged_df['transaction_date'].dt.hour\n",
        "\n",
        "merged_df = merged_df.drop('transaction_date', axis=1)\n",
        "\n",
        "merged_df.head()"
      ],
      "metadata": {
        "colab": {
          "base_uri": "https://localhost:8080/",
          "height": 270
        },
        "id": "XmchFFY7SrXl",
        "outputId": "ee1dbc98-0f0b-4252-c1d7-259ead18713a"
      },
      "execution_count": null,
      "outputs": [
        {
          "output_type": "execute_result",
          "data": {
            "text/plain": [
              "   item_description  invoice_id  customer_id  shop_id  item_price  \\\n",
              "0                27       147.0        59378  SHOP008         220   \n",
              "1                14       371.0        94694  SHOP112         220   \n",
              "2                35       484.0       163963  SHOP008         160   \n",
              "3                 4       484.0       163963  SHOP008         150   \n",
              "4                34      1310.0        40280  SHOP112         210   \n",
              "\n",
              "   quantity_sold  shop_area_sq_ft  shop_profile  year  month  day_of_week  \\\n",
              "0              2              678           2.0  2021     12            5   \n",
              "1              2              668           2.0  2021     10            6   \n",
              "2              2              678           2.0  2021     12            0   \n",
              "3              2              678           2.0  2021     12            0   \n",
              "4              5              668           2.0  2021     10            5   \n",
              "\n",
              "   hour  \n",
              "0     0  \n",
              "1     0  \n",
              "2     0  \n",
              "3     0  \n",
              "4     0  "
            ],
            "text/html": [
              "\n",
              "  <div id=\"df-330f7134-8cec-4497-815a-d01f267c11d5\">\n",
              "    <div class=\"colab-df-container\">\n",
              "      <div>\n",
              "<style scoped>\n",
              "    .dataframe tbody tr th:only-of-type {\n",
              "        vertical-align: middle;\n",
              "    }\n",
              "\n",
              "    .dataframe tbody tr th {\n",
              "        vertical-align: top;\n",
              "    }\n",
              "\n",
              "    .dataframe thead th {\n",
              "        text-align: right;\n",
              "    }\n",
              "</style>\n",
              "<table border=\"1\" class=\"dataframe\">\n",
              "  <thead>\n",
              "    <tr style=\"text-align: right;\">\n",
              "      <th></th>\n",
              "      <th>item_description</th>\n",
              "      <th>invoice_id</th>\n",
              "      <th>customer_id</th>\n",
              "      <th>shop_id</th>\n",
              "      <th>item_price</th>\n",
              "      <th>quantity_sold</th>\n",
              "      <th>shop_area_sq_ft</th>\n",
              "      <th>shop_profile</th>\n",
              "      <th>year</th>\n",
              "      <th>month</th>\n",
              "      <th>day_of_week</th>\n",
              "      <th>hour</th>\n",
              "    </tr>\n",
              "  </thead>\n",
              "  <tbody>\n",
              "    <tr>\n",
              "      <th>0</th>\n",
              "      <td>27</td>\n",
              "      <td>147.0</td>\n",
              "      <td>59378</td>\n",
              "      <td>SHOP008</td>\n",
              "      <td>220</td>\n",
              "      <td>2</td>\n",
              "      <td>678</td>\n",
              "      <td>2.0</td>\n",
              "      <td>2021</td>\n",
              "      <td>12</td>\n",
              "      <td>5</td>\n",
              "      <td>0</td>\n",
              "    </tr>\n",
              "    <tr>\n",
              "      <th>1</th>\n",
              "      <td>14</td>\n",
              "      <td>371.0</td>\n",
              "      <td>94694</td>\n",
              "      <td>SHOP112</td>\n",
              "      <td>220</td>\n",
              "      <td>2</td>\n",
              "      <td>668</td>\n",
              "      <td>2.0</td>\n",
              "      <td>2021</td>\n",
              "      <td>10</td>\n",
              "      <td>6</td>\n",
              "      <td>0</td>\n",
              "    </tr>\n",
              "    <tr>\n",
              "      <th>2</th>\n",
              "      <td>35</td>\n",
              "      <td>484.0</td>\n",
              "      <td>163963</td>\n",
              "      <td>SHOP008</td>\n",
              "      <td>160</td>\n",
              "      <td>2</td>\n",
              "      <td>678</td>\n",
              "      <td>2.0</td>\n",
              "      <td>2021</td>\n",
              "      <td>12</td>\n",
              "      <td>0</td>\n",
              "      <td>0</td>\n",
              "    </tr>\n",
              "    <tr>\n",
              "      <th>3</th>\n",
              "      <td>4</td>\n",
              "      <td>484.0</td>\n",
              "      <td>163963</td>\n",
              "      <td>SHOP008</td>\n",
              "      <td>150</td>\n",
              "      <td>2</td>\n",
              "      <td>678</td>\n",
              "      <td>2.0</td>\n",
              "      <td>2021</td>\n",
              "      <td>12</td>\n",
              "      <td>0</td>\n",
              "      <td>0</td>\n",
              "    </tr>\n",
              "    <tr>\n",
              "      <th>4</th>\n",
              "      <td>34</td>\n",
              "      <td>1310.0</td>\n",
              "      <td>40280</td>\n",
              "      <td>SHOP112</td>\n",
              "      <td>210</td>\n",
              "      <td>5</td>\n",
              "      <td>668</td>\n",
              "      <td>2.0</td>\n",
              "      <td>2021</td>\n",
              "      <td>10</td>\n",
              "      <td>5</td>\n",
              "      <td>0</td>\n",
              "    </tr>\n",
              "  </tbody>\n",
              "</table>\n",
              "</div>\n",
              "      <button class=\"colab-df-convert\" onclick=\"convertToInteractive('df-330f7134-8cec-4497-815a-d01f267c11d5')\"\n",
              "              title=\"Convert this dataframe to an interactive table.\"\n",
              "              style=\"display:none;\">\n",
              "        \n",
              "  <svg xmlns=\"http://www.w3.org/2000/svg\" height=\"24px\"viewBox=\"0 0 24 24\"\n",
              "       width=\"24px\">\n",
              "    <path d=\"M0 0h24v24H0V0z\" fill=\"none\"/>\n",
              "    <path d=\"M18.56 5.44l.94 2.06.94-2.06 2.06-.94-2.06-.94-.94-2.06-.94 2.06-2.06.94zm-11 1L8.5 8.5l.94-2.06 2.06-.94-2.06-.94L8.5 2.5l-.94 2.06-2.06.94zm10 10l.94 2.06.94-2.06 2.06-.94-2.06-.94-.94-2.06-.94 2.06-2.06.94z\"/><path d=\"M17.41 7.96l-1.37-1.37c-.4-.4-.92-.59-1.43-.59-.52 0-1.04.2-1.43.59L10.3 9.45l-7.72 7.72c-.78.78-.78 2.05 0 2.83L4 21.41c.39.39.9.59 1.41.59.51 0 1.02-.2 1.41-.59l7.78-7.78 2.81-2.81c.8-.78.8-2.07 0-2.86zM5.41 20L4 18.59l7.72-7.72 1.47 1.35L5.41 20z\"/>\n",
              "  </svg>\n",
              "      </button>\n",
              "      \n",
              "  <style>\n",
              "    .colab-df-container {\n",
              "      display:flex;\n",
              "      flex-wrap:wrap;\n",
              "      gap: 12px;\n",
              "    }\n",
              "\n",
              "    .colab-df-convert {\n",
              "      background-color: #E8F0FE;\n",
              "      border: none;\n",
              "      border-radius: 50%;\n",
              "      cursor: pointer;\n",
              "      display: none;\n",
              "      fill: #1967D2;\n",
              "      height: 32px;\n",
              "      padding: 0 0 0 0;\n",
              "      width: 32px;\n",
              "    }\n",
              "\n",
              "    .colab-df-convert:hover {\n",
              "      background-color: #E2EBFA;\n",
              "      box-shadow: 0px 1px 2px rgba(60, 64, 67, 0.3), 0px 1px 3px 1px rgba(60, 64, 67, 0.15);\n",
              "      fill: #174EA6;\n",
              "    }\n",
              "\n",
              "    [theme=dark] .colab-df-convert {\n",
              "      background-color: #3B4455;\n",
              "      fill: #D2E3FC;\n",
              "    }\n",
              "\n",
              "    [theme=dark] .colab-df-convert:hover {\n",
              "      background-color: #434B5C;\n",
              "      box-shadow: 0px 1px 3px 1px rgba(0, 0, 0, 0.15);\n",
              "      filter: drop-shadow(0px 1px 2px rgba(0, 0, 0, 0.3));\n",
              "      fill: #FFFFFF;\n",
              "    }\n",
              "  </style>\n",
              "\n",
              "      <script>\n",
              "        const buttonEl =\n",
              "          document.querySelector('#df-330f7134-8cec-4497-815a-d01f267c11d5 button.colab-df-convert');\n",
              "        buttonEl.style.display =\n",
              "          google.colab.kernel.accessAllowed ? 'block' : 'none';\n",
              "\n",
              "        async function convertToInteractive(key) {\n",
              "          const element = document.querySelector('#df-330f7134-8cec-4497-815a-d01f267c11d5');\n",
              "          const dataTable =\n",
              "            await google.colab.kernel.invokeFunction('convertToInteractive',\n",
              "                                                     [key], {});\n",
              "          if (!dataTable) return;\n",
              "\n",
              "          const docLinkHtml = 'Like what you see? Visit the ' +\n",
              "            '<a target=\"_blank\" href=https://colab.research.google.com/notebooks/data_table.ipynb>data table notebook</a>'\n",
              "            + ' to learn more about interactive tables.';\n",
              "          element.innerHTML = '';\n",
              "          dataTable['output_type'] = 'display_data';\n",
              "          await google.colab.output.renderOutput(dataTable, element);\n",
              "          const docLink = document.createElement('div');\n",
              "          docLink.innerHTML = docLinkHtml;\n",
              "          element.appendChild(docLink);\n",
              "        }\n",
              "      </script>\n",
              "    </div>\n",
              "  </div>\n",
              "  "
            ]
          },
          "metadata": {},
          "execution_count": 10
        }
      ]
    },
    {
      "cell_type": "code",
      "source": [
        "import matplotlib.pyplot as plt\n",
        "\n",
        "# Create a list of columns to plot\n",
        "columns_to_plot = ['item_description', 'invoice_id', 'customer_id', 'item_price', 'quantity_sold', 'shop_area_sq_ft', 'shop_profile', 'year', 'month', 'day_of_week', 'hour']\n",
        "\n",
        "# Create a boxplot for each column\n",
        "merged_df[columns_to_plot].boxplot()\n",
        "plt.show()"
      ],
      "metadata": {
        "colab": {
          "base_uri": "https://localhost:8080/",
          "height": 445
        },
        "id": "bxMBAH6_Szkp",
        "outputId": "c072c63b-b0c8-4a17-ef8a-85c4697577c8"
      },
      "execution_count": null,
      "outputs": [
        {
          "output_type": "display_data",
          "data": {
            "text/plain": [
              "<Figure size 640x480 with 1 Axes>"
            ],
            "image/png": "[encoded data removed]"
          },
          "metadata": {}
        }
      ]
    },
    {
      "cell_type": "code",
      "source": [
        "# Group merged_df by shop_id\n",
        "grouped = merged_df.groupby('shop_id')\n",
        "\n",
        "# Calculate total sales for each shop\n",
        "total_sales = grouped['item_price'].sum()\n",
        "\n",
        "# Calculate average transaction value for each shop\n",
        "avg_transaction_value = grouped['item_price'].mean()\n",
        "\n",
        "# Calculate number of unique customers for each shop\n",
        "num_unique_customers = grouped['customer_id'].nunique()\n",
        "\n",
        "# Calculate most popular item for each shop\n",
        "most_popular_item = grouped['item_description'].agg(lambda x:x.value_counts().index[0])\n",
        "\n",
        "# Calculate total quantity sold for each shop\n",
        "total_quantity_sold = grouped['quantity_sold'].sum()\n",
        "\n",
        "# Calculate average item price for each shop\n",
        "avg_item_price = grouped['item_price'].mean()\n",
        "\n",
        "# Calculate number of unique items for each shop\n",
        "num_unique_items = grouped['item_description'].nunique()\n",
        "\n",
        "# Calculate most expensive item for each shop\n",
        "most_expensive_item = grouped.apply(lambda x: x.loc[x['item_price'].idxmax(), \"item_description\"])\n",
        "\n",
        "# Merge calculated features into store_info_data DataFrame\n",
        "store_info_data = store_info_data.merge(total_sales.rename('total_sales'), how='left', on='shop_id')\n",
        "store_info_data = store_info_data.merge(avg_transaction_value.rename('avg_transaction_value'), how='left', on='shop_id')\n",
        "store_info_data = store_info_data.merge(num_unique_customers.rename('num_unique_customers'), how='left', on='shop_id')\n",
        "store_info_data = store_info_data.merge(most_popular_item.rename('most_popular_item'), how='left', on='shop_id')\n",
        "store_info_data = store_info_data.merge(total_quantity_sold.rename('total_quantity_sold'), how='left', on='shop_id')\n",
        "store_info_data = store_info_data.merge(avg_item_price.rename('avg_item_price'), how='left', on='shop_id')\n",
        "store_info_data = store_info_data.merge(num_unique_items.rename('num_unique_items'), how='left', on='shop_id')\n",
        "store_info_data = store_info_data.merge(most_expensive_item.rename('most_expensive_item'), how='left', on='shop_id')\n",
        "\n",
        "# Calculate sales per square foot for each shop\n",
        "store_info_data['sales_per_sq_ft'] = store_info_data['total_sales'] / store_info_data['shop_area_sq_ft']\n",
        "\n",
        "# Calculate average transaction value per square foot for each shop\n",
        "store_info_data['avg_transaction_value_per_sq_ft'] = store_info_data['avg_transaction_value'] / store_info_data['shop_area_sq_ft']\n",
        "\n",
        "# Calculate average item price per square foot for each shop\n",
        "store_info_data['avg_item_price_per_sq_ft'] = store_info_data['avg_item_price'] / store_info_data['shop_area_sq_ft']\n",
        "\n",
        "# Calculate the total number of transactions per day for each shop\n",
        "transactions_per_day = merged_df.groupby(['shop_id', 'year', 'month', 'day_of_week'])['invoice_id'].nunique().reset_index(name='transactions')\n",
        "\n",
        "# Calculate the average number of transactions per day for each shop\n",
        "avg_transactions_per_day = transactions_per_day.groupby('shop_id')['transactions'].mean().reset_index(name='avg_transactions_per_day')\n",
        "\n",
        "# Merge the result with the store_info_data dataframe\n",
        "store_info_data = store_info_data.merge(avg_transactions_per_day, on='shop_id', how='left')\n",
        "\n",
        "# Display final store_info_data DataFrame\n",
        "store_info_data.head()"
      ],
      "metadata": {
        "colab": {
          "base_uri": "https://localhost:8080/",
          "height": 270
        },
        "id": "IL9VRG6_TLyX",
        "outputId": "5e4c906f-6931-4c33-ba26-25b94cdb0a7f"
      },
      "execution_count": null,
      "outputs": [
        {
          "output_type": "execute_result",
          "data": {
            "text/plain": [
              "   shop_id  shop_area_sq_ft shop_profile  total_sales  avg_transaction_value  \\\n",
              "0  SHOP047              528     Moderate       319755             199.472863   \n",
              "1  SHOP009              676         High       818470             188.240570   \n",
              "2  SHOP083              676          Low       707410             203.395630   \n",
              "3  SHOP117              676          Low       855540             218.083100   \n",
              "4  SHOP042              676          Low       591515             188.982428   \n",
              "\n",
              "   num_unique_customers  most_popular_item  total_quantity_sold  \\\n",
              "0                   890                 14                 2979   \n",
              "1                  2398                 14                 7668   \n",
              "2                  1831                 14                 6236   \n",
              "3                  1985                 14                 7558   \n",
              "4                  1775                 14                 5417   \n",
              "\n",
              "   avg_item_price  num_unique_items  most_expensive_item  sales_per_sq_ft  \\\n",
              "0      199.472863                36                   17       605.596591   \n",
              "1      188.240570                36                   10      1210.754438   \n",
              "2      203.395630                36                   27      1046.464497   \n",
              "3      218.083100                37                   33      1265.591716   \n",
              "4      188.982428                36                   27       875.022189   \n",
              "\n",
              "   avg_transaction_value_per_sq_ft  avg_item_price_per_sq_ft  \\\n",
              "0                         0.377790                  0.377790   \n",
              "1                         0.278462                  0.278462   \n",
              "2                         0.300881                  0.300881   \n",
              "3                         0.322608                  0.322608   \n",
              "4                         0.279560                  0.279560   \n",
              "\n",
              "   avg_transactions_per_day  \n",
              "0                 59.000000  \n",
              "1                160.476190  \n",
              "2                125.619048  \n",
              "3                146.857143  \n",
              "4                115.238095  "
            ],
            "text/html": [
              "\n",
              "  <div id=\"df-760f7400-76c1-4dd2-8072-7c31136052b5\">\n",
              "    <div class=\"colab-df-container\">\n",
              "      <div>\n",
              "<style scoped>\n",
              "    .dataframe tbody tr th:only-of-type {\n",
              "        vertical-align: middle;\n",
              "    }\n",
              "\n",
              "    .dataframe tbody tr th {\n",
              "        vertical-align: top;\n",
              "    }\n",
              "\n",
              "    .dataframe thead th {\n",
              "        text-align: right;\n",
              "    }\n",
              "</style>\n",
              "<table border=\"1\" class=\"dataframe\">\n",
              "  <thead>\n",
              "    <tr style=\"text-align: right;\">\n",
              "      <th></th>\n",
              "      <th>shop_id</th>\n",
              "      <th>shop_area_sq_ft</th>\n",
              "      <th>shop_profile</th>\n",
              "      <th>total_sales</th>\n",
              "      <th>avg_transaction_value</th>\n",
              "      <th>num_unique_customers</th>\n",
              "      <th>most_popular_item</th>\n",
              "      <th>total_quantity_sold</th>\n",
              "      <th>avg_item_price</th>\n",
              "      <th>num_unique_items</th>\n",
              "      <th>most_expensive_item</th>\n",
              "      <th>sales_per_sq_ft</th>\n",
              "      <th>avg_transaction_value_per_sq_ft</th>\n",
              "      <th>avg_item_price_per_sq_ft</th>\n",
              "      <th>avg_transactions_per_day</th>\n",
              "    </tr>\n",
              "  </thead>\n",
              "  <tbody>\n",
              "    <tr>\n",
              "      <th>0</th>\n",
              "      <td>SHOP047</td>\n",
              "      <td>528</td>\n",
              "      <td>Moderate</td>\n",
              "      <td>319755</td>\n",
              "      <td>199.472863</td>\n",
              "      <td>890</td>\n",
              "      <td>14</td>\n",
              "      <td>2979</td>\n",
              "      <td>199.472863</td>\n",
              "      <td>36</td>\n",
              "      <td>17</td>\n",
              "      <td>605.596591</td>\n",
              "      <td>0.377790</td>\n",
              "      <td>0.377790</td>\n",
              "      <td>59.000000</td>\n",
              "    </tr>\n",
              "    <tr>\n",
              "      <th>1</th>\n",
              "      <td>SHOP009</td>\n",
              "      <td>676</td>\n",
              "      <td>High</td>\n",
              "      <td>818470</td>\n",
              "      <td>188.240570</td>\n",
              "      <td>2398</td>\n",
              "      <td>14</td>\n",
              "      <td>7668</td>\n",
              "      <td>188.240570</td>\n",
              "      <td>36</td>\n",
              "      <td>10</td>\n",
              "      <td>1210.754438</td>\n",
              "      <td>0.278462</td>\n",
              "      <td>0.278462</td>\n",
              "      <td>160.476190</td>\n",
              "    </tr>\n",
              "    <tr>\n",
              "      <th>2</th>\n",
              "      <td>SHOP083</td>\n",
              "      <td>676</td>\n",
              "      <td>Low</td>\n",
              "      <td>707410</td>\n",
              "      <td>203.395630</td>\n",
              "      <td>1831</td>\n",
              "      <td>14</td>\n",
              "      <td>6236</td>\n",
              "      <td>203.395630</td>\n",
              "      <td>36</td>\n",
              "      <td>27</td>\n",
              "      <td>1046.464497</td>\n",
              "      <td>0.300881</td>\n",
              "      <td>0.300881</td>\n",
              "      <td>125.619048</td>\n",
              "    </tr>\n",
              "    <tr>\n",
              "      <th>3</th>\n",
              "      <td>SHOP117</td>\n",
              "      <td>676</td>\n",
              "      <td>Low</td>\n",
              "      <td>855540</td>\n",
              "      <td>218.083100</td>\n",
              "      <td>1985</td>\n",
              "      <td>14</td>\n",
              "      <td>7558</td>\n",
              "      <td>218.083100</td>\n",
              "      <td>37</td>\n",
              "      <td>33</td>\n",
              "      <td>1265.591716</td>\n",
              "      <td>0.322608</td>\n",
              "      <td>0.322608</td>\n",
              "      <td>146.857143</td>\n",
              "    </tr>\n",
              "    <tr>\n",
              "      <th>4</th>\n",
              "      <td>SHOP042</td>\n",
              "      <td>676</td>\n",
              "      <td>Low</td>\n",
              "      <td>591515</td>\n",
              "      <td>188.982428</td>\n",
              "      <td>1775</td>\n",
              "      <td>14</td>\n",
              "      <td>5417</td>\n",
              "      <td>188.982428</td>\n",
              "      <td>36</td>\n",
              "      <td>27</td>\n",
              "      <td>875.022189</td>\n",
              "      <td>0.279560</td>\n",
              "      <td>0.279560</td>\n",
              "      <td>115.238095</td>\n",
              "    </tr>\n",
              "  </tbody>\n",
              "</table>\n",
              "</div>\n",
              "      <button class=\"colab-df-convert\" onclick=\"convertToInteractive('df-760f7400-76c1-4dd2-8072-7c31136052b5')\"\n",
              "              title=\"Convert this dataframe to an interactive table.\"\n",
              "              style=\"display:none;\">\n",
              "        \n",
              "  <svg xmlns=\"http://www.w3.org/2000/svg\" height=\"24px\"viewBox=\"0 0 24 24\"\n",
              "       width=\"24px\">\n",
              "    <path d=\"M0 0h24v24H0V0z\" fill=\"none\"/>\n",
              "    <path d=\"M18.56 5.44l.94 2.06.94-2.06 2.06-.94-2.06-.94-.94-2.06-.94 2.06-2.06.94zm-11 1L8.5 8.5l.94-2.06 2.06-.94-2.06-.94L8.5 2.5l-.94 2.06-2.06.94zm10 10l.94 2.06.94-2.06 2.06-.94-2.06-.94-.94-2.06-.94 2.06-2.06.94z\"/><path d=\"M17.41 7.96l-1.37-1.37c-.4-.4-.92-.59-1.43-.59-.52 0-1.04.2-1.43.59L10.3 9.45l-7.72 7.72c-.78.78-.78 2.05 0 2.83L4 21.41c.39.39.9.59 1.41.59.51 0 1.02-.2 1.41-.59l7.78-7.78 2.81-2.81c.8-.78.8-2.07 0-2.86zM5.41 20L4 18.59l7.72-7.72 1.47 1.35L5.41 20z\"/>\n",
              "  </svg>\n",
              "      </button>\n",
              "      \n",
              "  <style>\n",
              "    .colab-df-container {\n",
              "      display:flex;\n",
              "      flex-wrap:wrap;\n",
              "      gap: 12px;\n",
              "    }\n",
              "\n",
              "    .colab-df-convert {\n",
              "      background-color: #E8F0FE;\n",
              "      border: none;\n",
              "      border-radius: 50%;\n",
              "      cursor: pointer;\n",
              "      display: none;\n",
              "      fill: #1967D2;\n",
              "      height: 32px;\n",
              "      padding: 0 0 0 0;\n",
              "      width: 32px;\n",
              "    }\n",
              "\n",
              "    .colab-df-convert:hover {\n",
              "      background-color: #E2EBFA;\n",
              "      box-shadow: 0px 1px 2px rgba(60, 64, 67, 0.3), 0px 1px 3px 1px rgba(60, 64, 67, 0.15);\n",
              "      fill: #174EA6;\n",
              "    }\n",
              "\n",
              "    [theme=dark] .colab-df-convert {\n",
              "      background-color: #3B4455;\n",
              "      fill: #D2E3FC;\n",
              "    }\n",
              "\n",
              "    [theme=dark] .colab-df-convert:hover {\n",
              "      background-color: #434B5C;\n",
              "      box-shadow: 0px 1px 3px 1px rgba(0, 0, 0, 0.15);\n",
              "      filter: drop-shadow(0px 1px 2px rgba(0, 0, 0, 0.3));\n",
              "      fill: #FFFFFF;\n",
              "    }\n",
              "  </style>\n",
              "\n",
              "      <script>\n",
              "        const buttonEl =\n",
              "          document.querySelector('#df-760f7400-76c1-4dd2-8072-7c31136052b5 button.colab-df-convert');\n",
              "        buttonEl.style.display =\n",
              "          google.colab.kernel.accessAllowed ? 'block' : 'none';\n",
              "\n",
              "        async function convertToInteractive(key) {\n",
              "          const element = document.querySelector('#df-760f7400-76c1-4dd2-8072-7c31136052b5');\n",
              "          const dataTable =\n",
              "            await google.colab.kernel.invokeFunction('convertToInteractive',\n",
              "                                                     [key], {});\n",
              "          if (!dataTable) return;\n",
              "\n",
              "          const docLinkHtml = 'Like what you see? Visit the ' +\n",
              "            '<a target=\"_blank\" href=https://colab.research.google.com/notebooks/data_table.ipynb>data table notebook</a>'\n",
              "            + ' to learn more about interactive tables.';\n",
              "          element.innerHTML = '';\n",
              "          dataTable['output_type'] = 'display_data';\n",
              "          await google.colab.output.renderOutput(dataTable, element);\n",
              "          const docLink = document.createElement('div');\n",
              "          docLink.innerHTML = docLinkHtml;\n",
              "          element.appendChild(docLink);\n",
              "        }\n",
              "      </script>\n",
              "    </div>\n",
              "  </div>\n",
              "  "
            ]
          },
          "metadata": {},
          "execution_count": 12
        }
      ]
    },
    {
      "cell_type": "code",
      "source": [
        "store_info_data['shop_profile'] = store_info_data['shop_profile'].replace({0: 'High', 1: 'Moderate', 2: 'Low'})\n",
        " \n",
        "store_info_data.head()"
      ],
      "metadata": {
        "colab": {
          "base_uri": "https://localhost:8080/",
          "height": 270
        },
        "id": "gkDoOLaygkXo",
        "outputId": "c3c99838-8781-46c7-c68f-09478120477b"
      },
      "execution_count": null,
      "outputs": [
        {
          "output_type": "execute_result",
          "data": {
            "text/plain": [
              "   shop_id  shop_area_sq_ft shop_profile  total_sales  avg_transaction_value  \\\n",
              "0  SHOP047              528     Moderate       319755             199.472863   \n",
              "1  SHOP009              676         High       818470             188.240570   \n",
              "2  SHOP083              676          Low       707410             203.395630   \n",
              "3  SHOP117              676          Low       855540             218.083100   \n",
              "4  SHOP042              676          Low       591515             188.982428   \n",
              "\n",
              "   num_unique_customers  most_popular_item  total_quantity_sold  \\\n",
              "0                   890                 14                 2979   \n",
              "1                  2398                 14                 7668   \n",
              "2                  1831                 14                 6236   \n",
              "3                  1985                 14                 7558   \n",
              "4                  1775                 14                 5417   \n",
              "\n",
              "   avg_item_price  num_unique_items  most_expensive_item  sales_per_sq_ft  \\\n",
              "0      199.472863                36                   17       605.596591   \n",
              "1      188.240570                36                   10      1210.754438   \n",
              "2      203.395630                36                   27      1046.464497   \n",
              "3      218.083100                37                   33      1265.591716   \n",
              "4      188.982428                36                   27       875.022189   \n",
              "\n",
              "   avg_transaction_value_per_sq_ft  avg_item_price_per_sq_ft  \\\n",
              "0                         0.377790                  0.377790   \n",
              "1                         0.278462                  0.278462   \n",
              "2                         0.300881                  0.300881   \n",
              "3                         0.322608                  0.322608   \n",
              "4                         0.279560                  0.279560   \n",
              "\n",
              "   avg_transactions_per_day  \n",
              "0                 59.000000  \n",
              "1                160.476190  \n",
              "2                125.619048  \n",
              "3                146.857143  \n",
              "4                115.238095  "
            ],
            "text/html": [
              "\n",
              "  <div id=\"df-0c068cc2-263c-4244-86c3-0bffa87a19d0\">\n",
              "    <div class=\"colab-df-container\">\n",
              "      <div>\n",
              "<style scoped>\n",
              "    .dataframe tbody tr th:only-of-type {\n",
              "        vertical-align: middle;\n",
              "    }\n",
              "\n",
              "    .dataframe tbody tr th {\n",
              "        vertical-align: top;\n",
              "    }\n",
              "\n",
              "    .dataframe thead th {\n",
              "        text-align: right;\n",
              "    }\n",
              "</style>\n",
              "<table border=\"1\" class=\"dataframe\">\n",
              "  <thead>\n",
              "    <tr style=\"text-align: right;\">\n",
              "      <th></th>\n",
              "      <th>shop_id</th>\n",
              "      <th>shop_area_sq_ft</th>\n",
              "      <th>shop_profile</th>\n",
              "      <th>total_sales</th>\n",
              "      <th>avg_transaction_value</th>\n",
              "      <th>num_unique_customers</th>\n",
              "      <th>most_popular_item</th>\n",
              "      <th>total_quantity_sold</th>\n",
              "      <th>avg_item_price</th>\n",
              "      <th>num_unique_items</th>\n",
              "      <th>most_expensive_item</th>\n",
              "      <th>sales_per_sq_ft</th>\n",
              "      <th>avg_transaction_value_per_sq_ft</th>\n",
              "      <th>avg_item_price_per_sq_ft</th>\n",
              "      <th>avg_transactions_per_day</th>\n",
              "    </tr>\n",
              "  </thead>\n",
              "  <tbody>\n",
              "    <tr>\n",
              "      <th>0</th>\n",
              "      <td>SHOP047</td>\n",
              "      <td>528</td>\n",
              "      <td>Moderate</td>\n",
              "      <td>319755</td>\n",
              "      <td>199.472863</td>\n",
              "      <td>890</td>\n",
              "      <td>14</td>\n",
              "      <td>2979</td>\n",
              "      <td>199.472863</td>\n",
              "      <td>36</td>\n",
              "      <td>17</td>\n",
              "      <td>605.596591</td>\n",
              "      <td>0.377790</td>\n",
              "      <td>0.377790</td>\n",
              "      <td>59.000000</td>\n",
              "    </tr>\n",
              "    <tr>\n",
              "      <th>1</th>\n",
              "      <td>SHOP009</td>\n",
              "      <td>676</td>\n",
              "      <td>High</td>\n",
              "      <td>818470</td>\n",
              "      <td>188.240570</td>\n",
              "      <td>2398</td>\n",
              "      <td>14</td>\n",
              "      <td>7668</td>\n",
              "      <td>188.240570</td>\n",
              "      <td>36</td>\n",
              "      <td>10</td>\n",
              "      <td>1210.754438</td>\n",
              "      <td>0.278462</td>\n",
              "      <td>0.278462</td>\n",
              "      <td>160.476190</td>\n",
              "    </tr>\n",
              "    <tr>\n",
              "      <th>2</th>\n",
              "      <td>SHOP083</td>\n",
              "      <td>676</td>\n",
              "      <td>Low</td>\n",
              "      <td>707410</td>\n",
              "      <td>203.395630</td>\n",
              "      <td>1831</td>\n",
              "      <td>14</td>\n",
              "      <td>6236</td>\n",
              "      <td>203.395630</td>\n",
              "      <td>36</td>\n",
              "      <td>27</td>\n",
              "      <td>1046.464497</td>\n",
              "      <td>0.300881</td>\n",
              "      <td>0.300881</td>\n",
              "      <td>125.619048</td>\n",
              "    </tr>\n",
              "    <tr>\n",
              "      <th>3</th>\n",
              "      <td>SHOP117</td>\n",
              "      <td>676</td>\n",
              "      <td>Low</td>\n",
              "      <td>855540</td>\n",
              "      <td>218.083100</td>\n",
              "      <td>1985</td>\n",
              "      <td>14</td>\n",
              "      <td>7558</td>\n",
              "      <td>218.083100</td>\n",
              "      <td>37</td>\n",
              "      <td>33</td>\n",
              "      <td>1265.591716</td>\n",
              "      <td>0.322608</td>\n",
              "      <td>0.322608</td>\n",
              "      <td>146.857143</td>\n",
              "    </tr>\n",
              "    <tr>\n",
              "      <th>4</th>\n",
              "      <td>SHOP042</td>\n",
              "      <td>676</td>\n",
              "      <td>Low</td>\n",
              "      <td>591515</td>\n",
              "      <td>188.982428</td>\n",
              "      <td>1775</td>\n",
              "      <td>14</td>\n",
              "      <td>5417</td>\n",
              "      <td>188.982428</td>\n",
              "      <td>36</td>\n",
              "      <td>27</td>\n",
              "      <td>875.022189</td>\n",
              "      <td>0.279560</td>\n",
              "      <td>0.279560</td>\n",
              "      <td>115.238095</td>\n",
              "    </tr>\n",
              "  </tbody>\n",
              "</table>\n",
              "</div>\n",
              "      <button class=\"colab-df-convert\" onclick=\"convertToInteractive('df-0c068cc2-263c-4244-86c3-0bffa87a19d0')\"\n",
              "              title=\"Convert this dataframe to an interactive table.\"\n",
              "              style=\"display:none;\">\n",
              "        \n",
              "  <svg xmlns=\"http://www.w3.org/2000/svg\" height=\"24px\"viewBox=\"0 0 24 24\"\n",
              "       width=\"24px\">\n",
              "    <path d=\"M0 0h24v24H0V0z\" fill=\"none\"/>\n",
              "    <path d=\"M18.56 5.44l.94 2.06.94-2.06 2.06-.94-2.06-.94-.94-2.06-.94 2.06-2.06.94zm-11 1L8.5 8.5l.94-2.06 2.06-.94-2.06-.94L8.5 2.5l-.94 2.06-2.06.94zm10 10l.94 2.06.94-2.06 2.06-.94-2.06-.94-.94-2.06-.94 2.06-2.06.94z\"/><path d=\"M17.41 7.96l-1.37-1.37c-.4-.4-.92-.59-1.43-.59-.52 0-1.04.2-1.43.59L10.3 9.45l-7.72 7.72c-.78.78-.78 2.05 0 2.83L4 21.41c.39.39.9.59 1.41.59.51 0 1.02-.2 1.41-.59l7.78-7.78 2.81-2.81c.8-.78.8-2.07 0-2.86zM5.41 20L4 18.59l7.72-7.72 1.47 1.35L5.41 20z\"/>\n",
              "  </svg>\n",
              "      </button>\n",
              "      \n",
              "  <style>\n",
              "    .colab-df-container {\n",
              "      display:flex;\n",
              "      flex-wrap:wrap;\n",
              "      gap: 12px;\n",
              "    }\n",
              "\n",
              "    .colab-df-convert {\n",
              "      background-color: #E8F0FE;\n",
              "      border: none;\n",
              "      border-radius: 50%;\n",
              "      cursor: pointer;\n",
              "      display: none;\n",
              "      fill: #1967D2;\n",
              "      height: 32px;\n",
              "      padding: 0 0 0 0;\n",
              "      width: 32px;\n",
              "    }\n",
              "\n",
              "    .colab-df-convert:hover {\n",
              "      background-color: #E2EBFA;\n",
              "      box-shadow: 0px 1px 2px rgba(60, 64, 67, 0.3), 0px 1px 3px 1px rgba(60, 64, 67, 0.15);\n",
              "      fill: #174EA6;\n",
              "    }\n",
              "\n",
              "    [theme=dark] .colab-df-convert {\n",
              "      background-color: #3B4455;\n",
              "      fill: #D2E3FC;\n",
              "    }\n",
              "\n",
              "    [theme=dark] .colab-df-convert:hover {\n",
              "      background-color: #434B5C;\n",
              "      box-shadow: 0px 1px 3px 1px rgba(0, 0, 0, 0.15);\n",
              "      filter: drop-shadow(0px 1px 2px rgba(0, 0, 0, 0.3));\n",
              "      fill: #FFFFFF;\n",
              "    }\n",
              "  </style>\n",
              "\n",
              "      <script>\n",
              "        const buttonEl =\n",
              "          document.querySelector('#df-0c068cc2-263c-4244-86c3-0bffa87a19d0 button.colab-df-convert');\n",
              "        buttonEl.style.display =\n",
              "          google.colab.kernel.accessAllowed ? 'block' : 'none';\n",
              "\n",
              "        async function convertToInteractive(key) {\n",
              "          const element = document.querySelector('#df-0c068cc2-263c-4244-86c3-0bffa87a19d0');\n",
              "          const dataTable =\n",
              "            await google.colab.kernel.invokeFunction('convertToInteractive',\n",
              "                                                     [key], {});\n",
              "          if (!dataTable) return;\n",
              "\n",
              "          const docLinkHtml = 'Like what you see? Visit the ' +\n",
              "            '<a target=\"_blank\" href=https://colab.research.google.com/notebooks/data_table.ipynb>data table notebook</a>'\n",
              "            + ' to learn more about interactive tables.';\n",
              "          element.innerHTML = '';\n",
              "          dataTable['output_type'] = 'display_data';\n",
              "          await google.colab.output.renderOutput(dataTable, element);\n",
              "          const docLink = document.createElement('div');\n",
              "          docLink.innerHTML = docLinkHtml;\n",
              "          element.appendChild(docLink);\n",
              "        }\n",
              "      </script>\n",
              "    </div>\n",
              "  </div>\n",
              "  "
            ]
          },
          "metadata": {},
          "execution_count": 13
        }
      ]
    },
    {
      "cell_type": "code",
      "source": [
        "from sklearn.preprocessing import MinMaxScaler\n",
        "\n",
        "# Create an instance of the MinMaxScaler\n",
        "scaler = MinMaxScaler()\n",
        "\n",
        "# Select the columns to scale\n",
        "cols_to_scale = store_info_data.select_dtypes(include=['float64', 'int64']).columns\n",
        "\n",
        "# Fit the scaler to the selected columns and transform them\n",
        "store_info_data[cols_to_scale] = scaler.fit_transform(store_info_data[cols_to_scale])"
      ],
      "metadata": {
        "id": "zMOxjNxthswN"
      },
      "execution_count": null,
      "outputs": []
    },
    {
      "cell_type": "code",
      "source": [
        "train = store_info_data[store_info_data['shop_profile'].notnull()]\n",
        "\n",
        "print(len(train))"
      ],
      "metadata": {
        "colab": {
          "base_uri": "https://localhost:8080/"
        },
        "id": "kKRQ52v-do0c",
        "outputId": "0364caf4-77d4-4092-bec4-77ab70c38d6d"
      },
      "execution_count": null,
      "outputs": [
        {
          "output_type": "stream",
          "name": "stdout",
          "text": [
            "100\n"
          ]
        }
      ]
    },
    {
      "cell_type": "code",
      "source": [
        "test = store_info_data[store_info_data['shop_profile'].isnull()]\n",
        "\n",
        "print(len(test))"
      ],
      "metadata": {
        "colab": {
          "base_uri": "https://localhost:8080/"
        },
        "id": "wZYb4Iz0epHk",
        "outputId": "52c8dc87-3edd-4123-b1c4-e0b5c684dd60"
      },
      "execution_count": null,
      "outputs": [
        {
          "output_type": "stream",
          "name": "stdout",
          "text": [
            "24\n"
          ]
        }
      ]
    },
    {
      "cell_type": "code",
      "source": [
        "from sklearn.model_selection import train_test_split\n",
        "from sklearn.feature_selection import SelectKBest, chi2\n",
        "from sklearn.feature_selection import mutual_info_classif\n",
        "\n",
        "# # Split data into predictors and target variable\n",
        "# X = final_df.drop(['shop_profile', 'shop_id'], axis=1)\n",
        "# y = final_df['shop_profile']\n",
        "\n",
        "\n",
        "# # Select the top 5 features using chi2 scoring function\n",
        "# k_best = SelectKBest(score_func=chi2, k=3)\n",
        "# X = k_best.fit_transform(X, y)\n",
        "\n",
        "# random_state = np.random.randint(1, 1000)\n",
        "# # random_state = 401\n",
        "# X_train, X_test, y_train, y_test = train_test_split(X, y, test_size=0.2, random_state=random_state)\n",
        "\n",
        "\n",
        "# Split data into predictors and target variable\n",
        "X = train.drop(['shop_profile', 'shop_id'], axis=1)\n",
        "y = train['shop_profile']\n",
        "\n",
        "# Select the top 3 features using mutual information scoring function\n",
        "# k_best = SelectKBest(score_func=mutual_info_classif, k=3)\n",
        "# X = k_best.fit_transform(X, y)\n",
        "\n",
        "\n",
        "random_state = np.random.randint(1, 1000)\n",
        "# random_state = 55\n",
        "X_train, X_test, y_train, y_test = train_test_split(X, y, test_size=0.2, random_state=random_state)\n",
        "import matplotlib.pyplot as plt\n",
        "from mpl_toolkits.mplot3d import Axes3D\n",
        "X_train = pd.DataFrame(X_train)\n",
        "fig = plt.figure()\n",
        "ax = fig.add_subplot(111, projection='3d')\n",
        "\n",
        "x = X_train.iloc[:, 0]\n",
        "y = X_train.iloc[:, 1]\n",
        "z = X_train.iloc[:, 2]\n",
        "\n",
        "ax.scatter(x, y, z)\n",
        "\n",
        "ax.set_xlabel(X_train.columns[0])\n",
        "ax.set_ylabel(X_train.columns[1])\n",
        "ax.set_zlabel(X_train.columns[2])\n",
        "\n",
        "plt.show()\n",
        "from sklearn.linear_model import LogisticRegression\n",
        "from sklearn.metrics import accuracy_score, f1_score\n",
        "\n",
        "# Create an instance of the logistic regression classifier\n",
        "clf = LogisticRegression(C=500,max_iter=1000)\n",
        "\n",
        "# Fit the classifier to the training data\n",
        "clf.fit(X_train, y_train)\n",
        "\n",
        "# Make predictions on the test data\n",
        "y_pred = clf.predict(X_test)\n",
        "\n",
        "# Calculate the accuracy and F1 score\n",
        "accuracy = accuracy_score(y_test, y_pred)\n",
        "f1 = f1_score(y_test, y_pred, average='weighted')\n",
        "\n",
        "print(f'Accuracy: {accuracy:.2f}')\n",
        "print(f'F1 Score: {f1:.2f}')\n",
        "print(random_state)\n",
        "\n",
        "# Make predictions on the test data\n",
        "y_pred2 = clf.predict(X_train)\n",
        "\n",
        "# Calculate the accuracy and F1 score\n",
        "accuracy2 = accuracy_score(y_train, y_pred2)\n",
        "f12 = f1_score(y_train, y_pred2, average='weighted')\n",
        "\n",
        "print(f'Accuracy: {accuracy2:.2f}')\n",
        "print(f'F1 Score: {f12:.2f}')\n",
        "\n",
        "\n",
        "print(random_state)\n",
        "# 55 875 73 9"
      ],
      "metadata": {
        "colab": {
          "base_uri": "https://localhost:8080/",
          "height": 515
        },
        "id": "fspPkTN5d5lP",
        "outputId": "a8b4f697-82f8-47a5-d18f-cb7aa032e636"
      },
      "execution_count": null,
      "outputs": [
        {
          "output_type": "display_data",
          "data": {
            "text/plain": [
              "<Figure size 640x480 with 1 Axes>"
            ],
            "image/png": "[encoded data removed]"
          },
          "metadata": {}
        },
        {
          "output_type": "stream",
          "name": "stdout",
          "text": [
            "Accuracy: 0.60\n",
            "F1 Score: 0.59\n",
            "452\n",
            "Accuracy: 0.74\n",
            "F1 Score: 0.74\n",
            "452\n"
          ]
        }
      ]
    },
    {
      "cell_type": "code",
      "source": [
        "from sklearn.svm import SVC\n",
        "\n",
        "# Create an instance of the SVM classifier\n",
        "clf = SVC(C=1.0, kernel='rbf', gamma='scale')\n",
        "\n",
        "# Fit the classifier to the training data\n",
        "clf.fit(X_train, y_train)\n",
        "\n",
        "# Make predictions on the test data\n",
        "y_pred = clf.predict(X_test)\n",
        "\n",
        "# Calculate the accuracy and F1 score\n",
        "accuracy = accuracy_score(y_test, y_pred)\n",
        "f1 = f1_score(y_test, y_pred, average='weighted')\n",
        "\n",
        "print(f'Accuracy: {accuracy:.2f}')\n",
        "print(f'F1 Score: {f1:.2f}')\n",
        "\n",
        "# Make predictions on the training data\n",
        "y_pred2 = clf.predict(X_train)\n",
        "\n",
        "# Calculate the accuracy and F1 score\n",
        "accuracy2 = accuracy_score(y_train, y_pred2)\n",
        "f12 = f1_score(y_train, y_pred2, average='weighted')\n",
        "\n",
        "print(f'Training Accuracy: {accuracy2:.2f}')\n",
        "print(f'Training F1 Score: {f12:.2f}')"
      ],
      "metadata": {
        "colab": {
          "base_uri": "https://localhost:8080/",
          "height": 380
        },
        "id": "V8yIE4ldSfG3",
        "outputId": "1e78b75b-fcb5-498c-e246-dd3c7cbcdb60"
      },
      "execution_count": null,
      "outputs": [
        {
          "output_type": "error",
          "ename": "ValueError",
          "evalue": "ignored",
          "traceback": [
            "\u001b[0;31m---------------------------------------------------------------------------\u001b[0m",
            "\u001b[0;31mValueError\u001b[0m                                Traceback (most recent call last)",
            "\u001b[0;32m<ipython-input-19-4cb0a1184c9e>\u001b[0m in \u001b[0;36m<cell line: 13>\u001b[0;34m()\u001b[0m\n\u001b[1;32m     11\u001b[0m \u001b[0;34m\u001b[0m\u001b[0m\n\u001b[1;32m     12\u001b[0m \u001b[0;31m# Calculate the accuracy and F1 score\u001b[0m\u001b[0;34m\u001b[0m\u001b[0;34m\u001b[0m\u001b[0m\n\u001b[0;32m---> 13\u001b[0;31m \u001b[0maccuracy\u001b[0m \u001b[0;34m=\u001b[0m \u001b[0maccuracy_score\u001b[0m\u001b[0;34m(\u001b[0m\u001b[0my_test\u001b[0m\u001b[0;34m,\u001b[0m \u001b[0my_pred\u001b[0m\u001b[0;34m)\u001b[0m\u001b[0;34m\u001b[0m\u001b[0;34m\u001b[0m\u001b[0m\n\u001b[0m\u001b[1;32m     14\u001b[0m \u001b[0mf1\u001b[0m \u001b[0;34m=\u001b[0m \u001b[0mf1_score\u001b[0m\u001b[0;34m(\u001b[0m\u001b[0my_test\u001b[0m\u001b[0;34m,\u001b[0m \u001b[0my_pred\u001b[0m\u001b[0;34m,\u001b[0m \u001b[0maverage\u001b[0m\u001b[0;34m=\u001b[0m\u001b[0;34m'weighted'\u001b[0m\u001b[0;34m)\u001b[0m\u001b[0;34m\u001b[0m\u001b[0;34m\u001b[0m\u001b[0m\n\u001b[1;32m     15\u001b[0m \u001b[0;34m\u001b[0m\u001b[0m\n",
            "\u001b[0;32m/usr/local/lib/python3.10/dist-packages/sklearn/utils/_param_validation.py\u001b[0m in \u001b[0;36mwrapper\u001b[0;34m(*args, **kwargs)\u001b[0m\n\u001b[1;32m    190\u001b[0m \u001b[0;34m\u001b[0m\u001b[0m\n\u001b[1;32m    191\u001b[0m             \u001b[0;32mtry\u001b[0m\u001b[0;34m:\u001b[0m\u001b[0;34m\u001b[0m\u001b[0;34m\u001b[0m\u001b[0m\n\u001b[0;32m--> 192\u001b[0;31m                 \u001b[0;32mreturn\u001b[0m \u001b[0mfunc\u001b[0m\u001b[0;34m(\u001b[0m\u001b[0;34m*\u001b[0m\u001b[0margs\u001b[0m\u001b[0;34m,\u001b[0m \u001b[0;34m**\u001b[0m\u001b[0mkwargs\u001b[0m\u001b[0;34m)\u001b[0m\u001b[0;34m\u001b[0m\u001b[0;34m\u001b[0m\u001b[0m\n\u001b[0m\u001b[1;32m    193\u001b[0m             \u001b[0;32mexcept\u001b[0m \u001b[0mInvalidParameterError\u001b[0m \u001b[0;32mas\u001b[0m \u001b[0me\u001b[0m\u001b[0;34m:\u001b[0m\u001b[0;34m\u001b[0m\u001b[0;34m\u001b[0m\u001b[0m\n\u001b[1;32m    194\u001b[0m                 \u001b[0;31m# When the function is just a wrapper around an estimator, we allow\u001b[0m\u001b[0;34m\u001b[0m\u001b[0;34m\u001b[0m\u001b[0m\n",
            "\u001b[0;32m/usr/local/lib/python3.10/dist-packages/sklearn/metrics/_classification.py\u001b[0m in \u001b[0;36maccuracy_score\u001b[0;34m(y_true, y_pred, normalize, sample_weight)\u001b[0m\n\u001b[1;32m    219\u001b[0m \u001b[0;34m\u001b[0m\u001b[0m\n\u001b[1;32m    220\u001b[0m     \u001b[0;31m# Compute accuracy for each possible representation\u001b[0m\u001b[0;34m\u001b[0m\u001b[0;34m\u001b[0m\u001b[0m\n\u001b[0;32m--> 221\u001b[0;31m     \u001b[0my_type\u001b[0m\u001b[0;34m,\u001b[0m \u001b[0my_true\u001b[0m\u001b[0;34m,\u001b[0m \u001b[0my_pred\u001b[0m \u001b[0;34m=\u001b[0m \u001b[0m_check_targets\u001b[0m\u001b[0;34m(\u001b[0m\u001b[0my_true\u001b[0m\u001b[0;34m,\u001b[0m \u001b[0my_pred\u001b[0m\u001b[0;34m)\u001b[0m\u001b[0;34m\u001b[0m\u001b[0;34m\u001b[0m\u001b[0m\n\u001b[0m\u001b[1;32m    222\u001b[0m     \u001b[0mcheck_consistent_length\u001b[0m\u001b[0;34m(\u001b[0m\u001b[0my_true\u001b[0m\u001b[0;34m,\u001b[0m \u001b[0my_pred\u001b[0m\u001b[0;34m,\u001b[0m \u001b[0msample_weight\u001b[0m\u001b[0;34m)\u001b[0m\u001b[0;34m\u001b[0m\u001b[0;34m\u001b[0m\u001b[0m\n\u001b[1;32m    223\u001b[0m     \u001b[0;32mif\u001b[0m \u001b[0my_type\u001b[0m\u001b[0;34m.\u001b[0m\u001b[0mstartswith\u001b[0m\u001b[0;34m(\u001b[0m\u001b[0;34m\"multilabel\"\u001b[0m\u001b[0;34m)\u001b[0m\u001b[0;34m:\u001b[0m\u001b[0;34m\u001b[0m\u001b[0;34m\u001b[0m\u001b[0m\n",
            "\u001b[0;32m/usr/local/lib/python3.10/dist-packages/sklearn/metrics/_classification.py\u001b[0m in \u001b[0;36m_check_targets\u001b[0;34m(y_true, y_pred)\u001b[0m\n\u001b[1;32m     84\u001b[0m     \u001b[0my_pred\u001b[0m \u001b[0;34m:\u001b[0m \u001b[0marray\u001b[0m \u001b[0;32mor\u001b[0m \u001b[0mindicator\u001b[0m \u001b[0mmatrix\u001b[0m\u001b[0;34m\u001b[0m\u001b[0;34m\u001b[0m\u001b[0m\n\u001b[1;32m     85\u001b[0m     \"\"\"\n\u001b[0;32m---> 86\u001b[0;31m     \u001b[0mcheck_consistent_length\u001b[0m\u001b[0;34m(\u001b[0m\u001b[0my_true\u001b[0m\u001b[0;34m,\u001b[0m \u001b[0my_pred\u001b[0m\u001b[0;34m)\u001b[0m\u001b[0;34m\u001b[0m\u001b[0;34m\u001b[0m\u001b[0m\n\u001b[0m\u001b[1;32m     87\u001b[0m     \u001b[0mtype_true\u001b[0m \u001b[0;34m=\u001b[0m \u001b[0mtype_of_target\u001b[0m\u001b[0;34m(\u001b[0m\u001b[0my_true\u001b[0m\u001b[0;34m,\u001b[0m \u001b[0minput_name\u001b[0m\u001b[0;34m=\u001b[0m\u001b[0;34m\"y_true\"\u001b[0m\u001b[0;34m)\u001b[0m\u001b[0;34m\u001b[0m\u001b[0;34m\u001b[0m\u001b[0m\n\u001b[1;32m     88\u001b[0m     \u001b[0mtype_pred\u001b[0m \u001b[0;34m=\u001b[0m \u001b[0mtype_of_target\u001b[0m\u001b[0;34m(\u001b[0m\u001b[0my_pred\u001b[0m\u001b[0;34m,\u001b[0m \u001b[0minput_name\u001b[0m\u001b[0;34m=\u001b[0m\u001b[0;34m\"y_pred\"\u001b[0m\u001b[0;34m)\u001b[0m\u001b[0;34m\u001b[0m\u001b[0;34m\u001b[0m\u001b[0m\n",
            "\u001b[0;32m/usr/local/lib/python3.10/dist-packages/sklearn/utils/validation.py\u001b[0m in \u001b[0;36mcheck_consistent_length\u001b[0;34m(*arrays)\u001b[0m\n\u001b[1;32m    395\u001b[0m     \u001b[0muniques\u001b[0m \u001b[0;34m=\u001b[0m \u001b[0mnp\u001b[0m\u001b[0;34m.\u001b[0m\u001b[0munique\u001b[0m\u001b[0;34m(\u001b[0m\u001b[0mlengths\u001b[0m\u001b[0;34m)\u001b[0m\u001b[0;34m\u001b[0m\u001b[0;34m\u001b[0m\u001b[0m\n\u001b[1;32m    396\u001b[0m     \u001b[0;32mif\u001b[0m \u001b[0mlen\u001b[0m\u001b[0;34m(\u001b[0m\u001b[0muniques\u001b[0m\u001b[0;34m)\u001b[0m \u001b[0;34m>\u001b[0m \u001b[0;36m1\u001b[0m\u001b[0;34m:\u001b[0m\u001b[0;34m\u001b[0m\u001b[0;34m\u001b[0m\u001b[0m\n\u001b[0;32m--> 397\u001b[0;31m         raise ValueError(\n\u001b[0m\u001b[1;32m    398\u001b[0m             \u001b[0;34m\"Found input variables with inconsistent numbers of samples: %r\"\u001b[0m\u001b[0;34m\u001b[0m\u001b[0;34m\u001b[0m\u001b[0m\n\u001b[1;32m    399\u001b[0m             \u001b[0;34m%\u001b[0m \u001b[0;34m[\u001b[0m\u001b[0mint\u001b[0m\u001b[0;34m(\u001b[0m\u001b[0ml\u001b[0m\u001b[0;34m)\u001b[0m \u001b[0;32mfor\u001b[0m \u001b[0ml\u001b[0m \u001b[0;32min\u001b[0m \u001b[0mlengths\u001b[0m\u001b[0;34m]\u001b[0m\u001b[0;34m\u001b[0m\u001b[0;34m\u001b[0m\u001b[0m\n",
            "\u001b[0;31mValueError\u001b[0m: Found input variables with inconsistent numbers of samples: [20, 24]"
          ]
        }
      ]
    },
    {
      "cell_type": "code",
      "source": [
        "historical_data.head()"
      ],
      "metadata": {
        "id": "kE0rhL8wVfZK",
        "colab": {
          "base_uri": "https://localhost:8080/",
          "height": 250
        },
        "outputId": "3c53ee61-e0ce-44ed-aa66-a777626ce88e"
      },
      "execution_count": null,
      "outputs": [
        {
          "output_type": "execute_result",
          "data": {
            "text/plain": [
              "        item_description          transaction_date  invoice_id customer_id  \\\n",
              "0     ORANGE BARLEY 1.5L  2021-12-11T00:00:00.000Z       147.0        BGXA   \n",
              "1       GINGER BEER 1.5L  2021-10-17T00:00:00.000Z       371.0        IA25   \n",
              "2        TONIC PET 500ML  2021-12-13T00:00:00.000Z       484.0        VN7V   \n",
              "3          CREAM SODA 1L  2021-12-13T00:00:00.000Z       484.0        VN7V   \n",
              "4  STRAWBERRY MILK 180ML  2021-10-23T00:00:00.000Z      1310.0        7S00   \n",
              "\n",
              "   shop_id  item_price  quantity_sold  \n",
              "0  SHOP008         220              2  \n",
              "1  SHOP112         220              2  \n",
              "2  SHOP008         160              2  \n",
              "3  SHOP008         150              2  \n",
              "4  SHOP112         210              5  "
            ],
            "text/html": [
              "\n",
              "  <div id=\"df-e394ac5c-f2a0-4dc7-aeae-94fa12604d5c\">\n",
              "    <div class=\"colab-df-container\">\n",
              "      <div>\n",
              "<style scoped>\n",
              "    .dataframe tbody tr th:only-of-type {\n",
              "        vertical-align: middle;\n",
              "    }\n",
              "\n",
              "    .dataframe tbody tr th {\n",
              "        vertical-align: top;\n",
              "    }\n",
              "\n",
              "    .dataframe thead th {\n",
              "        text-align: right;\n",
              "    }\n",
              "</style>\n",
              "<table border=\"1\" class=\"dataframe\">\n",
              "  <thead>\n",
              "    <tr style=\"text-align: right;\">\n",
              "      <th></th>\n",
              "      <th>item_description</th>\n",
              "      <th>transaction_date</th>\n",
              "      <th>invoice_id</th>\n",
              "      <th>customer_id</th>\n",
              "      <th>shop_id</th>\n",
              "      <th>item_price</th>\n",
              "      <th>quantity_sold</th>\n",
              "    </tr>\n",
              "  </thead>\n",
              "  <tbody>\n",
              "    <tr>\n",
              "      <th>0</th>\n",
              "      <td>ORANGE BARLEY 1.5L</td>\n",
              "      <td>2021-12-11T00:00:00.000Z</td>\n",
              "      <td>147.0</td>\n",
              "      <td>BGXA</td>\n",
              "      <td>SHOP008</td>\n",
              "      <td>220</td>\n",
              "      <td>2</td>\n",
              "    </tr>\n",
              "    <tr>\n",
              "      <th>1</th>\n",
              "      <td>GINGER BEER 1.5L</td>\n",
              "      <td>2021-10-17T00:00:00.000Z</td>\n",
              "      <td>371.0</td>\n",
              "      <td>IA25</td>\n",
              "      <td>SHOP112</td>\n",
              "      <td>220</td>\n",
              "      <td>2</td>\n",
              "    </tr>\n",
              "    <tr>\n",
              "      <th>2</th>\n",
              "      <td>TONIC PET 500ML</td>\n",
              "      <td>2021-12-13T00:00:00.000Z</td>\n",
              "      <td>484.0</td>\n",
              "      <td>VN7V</td>\n",
              "      <td>SHOP008</td>\n",
              "      <td>160</td>\n",
              "      <td>2</td>\n",
              "    </tr>\n",
              "    <tr>\n",
              "      <th>3</th>\n",
              "      <td>CREAM SODA 1L</td>\n",
              "      <td>2021-12-13T00:00:00.000Z</td>\n",
              "      <td>484.0</td>\n",
              "      <td>VN7V</td>\n",
              "      <td>SHOP008</td>\n",
              "      <td>150</td>\n",
              "      <td>2</td>\n",
              "    </tr>\n",
              "    <tr>\n",
              "      <th>4</th>\n",
              "      <td>STRAWBERRY MILK 180ML</td>\n",
              "      <td>2021-10-23T00:00:00.000Z</td>\n",
              "      <td>1310.0</td>\n",
              "      <td>7S00</td>\n",
              "      <td>SHOP112</td>\n",
              "      <td>210</td>\n",
              "      <td>5</td>\n",
              "    </tr>\n",
              "  </tbody>\n",
              "</table>\n",
              "</div>\n",
              "      <button class=\"colab-df-convert\" onclick=\"convertToInteractive('df-e394ac5c-f2a0-4dc7-aeae-94fa12604d5c')\"\n",
              "              title=\"Convert this dataframe to an interactive table.\"\n",
              "              style=\"display:none;\">\n",
              "        \n",
              "  <svg xmlns=\"http://www.w3.org/2000/svg\" height=\"24px\"viewBox=\"0 0 24 24\"\n",
              "       width=\"24px\">\n",
              "    <path d=\"M0 0h24v24H0V0z\" fill=\"none\"/>\n",
              "    <path d=\"M18.56 5.44l.94 2.06.94-2.06 2.06-.94-2.06-.94-.94-2.06-.94 2.06-2.06.94zm-11 1L8.5 8.5l.94-2.06 2.06-.94-2.06-.94L8.5 2.5l-.94 2.06-2.06.94zm10 10l.94 2.06.94-2.06 2.06-.94-2.06-.94-.94-2.06-.94 2.06-2.06.94z\"/><path d=\"M17.41 7.96l-1.37-1.37c-.4-.4-.92-.59-1.43-.59-.52 0-1.04.2-1.43.59L10.3 9.45l-7.72 7.72c-.78.78-.78 2.05 0 2.83L4 21.41c.39.39.9.59 1.41.59.51 0 1.02-.2 1.41-.59l7.78-7.78 2.81-2.81c.8-.78.8-2.07 0-2.86zM5.41 20L4 18.59l7.72-7.72 1.47 1.35L5.41 20z\"/>\n",
              "  </svg>\n",
              "      </button>\n",
              "      \n",
              "  <style>\n",
              "    .colab-df-container {\n",
              "      display:flex;\n",
              "      flex-wrap:wrap;\n",
              "      gap: 12px;\n",
              "    }\n",
              "\n",
              "    .colab-df-convert {\n",
              "      background-color: #E8F0FE;\n",
              "      border: none;\n",
              "      border-radius: 50%;\n",
              "      cursor: pointer;\n",
              "      display: none;\n",
              "      fill: #1967D2;\n",
              "      height: 32px;\n",
              "      padding: 0 0 0 0;\n",
              "      width: 32px;\n",
              "    }\n",
              "\n",
              "    .colab-df-convert:hover {\n",
              "      background-color: #E2EBFA;\n",
              "      box-shadow: 0px 1px 2px rgba(60, 64, 67, 0.3), 0px 1px 3px 1px rgba(60, 64, 67, 0.15);\n",
              "      fill: #174EA6;\n",
              "    }\n",
              "\n",
              "    [theme=dark] .colab-df-convert {\n",
              "      background-color: #3B4455;\n",
              "      fill: #D2E3FC;\n",
              "    }\n",
              "\n",
              "    [theme=dark] .colab-df-convert:hover {\n",
              "      background-color: #434B5C;\n",
              "      box-shadow: 0px 1px 3px 1px rgba(0, 0, 0, 0.15);\n",
              "      filter: drop-shadow(0px 1px 2px rgba(0, 0, 0, 0.3));\n",
              "      fill: #FFFFFF;\n",
              "    }\n",
              "  </style>\n",
              "\n",
              "      <script>\n",
              "        const buttonEl =\n",
              "          document.querySelector('#df-e394ac5c-f2a0-4dc7-aeae-94fa12604d5c button.colab-df-convert');\n",
              "        buttonEl.style.display =\n",
              "          google.colab.kernel.accessAllowed ? 'block' : 'none';\n",
              "\n",
              "        async function convertToInteractive(key) {\n",
              "          const element = document.querySelector('#df-e394ac5c-f2a0-4dc7-aeae-94fa12604d5c');\n",
              "          const dataTable =\n",
              "            await google.colab.kernel.invokeFunction('convertToInteractive',\n",
              "                                                     [key], {});\n",
              "          if (!dataTable) return;\n",
              "\n",
              "          const docLinkHtml = 'Like what you see? Visit the ' +\n",
              "            '<a target=\"_blank\" href=https://colab.research.google.com/notebooks/data_table.ipynb>data table notebook</a>'\n",
              "            + ' to learn more about interactive tables.';\n",
              "          element.innerHTML = '';\n",
              "          dataTable['output_type'] = 'display_data';\n",
              "          await google.colab.output.renderOutput(dataTable, element);\n",
              "          const docLink = document.createElement('div');\n",
              "          docLink.innerHTML = docLinkHtml;\n",
              "          element.appendChild(docLink);\n",
              "        }\n",
              "      </script>\n",
              "    </div>\n",
              "  </div>\n",
              "  "
            ]
          },
          "metadata": {},
          "execution_count": 21
        }
      ]
    },
    {
      "cell_type": "code",
      "source": [
        "historical_data['item_description'].unique()"
      ],
      "metadata": {
        "colab": {
          "base_uri": "https://localhost:8080/"
        },
        "id": "zS5aEZtMmTDq",
        "outputId": "61d51e30-e20e-4ae1-e043-6c7ca174628c"
      },
      "execution_count": null,
      "outputs": [
        {
          "output_type": "execute_result",
          "data": {
            "text/plain": [
              "array(['ORANGE BARLEY 1.5L', 'GINGER BEER 1.5L', 'TONIC PET 500ML',\n",
              "       'CREAM SODA 1L', 'STRAWBERRY MILK 180ML', 'CREAM SODA 1.5L',\n",
              "       'TWISTEE APPLE 1L', 'FIT O MIXED FRUIT 200ML', 'SODA PET 1.5L',\n",
              "       'FIT O MIXED FRUIT 1L', 'KIK COLA 1L', 'LEMONADE 500ML',\n",
              "       'FIT O ORANGE 1L', 'NECTO 1.5L', 'LEMONADE 1.5L', 'GINGER BEER 1L',\n",
              "       'FIT O MANGO 200ML', 'FIT O MANGO 1L', 'CREAM SODA 500ML',\n",
              "       'FIT O ORANGE 200ML', nan, 'CREAM SODA APPLE POP 1L',\n",
              "       'BOTTLED DRINKING WATER 500ML', 'SODA 500ML', 'GINGER BEER 500ML',\n",
              "       'SODA 1L', 'NECTO 500ML', 'ORANGE CRUSH 500ML',\n",
              "       'BOTTLED DRINKING WATER 1.5L', 'NECTO 1L',\n",
              "       'GINGER BEER SUGAR FREE 500ML', 'ORANGE CRUSH 1.5L',\n",
              "       'DRY GINGER ALE PET 500ML', 'LEMONADE 1L', 'ORANGE CRUSH 1L',\n",
              "       'GINGER BEER 400ML', 'CHOCOLATE MILK 180ML', 'LIME CRUSH JUICE 1L'],\n",
              "      dtype=object)"
            ]
          },
          "metadata": {},
          "execution_count": 22
        }
      ]
    },
    {
      "cell_type": "code",
      "source": [
        "historical_data.groupby(['shop_id', 'customer_id']).size()\n",
        "\n"
      ],
      "metadata": {
        "colab": {
          "base_uri": "https://localhost:8080/"
        },
        "id": "pGboBnU6mfdG",
        "outputId": "052ff3ce-fdc9-4aff-b1b7-a51ef08cb971"
      },
      "execution_count": null,
      "outputs": [
        {
          "output_type": "execute_result",
          "data": {
            "text/plain": [
              "shop_id  customer_id\n",
              "SHOP001  00DD           1\n",
              "         00G3           2\n",
              "         01XI           5\n",
              "         024E           2\n",
              "         02WN           1\n",
              "                       ..\n",
              "SHOP127  ZX5A           5\n",
              "         ZXKD           1\n",
              "         ZY1M           1\n",
              "         ZYDF           2\n",
              "         ZZQI           1\n",
              "Length: 249939, dtype: int64"
            ]
          },
          "metadata": {},
          "execution_count": 25
        }
      ]
    },
    {
      "cell_type": "code",
      "source": [
        " a = historical_data['customer_id'][historical_data.groupby(['customer_id', 'shop_id']).size() > 1]"
      ],
      "metadata": {
        "colab": {
          "base_uri": "https://localhost:8080/",
          "height": 328
        },
        "id": "Lhb3px_KnHNG",
        "outputId": "a52936e0-5d01-49a1-c3f1-a095711787a1"
      },
      "execution_count": null,
      "outputs": [
        {
          "output_type": "error",
          "ename": "IndexingError",
          "evalue": "ignored",
          "traceback": [
            "\u001b[0;31m---------------------------------------------------------------------------\u001b[0m",
            "\u001b[0;31mIndexingError\u001b[0m                             Traceback (most recent call last)",
            "\u001b[0;32m<ipython-input-33-6b4303469782>\u001b[0m in \u001b[0;36m<cell line: 1>\u001b[0;34m()\u001b[0m\n\u001b[0;32m----> 1\u001b[0;31m \u001b[0ma\u001b[0m \u001b[0;34m=\u001b[0m \u001b[0mhistorical_data\u001b[0m\u001b[0;34m[\u001b[0m\u001b[0;34m'customer_id'\u001b[0m\u001b[0;34m]\u001b[0m\u001b[0;34m[\u001b[0m\u001b[0mhistorical_data\u001b[0m\u001b[0;34m.\u001b[0m\u001b[0mgroupby\u001b[0m\u001b[0;34m(\u001b[0m\u001b[0;34m[\u001b[0m\u001b[0;34m'customer_id'\u001b[0m\u001b[0;34m,\u001b[0m \u001b[0;34m'shop_id'\u001b[0m\u001b[0;34m]\u001b[0m\u001b[0;34m)\u001b[0m\u001b[0;34m.\u001b[0m\u001b[0msize\u001b[0m\u001b[0;34m(\u001b[0m\u001b[0;34m)\u001b[0m \u001b[0;34m>\u001b[0m \u001b[0;36m1\u001b[0m\u001b[0;34m]\u001b[0m\u001b[0;34m\u001b[0m\u001b[0;34m\u001b[0m\u001b[0m\n\u001b[0m",
            "\u001b[0;32m/usr/local/lib/python3.10/dist-packages/pandas/core/series.py\u001b[0m in \u001b[0;36m__getitem__\u001b[0;34m(self, key)\u001b[0m\n\u001b[1;32m   1001\u001b[0m \u001b[0;34m\u001b[0m\u001b[0m\n\u001b[1;32m   1002\u001b[0m         \u001b[0;32mif\u001b[0m \u001b[0mcom\u001b[0m\u001b[0;34m.\u001b[0m\u001b[0mis_bool_indexer\u001b[0m\u001b[0;34m(\u001b[0m\u001b[0mkey\u001b[0m\u001b[0;34m)\u001b[0m\u001b[0;34m:\u001b[0m\u001b[0;34m\u001b[0m\u001b[0;34m\u001b[0m\u001b[0m\n\u001b[0;32m-> 1003\u001b[0;31m             \u001b[0mkey\u001b[0m \u001b[0;34m=\u001b[0m \u001b[0mcheck_bool_indexer\u001b[0m\u001b[0;34m(\u001b[0m\u001b[0mself\u001b[0m\u001b[0;34m.\u001b[0m\u001b[0mindex\u001b[0m\u001b[0;34m,\u001b[0m \u001b[0mkey\u001b[0m\u001b[0;34m)\u001b[0m\u001b[0;34m\u001b[0m\u001b[0;34m\u001b[0m\u001b[0m\n\u001b[0m\u001b[1;32m   1004\u001b[0m             \u001b[0mkey\u001b[0m \u001b[0;34m=\u001b[0m \u001b[0mnp\u001b[0m\u001b[0;34m.\u001b[0m\u001b[0masarray\u001b[0m\u001b[0;34m(\u001b[0m\u001b[0mkey\u001b[0m\u001b[0;34m,\u001b[0m \u001b[0mdtype\u001b[0m\u001b[0;34m=\u001b[0m\u001b[0mbool\u001b[0m\u001b[0;34m)\u001b[0m\u001b[0;34m\u001b[0m\u001b[0;34m\u001b[0m\u001b[0m\n\u001b[1;32m   1005\u001b[0m             \u001b[0;32mreturn\u001b[0m \u001b[0mself\u001b[0m\u001b[0;34m.\u001b[0m\u001b[0m_get_values\u001b[0m\u001b[0;34m(\u001b[0m\u001b[0mkey\u001b[0m\u001b[0;34m)\u001b[0m\u001b[0;34m\u001b[0m\u001b[0;34m\u001b[0m\u001b[0m\n",
            "\u001b[0;32m/usr/local/lib/python3.10/dist-packages/pandas/core/indexing.py\u001b[0m in \u001b[0;36mcheck_bool_indexer\u001b[0;34m(index, key)\u001b[0m\n\u001b[1;32m   2550\u001b[0m         \u001b[0mindexer\u001b[0m \u001b[0;34m=\u001b[0m \u001b[0mresult\u001b[0m\u001b[0;34m.\u001b[0m\u001b[0mindex\u001b[0m\u001b[0;34m.\u001b[0m\u001b[0mget_indexer_for\u001b[0m\u001b[0;34m(\u001b[0m\u001b[0mindex\u001b[0m\u001b[0;34m)\u001b[0m\u001b[0;34m\u001b[0m\u001b[0;34m\u001b[0m\u001b[0m\n\u001b[1;32m   2551\u001b[0m         \u001b[0;32mif\u001b[0m \u001b[0;34m-\u001b[0m\u001b[0;36m1\u001b[0m \u001b[0;32min\u001b[0m \u001b[0mindexer\u001b[0m\u001b[0;34m:\u001b[0m\u001b[0;34m\u001b[0m\u001b[0;34m\u001b[0m\u001b[0m\n\u001b[0;32m-> 2552\u001b[0;31m             raise IndexingError(\n\u001b[0m\u001b[1;32m   2553\u001b[0m                 \u001b[0;34m\"Unalignable boolean Series provided as \"\u001b[0m\u001b[0;34m\u001b[0m\u001b[0;34m\u001b[0m\u001b[0m\n\u001b[1;32m   2554\u001b[0m                 \u001b[0;34m\"indexer (index of the boolean Series and of \"\u001b[0m\u001b[0;34m\u001b[0m\u001b[0;34m\u001b[0m\u001b[0m\n",
            "\u001b[0;31mIndexingError\u001b[0m: Unalignable boolean Series provided as indexer (index of the boolean Series and of the indexed object do not match)."
          ]
        }
      ]
    },
    {
      "cell_type": "code",
      "source": [
        "}a"
      ],
      "metadata": {
        "colab": {
          "base_uri": "https://localhost:8080/"
        },
        "id": "v23u00sNnpdX",
        "outputId": "b24ef2f2-a8a1-461e-8c06-86501b9dcc12"
      },
      "execution_count": null,
      "outputs": [
        {
          "output_type": "execute_result",
          "data": {
            "text/plain": [
              "customer_id  shop_id\n",
              "0.00E+00     SHOP010    1\n",
              "             SHOP034    1\n",
              "             SHOP049    3\n",
              "             SHOP056    1\n",
              "             SHOP071    1\n",
              "                       ..\n",
              "ZZZC         SHOP019    1\n",
              "ZZZE         SHOP096    1\n",
              "ZZZS         SHOP070    1\n",
              "ZZZW         SHOP073    2\n",
              "             SHOP074    3\n",
              "Length: 249939, dtype: int64"
            ]
          },
          "metadata": {},
          "execution_count": 28
        }
      ]
    },
    {
      "cell_type": "code",
      "source": [
        "len(historical_data['customer_id'].unique())"
      ],
      "metadata": {
        "colab": {
          "base_uri": "https://localhost:8080/"
        },
        "id": "FIHLuXTtntux",
        "outputId": "979ad5a1-1245-4d1d-83e6-13372c0d3dcb"
      },
      "execution_count": null,
      "outputs": [
        {
          "output_type": "execute_result",
          "data": {
            "text/plain": [
              "191636"
            ]
          },
          "metadata": {},
          "execution_count": 31
        }
      ]
    },
    {
      "cell_type": "code",
      "source": [
        "# group the data by shop_id and customer_id and calculate the total spending for each customer in each shop\n",
        "shop_customer_spending = historical_data.groupby(['shop_id', 'customer_id']).apply(lambda x: (x['item_price'] * x['quantity_sold']).sum())\n",
        "\n",
        "# calculate the average spending per customer for each shop\n",
        "average_spending = shop_customer_spending.groupby('shop_id').mean()\n",
        "\n",
        "# create a new DataFrame with shop_id as the unique identifier and the average spending per customer for each shop\n",
        "result = pd.DataFrame({'shop_id': average_spending.index, 'average_spending_per_customer': average_spending.values})\n",
        "\n",
        "print(result)"
      ],
      "metadata": {
        "colab": {
          "base_uri": "https://localhost:8080/"
        },
        "id": "n_OFn0esn2hM",
        "outputId": "1b739392-888e-4166-d98e-aa9b288109b4"
      },
      "execution_count": null,
      "outputs": [
        {
          "output_type": "stream",
          "name": "stdout",
          "text": [
            "     shop_id  average_spending_per_customer\n",
            "0    SHOP001                    1328.519678\n",
            "1    SHOP002                    1196.916958\n",
            "2    SHOP003                     931.683624\n",
            "3    SHOP004                     901.204128\n",
            "4    SHOP005                     975.270086\n",
            "..       ...                            ...\n",
            "119  SHOP123                     853.990509\n",
            "120  SHOP124                    1300.828584\n",
            "121  SHOP125                    1509.960806\n",
            "122  SHOP126                    1070.438101\n",
            "123  SHOP127                    1700.917843\n",
            "\n",
            "[124 rows x 2 columns]\n"
          ]
        }
      ]
    },
    {
      "cell_type": "code",
      "source": [
        "shop_invoice_cost = historical_data.groupby(['shop_id', 'invoice_id']).apply(lambda x: (x['item_price'] * x['quantity_sold']).sum())\n",
        "\n",
        "# calculate the average spending per customer for each shop\n",
        "average_bill = shop_invoice_cost.groupby('shop_id').mean()\n",
        "\n",
        "# create a new DataFrame with shop_id as the unique identifier and the average spending per customer for each shop\n",
        "result = pd.DataFrame({'shop_id': average_bill.index, 'average_spending_per_invoice': average_bill.values})"
      ],
      "metadata": {
        "id": "kwjzZUXGpgxE"
      },
      "execution_count": null,
      "outputs": []
    },
    {
      "cell_type": "code",
      "source": [
        "print(result)"
      ],
      "metadata": {
        "colab": {
          "base_uri": "https://localhost:8080/"
        },
        "id": "R8aQ2iUPqUif",
        "outputId": "ddf97f50-5768-4a0e-b1a0-3d845612a89e"
      },
      "execution_count": null,
      "outputs": [
        {
          "output_type": "stream",
          "name": "stdout",
          "text": [
            "     shop_id  average_spending_per_invoice\n",
            "0    SHOP001                    952.508133\n",
            "1    SHOP002                    814.360573\n",
            "2    SHOP003                    664.782002\n",
            "3    SHOP004                    585.130632\n",
            "4    SHOP005                    647.866792\n",
            "..       ...                           ...\n",
            "119  SHOP123                    586.299751\n",
            "120  SHOP124                    890.446566\n",
            "121  SHOP125                    925.514129\n",
            "122  SHOP126                    728.261803\n",
            "123  SHOP127                   1264.241289\n",
            "\n",
            "[124 rows x 2 columns]\n"
          ]
        }
      ]
    },
    {
      "cell_type": "code",
      "source": [
        "dummy = historical_data.groupby(['item_description', 'item_price'])"
      ],
      "metadata": {
        "id": "QlkpGac_ywsU"
      },
      "execution_count": null,
      "outputs": []
    },
    {
      "cell_type": "code",
      "source": [
        "res = pd.DataFrame(dummy)"
      ],
      "metadata": {
        "id": "yXf5z1sw_LsD"
      },
      "execution_count": null,
      "outputs": []
    },
    {
      "cell_type": "code",
      "source": [
        "res1 = res.groupby('item_description').mean()"
      ],
      "metadata": {
        "colab": {
          "base_uri": "https://localhost:8080/",
          "height": 328
        },
        "id": "hb8bhtzt_Xly",
        "outputId": "900e55ad-d311-4615-d9e0-e31bdc1145bb"
      },
      "execution_count": null,
      "outputs": [
        {
          "output_type": "error",
          "ename": "KeyError",
          "evalue": "ignored",
          "traceback": [
            "\u001b[0;31m---------------------------------------------------------------------------\u001b[0m",
            "\u001b[0;31mKeyError\u001b[0m                                  Traceback (most recent call last)",
            "\u001b[0;32m<ipython-input-52-ee8f44a2468c>\u001b[0m in \u001b[0;36m<cell line: 1>\u001b[0;34m()\u001b[0m\n\u001b[0;32m----> 1\u001b[0;31m \u001b[0mres1\u001b[0m \u001b[0;34m=\u001b[0m \u001b[0mres\u001b[0m\u001b[0;34m.\u001b[0m\u001b[0mgroupby\u001b[0m\u001b[0;34m(\u001b[0m\u001b[0;34m'item_description'\u001b[0m\u001b[0;34m)\u001b[0m\u001b[0;34m.\u001b[0m\u001b[0mmean\u001b[0m\u001b[0;34m(\u001b[0m\u001b[0;34m)\u001b[0m\u001b[0;34m\u001b[0m\u001b[0;34m\u001b[0m\u001b[0m\n\u001b[0m",
            "\u001b[0;32m/usr/local/lib/python3.10/dist-packages/pandas/core/frame.py\u001b[0m in \u001b[0;36mgroupby\u001b[0;34m(self, by, axis, level, as_index, sort, group_keys, squeeze, observed, dropna)\u001b[0m\n\u001b[1;32m   8400\u001b[0m         \u001b[0maxis\u001b[0m \u001b[0;34m=\u001b[0m \u001b[0mself\u001b[0m\u001b[0;34m.\u001b[0m\u001b[0m_get_axis_number\u001b[0m\u001b[0;34m(\u001b[0m\u001b[0maxis\u001b[0m\u001b[0;34m)\u001b[0m\u001b[0;34m\u001b[0m\u001b[0;34m\u001b[0m\u001b[0m\n\u001b[1;32m   8401\u001b[0m \u001b[0;34m\u001b[0m\u001b[0m\n\u001b[0;32m-> 8402\u001b[0;31m         return DataFrameGroupBy(\n\u001b[0m\u001b[1;32m   8403\u001b[0m             \u001b[0mobj\u001b[0m\u001b[0;34m=\u001b[0m\u001b[0mself\u001b[0m\u001b[0;34m,\u001b[0m\u001b[0;34m\u001b[0m\u001b[0;34m\u001b[0m\u001b[0m\n\u001b[1;32m   8404\u001b[0m             \u001b[0mkeys\u001b[0m\u001b[0;34m=\u001b[0m\u001b[0mby\u001b[0m\u001b[0;34m,\u001b[0m\u001b[0;34m\u001b[0m\u001b[0;34m\u001b[0m\u001b[0m\n",
            "\u001b[0;32m/usr/local/lib/python3.10/dist-packages/pandas/core/groupby/groupby.py\u001b[0m in \u001b[0;36m__init__\u001b[0;34m(self, obj, keys, axis, level, grouper, exclusions, selection, as_index, sort, group_keys, squeeze, observed, mutated, dropna)\u001b[0m\n\u001b[1;32m    963\u001b[0m             \u001b[0;32mfrom\u001b[0m \u001b[0mpandas\u001b[0m\u001b[0;34m.\u001b[0m\u001b[0mcore\u001b[0m\u001b[0;34m.\u001b[0m\u001b[0mgroupby\u001b[0m\u001b[0;34m.\u001b[0m\u001b[0mgrouper\u001b[0m \u001b[0;32mimport\u001b[0m \u001b[0mget_grouper\u001b[0m\u001b[0;34m\u001b[0m\u001b[0;34m\u001b[0m\u001b[0m\n\u001b[1;32m    964\u001b[0m \u001b[0;34m\u001b[0m\u001b[0m\n\u001b[0;32m--> 965\u001b[0;31m             grouper, exclusions, obj = get_grouper(\n\u001b[0m\u001b[1;32m    966\u001b[0m                 \u001b[0mobj\u001b[0m\u001b[0;34m,\u001b[0m\u001b[0;34m\u001b[0m\u001b[0;34m\u001b[0m\u001b[0m\n\u001b[1;32m    967\u001b[0m                 \u001b[0mkeys\u001b[0m\u001b[0;34m,\u001b[0m\u001b[0;34m\u001b[0m\u001b[0;34m\u001b[0m\u001b[0m\n",
            "\u001b[0;32m/usr/local/lib/python3.10/dist-packages/pandas/core/groupby/grouper.py\u001b[0m in \u001b[0;36mget_grouper\u001b[0;34m(obj, key, axis, level, sort, observed, mutated, validate, dropna)\u001b[0m\n\u001b[1;32m    886\u001b[0m                 \u001b[0min_axis\u001b[0m\u001b[0;34m,\u001b[0m \u001b[0mlevel\u001b[0m\u001b[0;34m,\u001b[0m \u001b[0mgpr\u001b[0m \u001b[0;34m=\u001b[0m \u001b[0;32mFalse\u001b[0m\u001b[0;34m,\u001b[0m \u001b[0mgpr\u001b[0m\u001b[0;34m,\u001b[0m \u001b[0;32mNone\u001b[0m\u001b[0;34m\u001b[0m\u001b[0;34m\u001b[0m\u001b[0m\n\u001b[1;32m    887\u001b[0m             \u001b[0;32melse\u001b[0m\u001b[0;34m:\u001b[0m\u001b[0;34m\u001b[0m\u001b[0;34m\u001b[0m\u001b[0m\n\u001b[0;32m--> 888\u001b[0;31m                 \u001b[0;32mraise\u001b[0m \u001b[0mKeyError\u001b[0m\u001b[0;34m(\u001b[0m\u001b[0mgpr\u001b[0m\u001b[0;34m)\u001b[0m\u001b[0;34m\u001b[0m\u001b[0;34m\u001b[0m\u001b[0m\n\u001b[0m\u001b[1;32m    889\u001b[0m         \u001b[0;32melif\u001b[0m \u001b[0misinstance\u001b[0m\u001b[0;34m(\u001b[0m\u001b[0mgpr\u001b[0m\u001b[0;34m,\u001b[0m \u001b[0mGrouper\u001b[0m\u001b[0;34m)\u001b[0m \u001b[0;32mand\u001b[0m \u001b[0mgpr\u001b[0m\u001b[0;34m.\u001b[0m\u001b[0mkey\u001b[0m \u001b[0;32mis\u001b[0m \u001b[0;32mnot\u001b[0m \u001b[0;32mNone\u001b[0m\u001b[0;34m:\u001b[0m\u001b[0;34m\u001b[0m\u001b[0;34m\u001b[0m\u001b[0m\n\u001b[1;32m    890\u001b[0m             \u001b[0;31m# Add key to exclusions\u001b[0m\u001b[0;34m\u001b[0m\u001b[0;34m\u001b[0m\u001b[0m\n",
            "\u001b[0;31mKeyError\u001b[0m: 'item_description'"
          ]
        }
      ]
    },
    {
      "cell_type": "code",
      "source": [
        "dummy\n"
      ],
      "metadata": {
        "colab": {
          "base_uri": "https://localhost:8080/"
        },
        "id": "K1WZloTgAnlJ",
        "outputId": "70ccb47e-2323-4ba5-cc2f-3bb3ec2284ea"
      },
      "execution_count": null,
      "outputs": [
        {
          "output_type": "execute_result",
          "data": {
            "text/plain": [
              "<pandas.core.groupby.generic.DataFrameGroupBy object at 0x7f16d4b71270>"
            ]
          },
          "metadata": {},
          "execution_count": 54
        }
      ]
    },
    {
      "cell_type": "code",
      "source": [
        "grouped_data = historical_data.groupby(['shop_id','item_description', 'item_price'])\n",
        "\n",
        "# perform calculations on the grouped data\n",
        "# for example, to calculate the total quantity sold for each group:\n",
        "total_quantity = grouped_data['quantity_sold'].sum()\n",
        "pd.set_option('display.max_rows', 100)\n",
        "print(total_quantity)"
      ],
      "metadata": {
        "colab": {
          "base_uri": "https://localhost:8080/"
        },
        "id": "7iVoRIVdA-5w",
        "outputId": "fec7760a-e1ef-454b-cbb9-9c18cdba01b1"
      },
      "execution_count": null,
      "outputs": [
        {
          "output_type": "stream",
          "name": "stdout",
          "text": [
            "shop_id  item_description             item_price\n",
            "SHOP001  BOTTLED DRINKING WATER 1.5L  70            32\n",
            "                                      140            8\n",
            "                                      210            8\n",
            "                                      280            5\n",
            "                                      630           10\n",
            "                                                    ..\n",
            "SHOP127  TONIC PET 500ML              4000          26\n",
            "         TWISTEE APPLE 1L             270           34\n",
            "                                      290            2\n",
            "                                      540            4\n",
            "                                      810            2\n",
            "Name: quantity_sold, Length: 19728, dtype: int64\n"
          ]
        }
      ]
    },
    {
      "cell_type": "code",
      "source": [
        "\n",
        "print(total_quantity['SHOP001']['BOTTLED DRINKING WATER 1.5L'])"
      ],
      "metadata": {
        "colab": {
          "base_uri": "https://localhost:8080/"
        },
        "id": "MDINHHw7OSky",
        "outputId": "9f0f2754-6c5e-461a-c9b8-6a1012f837c8"
      },
      "execution_count": null,
      "outputs": [
        {
          "output_type": "stream",
          "name": "stdout",
          "text": [
            "item_price\n",
            "70     32\n",
            "140     8\n",
            "210     8\n",
            "280     5\n",
            "630    10\n",
            "Name: quantity_sold, dtype: int64\n"
          ]
        }
      ]
    },
    {
      "cell_type": "code",
      "source": [
        "mean_price_group = historical_data.groupby('item_description')\n",
        "\n",
        "mean_price = mean_price_group['item_price'].mean()\n",
        "\n",
        "print(mean_price)"
      ],
      "metadata": {
        "colab": {
          "base_uri": "https://localhost:8080/"
        },
        "id": "hfr1A59NBT_g",
        "outputId": "d3d7b234-83e7-4413-e4e6-4336db81540e"
      },
      "execution_count": null,
      "outputs": [
        {
          "output_type": "stream",
          "name": "stdout",
          "text": [
            "item_description\n",
            "BOTTLED DRINKING WATER 1.5L     106.005003\n",
            "BOTTLED DRINKING WATER 500ML     77.250095\n",
            "CHOCOLATE MILK 180ML            270.375000\n",
            "CREAM SODA 1.5L                 292.896385\n",
            "CREAM SODA 1L                   165.744275\n",
            "CREAM SODA 500ML                118.251748\n",
            "CREAM SODA APPLE POP 1L         185.352761\n",
            "DRY GINGER ALE PET 500ML        247.716322\n",
            "FIT O MANGO 1L                  328.948079\n",
            "FIT O MANGO 200ML               115.135007\n",
            "FIT O MIXED FRUIT 1L            335.763616\n",
            "FIT O MIXED FRUIT 200ML         119.121817\n",
            "FIT O ORANGE 1L                 361.777547\n",
            "FIT O ORANGE 200ML              125.300316\n",
            "GINGER BEER 1.5L                264.335160\n",
            "GINGER BEER 1L                  165.935542\n",
            "GINGER BEER 400ML               131.076923\n",
            "GINGER BEER 500ML               125.295251\n",
            "GINGER BEER SUGAR FREE 500ML    109.819398\n",
            "KIK COLA 1L                     138.395522\n",
            "LEMONADE 1.5L                   249.332241\n",
            "LEMONADE 1L                     135.391539\n",
            "LEMONADE 500ML                  119.029909\n",
            "LIME CRUSH JUICE 1L             650.000000\n",
            "NECTO 1.5L                      289.461970\n",
            "NECTO 1L                        163.824451\n",
            "NECTO 500ML                     116.872212\n",
            "ORANGE BARLEY 1.5L              275.265746\n",
            "ORANGE CRUSH 1.5L               253.605212\n",
            "ORANGE CRUSH 1L                 171.009174\n",
            "ORANGE CRUSH 500ML              120.301230\n",
            "SODA 1L                         144.921299\n",
            "SODA 500ML                      110.507678\n",
            "SODA PET 1.5L                   242.379249\n",
            "STRAWBERRY MILK 180ML           138.135624\n",
            "TONIC PET 500ML                 314.210485\n",
            "TWISTEE APPLE 1L                313.129771\n",
            "Name: item_price, dtype: float64\n"
          ]
        }
      ]
    },
    {
      "cell_type": "code",
      "source": [
        "mean_count_group = historical_data.groupby('item_description')\n",
        "\n",
        "mean_count = mean_count_group['item_price'].unique()\n",
        "\n",
        "print(mean_count)"
      ],
      "metadata": {
        "colab": {
          "base_uri": "https://localhost:8080/"
        },
        "id": "8E2kNoTJBh-C",
        "outputId": "4523aa8a-bfaf-487c-e01d-c672715a759f"
      },
      "execution_count": null,
      "outputs": [
        {
          "output_type": "stream",
          "name": "stdout",
          "text": [
            "item_description\n",
            "BOTTLED DRINKING WATER 1.5L     [140, 70, 280, 420, 210, 560, 350, 490, 700, 6...\n",
            "BOTTLED DRINKING WATER 500ML    [70, 35, 210, 245, 175, 105, 280, 805, 840, 14...\n",
            "CHOCOLATE MILK 180ML            [350, 140, 70, 210, 280, 700, 1050, 490, 840, ...\n",
            "CREAM SODA 1.5L                 [220, 660, 440, 880, 1100, 1320, 1540, 2200, 2...\n",
            "CREAM SODA 1L                    [150, 300, 450, 600, 750, 1050, 900, 1200, 1500]\n",
            "CREAM SODA 500ML                [100, 200, 300, 600, 400, 1000, 500, 1100, 700...\n",
            "CREAM SODA APPLE POP 1L                      [150, 750, 450, 300, 600, 900, 1950]\n",
            "DRY GINGER ALE PET 500ML        [320, 480, 300, 160, 150, 640, 1280, 450, 2400...\n",
            "FIT O MANGO 1L                  [290, 270, 580, 810, 540, 870, 1080, 1450, 232...\n",
            "FIT O MANGO 200ML               [60, 120, 360, 70, 180, 240, 480, 140, 490, 72...\n",
            "FIT O MIXED FRUIT 1L            [290, 270, 580, 810, 870, 540, 2700, 1450, 261...\n",
            "FIT O MIXED FRUIT 200ML         [60, 120, 360, 240, 180, 280, 140, 70, 900, 30...\n",
            "FIT O ORANGE 1L                 [290, 270, 580, 870, 540, 1160, 1450, 2610, 20...\n",
            "FIT O ORANGE 200ML              [120, 60, 70, 1120, 140, 360, 280, 240, 210, 7...\n",
            "GINGER BEER 1.5L                [220, 660, 440, 880, 1100, 1320, 1540, 1980, 1...\n",
            "GINGER BEER 1L                  [150, 300, 450, 750, 600, 1050, 900, 1650, 195...\n",
            "GINGER BEER 400ML               [100, 200, 500, 300, 900, 80, 400, 800, 600, 1...\n",
            "GINGER BEER 500ML               [100, 200, 300, 500, 600, 400, 2500, 2000, 100...\n",
            "GINGER BEER SUGAR FREE 500ML    [80, 160, 320, 240, 400, 560, 640, 480, 960, 1...\n",
            "KIK COLA 1L                     [120, 600, 480, 960, 240, 1080, 360, 110, 220,...\n",
            "LEMONADE 1.5L                   [220, 440, 1100, 660, 880, 1320, 1540, 4400, 2...\n",
            "LEMONADE 1L                     [120, 480, 360, 240, 1440, 1200, 1080, 720, 60...\n",
            "LEMONADE 500ML                  [200, 100, 400, 300, 500, 1200, 600, 800, 1000...\n",
            "LIME CRUSH JUICE 1L                                                         [650]\n",
            "NECTO 1.5L                      [220, 440, 660, 1320, 880, 1100, 1540, 2200, 2...\n",
            "NECTO 1L                               [150, 300, 750, 450, 900, 1350, 600, 1200]\n",
            "NECTO 500ML                     [100, 200, 600, 700, 300, 400, 1200, 500, 1000...\n",
            "ORANGE BARLEY 1.5L              [220, 660, 440, 880, 1100, 1760, 1320, 3960, 2...\n",
            "ORANGE CRUSH 1.5L               [220, 440, 660, 1100, 880, 1320, 2200, 1760, 1...\n",
            "ORANGE CRUSH 1L                  [300, 150, 450, 750, 900, 600, 1650, 1200, 1500]\n",
            "ORANGE CRUSH 500ML              [100, 200, 900, 500, 300, 600, 400, 800, 700, ...\n",
            "SODA 1L                         [110, 440, 220, 330, 1320, 660, 550, 880, 990,...\n",
            "SODA 500ML                      [70, 140, 210, 420, 280, 700, 350, 910, 770, 5...\n",
            "SODA PET 1.5L                   [160, 150, 320, 450, 640, 960, 480, 300, 1600,...\n",
            "STRAWBERRY MILK 180ML           [210, 140, 280, 70, 2100, 65, 130, 350, 700, 2...\n",
            "TONIC PET 500ML                 [160, 960, 320, 640, 480, 300, 150, 1120, 1600...\n",
            "TWISTEE APPLE 1L                [270, 540, 290, 1080, 810, 580, 1350, 1620, 21...\n",
            "Name: item_price, dtype: object\n"
          ]
        }
      ]
    },
    {
      "cell_type": "code",
      "source": [
        "# assuming the data is stored in a DataFrame called historical_data\n",
        "\n",
        "# group the data by shop_id and item_description\n",
        "grouped_data = historical_data.groupby(['shop_id', 'item_description'])\n",
        "\n",
        "# calculate the total revenue for each group by multiplying the item price by the quantity sold and summing the result\n",
        "total_revenue = (grouped_data['item_price'] * grouped_data['quantity_sold']).sum()\n",
        "\n",
        "# calculate the average revenue for each group by dividing the total revenue by the number of unique items in each group\n",
        "average_revenue = total_revenue / grouped_data['item_description'].nunique()\n",
        "\n",
        "# print the result\n",
        "print(average_revenue)"
      ],
      "metadata": {
        "colab": {
          "base_uri": "https://localhost:8080/",
          "height": 269
        },
        "id": "gIYXO4xeDVrP",
        "outputId": "370633cf-da79-4b21-b960-8e3afdba30ac"
      },
      "execution_count": null,
      "outputs": [
        {
          "output_type": "error",
          "ename": "TypeError",
          "evalue": "ignored",
          "traceback": [
            "\u001b[0;31m---------------------------------------------------------------------------\u001b[0m",
            "\u001b[0;31mTypeError\u001b[0m                                 Traceback (most recent call last)",
            "\u001b[0;32m<ipython-input-72-07bdb996f0c7>\u001b[0m in \u001b[0;36m<cell line: 7>\u001b[0;34m()\u001b[0m\n\u001b[1;32m      5\u001b[0m \u001b[0;34m\u001b[0m\u001b[0m\n\u001b[1;32m      6\u001b[0m \u001b[0;31m# calculate the total revenue for each group by multiplying the item price by the quantity sold and summing the result\u001b[0m\u001b[0;34m\u001b[0m\u001b[0;34m\u001b[0m\u001b[0m\n\u001b[0;32m----> 7\u001b[0;31m \u001b[0mtotal_revenue\u001b[0m \u001b[0;34m=\u001b[0m \u001b[0;34m(\u001b[0m\u001b[0mgrouped_data\u001b[0m\u001b[0;34m[\u001b[0m\u001b[0;34m'item_price'\u001b[0m\u001b[0;34m]\u001b[0m \u001b[0;34m*\u001b[0m \u001b[0mgrouped_data\u001b[0m\u001b[0;34m[\u001b[0m\u001b[0;34m'quantity_sold'\u001b[0m\u001b[0;34m]\u001b[0m\u001b[0;34m)\u001b[0m\u001b[0;34m.\u001b[0m\u001b[0msum\u001b[0m\u001b[0;34m(\u001b[0m\u001b[0;34m)\u001b[0m\u001b[0;34m\u001b[0m\u001b[0;34m\u001b[0m\u001b[0m\n\u001b[0m\u001b[1;32m      8\u001b[0m \u001b[0;34m\u001b[0m\u001b[0m\n\u001b[1;32m      9\u001b[0m \u001b[0;31m# calculate the average revenue for each group by dividing the total revenue by the number of unique items in each group\u001b[0m\u001b[0;34m\u001b[0m\u001b[0;34m\u001b[0m\u001b[0m\n",
            "\u001b[0;31mTypeError\u001b[0m: unsupported operand type(s) for *: 'SeriesGroupBy' and 'SeriesGroupBy'"
          ]
        }
      ]
    },
    {
      "cell_type": "code",
      "source": [
        "# grouped_data = historical_data.groupby(['shop_id','item_description', 'item_price'])\n",
        "\n",
        "# # calculate the total revenue for each group\n",
        "# grouped_data['revenue'] = grouped_data['quantity_sold'] * grouped_data['item_price']\n",
        "\n",
        "# # calculate the average revenue for each item by shop\n",
        "# average_revenue = grouped_data['revenue'].mean()\n",
        "\n",
        "# pd.set_option('display.max_rows', 100)\n",
        "# print(average_revenue)\n",
        "\n",
        "\n",
        "# grouped_data = historical_data.groupby(['shop_id', 'item_description', 'item_price'])\n",
        "\n",
        "# # define a custom function to calculate revenue for each group\n",
        "# def calculate_revenue(group):\n",
        "#     return (group['quantity_sold'] * group['item_price']).sum()\n",
        "\n",
        "# # apply the custom function to calculate revenue for each group\n",
        "# grouped_data['revenue'] = grouped_data.apply(calculate_revenue)\n",
        "\n",
        "# # calculate the average revenue for each item by shop\n",
        "# average_revenue = grouped_data.groupby(['shop_id', 'item_description'])['revenue'].mean()\n",
        "\n",
        "# pd.set_option('display.max_rows', 100)\n",
        "# print(average_revenue)\n",
        "\n",
        "\n",
        "grouped_data = historical_data.groupby(['shop_id', 'item_description', 'item_price'])\n",
        "\n",
        "# define a custom function to calculate revenue for each group\n",
        "def calculate_revenue(group):\n",
        "    return (group['quantity_sold'] * group['item_price']).sum()\n",
        "\n",
        "# apply the custom function to calculate revenue for each group\n",
        "revenue_data = grouped_data.apply(calculate_revenue).reset_index(name='revenue')\n",
        "\n",
        "# calculate the average revenue for each item by shop\n",
        "average_revenue = revenue_data.groupby(['shop_id', 'item_description'])['revenue'].mean()\n",
        "\n",
        "pd.set_option('display.max_rows', 100)\n",
        "print(average_revenue)\n"
      ],
      "metadata": {
        "colab": {
          "base_uri": "https://localhost:8080/"
        },
        "id": "ZN3SR4VpRKAZ",
        "outputId": "39f0f6ca-f0a9-46c8-f532-a8926feae038"
      },
      "execution_count": null,
      "outputs": [
        {
          "output_type": "stream",
          "name": "stdout",
          "text": [
            "shop_id  item_description            \n",
            "SHOP001  BOTTLED DRINKING WATER 1.5L      2548.000000\n",
            "         BOTTLED DRINKING WATER 500ML    11608.333333\n",
            "         CREAM SODA 1.5L                 21926.666667\n",
            "         CREAM SODA 1L                    4350.000000\n",
            "         CREAM SODA 500ML                 9150.000000\n",
            "                                             ...     \n",
            "SHOP127  SODA 500ML                      11180.909091\n",
            "         SODA PET 1.5L                    8936.000000\n",
            "         STRAWBERRY MILK 180ML            3511.666667\n",
            "         TONIC PET 500ML                 34120.714286\n",
            "         TWISTEE APPLE 1L                 3385.000000\n",
            "Name: revenue, Length: 4323, dtype: float64\n"
          ]
        }
      ]
    },
    {
      "cell_type": "code",
      "source": [
        "type(average_revenue)"
      ],
      "metadata": {
        "colab": {
          "base_uri": "https://localhost:8080/"
        },
        "id": "I4Xqkd_yRYwF",
        "outputId": "210fc60d-63d0-46a3-bb13-93f5f52de3fe"
      },
      "execution_count": null,
      "outputs": [
        {
          "output_type": "execute_result",
          "data": {
            "text/plain": [
              "pandas.core.series.Series"
            ]
          },
          "metadata": {},
          "execution_count": 76
        }
      ]
    },
    {
      "cell_type": "code",
      "source": [
        "average_revenue.head()"
      ],
      "metadata": {
        "colab": {
          "base_uri": "https://localhost:8080/"
        },
        "id": "UaOnRPMRSue8",
        "outputId": "ccc6fc68-2e24-4bd8-d8ce-0b9b17c3302e"
      },
      "execution_count": null,
      "outputs": [
        {
          "output_type": "execute_result",
          "data": {
            "text/plain": [
              "shop_id  item_description            \n",
              "SHOP001  BOTTLED DRINKING WATER 1.5L      2548.000000\n",
              "         BOTTLED DRINKING WATER 500ML    11608.333333\n",
              "         CREAM SODA 1.5L                 21926.666667\n",
              "         CREAM SODA 1L                    4350.000000\n",
              "         CREAM SODA 500ML                 9150.000000\n",
              "Name: revenue, dtype: float64"
            ]
          },
          "metadata": {},
          "execution_count": 78
        }
      ]
    },
    {
      "cell_type": "code",
      "source": [
        "type(historical_data)"
      ],
      "metadata": {
        "colab": {
          "base_uri": "https://localhost:8080/"
        },
        "id": "LUEKg9i7VqfH",
        "outputId": "73ac9f39-479c-43d3-a143-3284ba7d4996"
      },
      "execution_count": null,
      "outputs": [
        {
          "output_type": "execute_result",
          "data": {
            "text/plain": [
              "pandas.core.frame.DataFrame"
            ]
          },
          "metadata": {},
          "execution_count": 79
        }
      ]
    },
    {
      "cell_type": "code",
      "source": [
        "average_revenue_df = average_revenue.reset_index().rename(columns={'revenue': 'average_revenue'})\n"
      ],
      "metadata": {
        "id": "-ILKbmbRVtJ9"
      },
      "execution_count": null,
      "outputs": []
    },
    {
      "cell_type": "code",
      "source": [
        "average_revenue_df.describe(include='all').T"
      ],
      "metadata": {
        "colab": {
          "base_uri": "https://localhost:8080/",
          "height": 260
        },
        "id": "AropOPdfWD46",
        "outputId": "bddff714-1fa2-4f99-c0d7-33a346d56e97"
      },
      "execution_count": null,
      "outputs": [
        {
          "output_type": "execute_result",
          "data": {
            "text/plain": [
              "                   count unique                          top freq  \\\n",
              "shop_id             4323    124                      SHOP127   36   \n",
              "item_description    4323     37  BOTTLED DRINKING WATER 1.5L  124   \n",
              "average_revenue   4323.0    NaN                          NaN  NaN   \n",
              "\n",
              "                         mean           std   min          25%          50%  \\\n",
              "shop_id                   NaN           NaN   NaN          NaN          NaN   \n",
              "item_description          NaN           NaN   NaN          NaN          NaN   \n",
              "average_revenue   11282.06925  13657.543727  70.0  3058.857143  6013.333333   \n",
              "\n",
              "                           75%            max  \n",
              "shop_id                    NaN            NaN  \n",
              "item_description           NaN            NaN  \n",
              "average_revenue   13563.333333  141735.555556  "
            ],
            "text/html": [
              "\n",
              "  <div id=\"df-ed746dfb-b674-4592-94e6-63aea8776321\">\n",
              "    <div class=\"colab-df-container\">\n",
              "      <div>\n",
              "<style scoped>\n",
              "    .dataframe tbody tr th:only-of-type {\n",
              "        vertical-align: middle;\n",
              "    }\n",
              "\n",
              "    .dataframe tbody tr th {\n",
              "        vertical-align: top;\n",
              "    }\n",
              "\n",
              "    .dataframe thead th {\n",
              "        text-align: right;\n",
              "    }\n",
              "</style>\n",
              "<table border=\"1\" class=\"dataframe\">\n",
              "  <thead>\n",
              "    <tr style=\"text-align: right;\">\n",
              "      <th></th>\n",
              "      <th>count</th>\n",
              "      <th>unique</th>\n",
              "      <th>top</th>\n",
              "      <th>freq</th>\n",
              "      <th>mean</th>\n",
              "      <th>std</th>\n",
              "      <th>min</th>\n",
              "      <th>25%</th>\n",
              "      <th>50%</th>\n",
              "      <th>75%</th>\n",
              "      <th>max</th>\n",
              "    </tr>\n",
              "  </thead>\n",
              "  <tbody>\n",
              "    <tr>\n",
              "      <th>shop_id</th>\n",
              "      <td>4323</td>\n",
              "      <td>124</td>\n",
              "      <td>SHOP127</td>\n",
              "      <td>36</td>\n",
              "      <td>NaN</td>\n",
              "      <td>NaN</td>\n",
              "      <td>NaN</td>\n",
              "      <td>NaN</td>\n",
              "      <td>NaN</td>\n",
              "      <td>NaN</td>\n",
              "      <td>NaN</td>\n",
              "    </tr>\n",
              "    <tr>\n",
              "      <th>item_description</th>\n",
              "      <td>4323</td>\n",
              "      <td>37</td>\n",
              "      <td>BOTTLED DRINKING WATER 1.5L</td>\n",
              "      <td>124</td>\n",
              "      <td>NaN</td>\n",
              "      <td>NaN</td>\n",
              "      <td>NaN</td>\n",
              "      <td>NaN</td>\n",
              "      <td>NaN</td>\n",
              "      <td>NaN</td>\n",
              "      <td>NaN</td>\n",
              "    </tr>\n",
              "    <tr>\n",
              "      <th>average_revenue</th>\n",
              "      <td>4323.0</td>\n",
              "      <td>NaN</td>\n",
              "      <td>NaN</td>\n",
              "      <td>NaN</td>\n",
              "      <td>11282.06925</td>\n",
              "      <td>13657.543727</td>\n",
              "      <td>70.0</td>\n",
              "      <td>3058.857143</td>\n",
              "      <td>6013.333333</td>\n",
              "      <td>13563.333333</td>\n",
              "      <td>141735.555556</td>\n",
              "    </tr>\n",
              "  </tbody>\n",
              "</table>\n",
              "</div>\n",
              "      <button class=\"colab-df-convert\" onclick=\"convertToInteractive('df-ed746dfb-b674-4592-94e6-63aea8776321')\"\n",
              "              title=\"Convert this dataframe to an interactive table.\"\n",
              "              style=\"display:none;\">\n",
              "        \n",
              "  <svg xmlns=\"http://www.w3.org/2000/svg\" height=\"24px\"viewBox=\"0 0 24 24\"\n",
              "       width=\"24px\">\n",
              "    <path d=\"M0 0h24v24H0V0z\" fill=\"none\"/>\n",
              "    <path d=\"M18.56 5.44l.94 2.06.94-2.06 2.06-.94-2.06-.94-.94-2.06-.94 2.06-2.06.94zm-11 1L8.5 8.5l.94-2.06 2.06-.94-2.06-.94L8.5 2.5l-.94 2.06-2.06.94zm10 10l.94 2.06.94-2.06 2.06-.94-2.06-.94-.94-2.06-.94 2.06-2.06.94z\"/><path d=\"M17.41 7.96l-1.37-1.37c-.4-.4-.92-.59-1.43-.59-.52 0-1.04.2-1.43.59L10.3 9.45l-7.72 7.72c-.78.78-.78 2.05 0 2.83L4 21.41c.39.39.9.59 1.41.59.51 0 1.02-.2 1.41-.59l7.78-7.78 2.81-2.81c.8-.78.8-2.07 0-2.86zM5.41 20L4 18.59l7.72-7.72 1.47 1.35L5.41 20z\"/>\n",
              "  </svg>\n",
              "      </button>\n",
              "      \n",
              "  <style>\n",
              "    .colab-df-container {\n",
              "      display:flex;\n",
              "      flex-wrap:wrap;\n",
              "      gap: 12px;\n",
              "    }\n",
              "\n",
              "    .colab-df-convert {\n",
              "      background-color: #E8F0FE;\n",
              "      border: none;\n",
              "      border-radius: 50%;\n",
              "      cursor: pointer;\n",
              "      display: none;\n",
              "      fill: #1967D2;\n",
              "      height: 32px;\n",
              "      padding: 0 0 0 0;\n",
              "      width: 32px;\n",
              "    }\n",
              "\n",
              "    .colab-df-convert:hover {\n",
              "      background-color: #E2EBFA;\n",
              "      box-shadow: 0px 1px 2px rgba(60, 64, 67, 0.3), 0px 1px 3px 1px rgba(60, 64, 67, 0.15);\n",
              "      fill: #174EA6;\n",
              "    }\n",
              "\n",
              "    [theme=dark] .colab-df-convert {\n",
              "      background-color: #3B4455;\n",
              "      fill: #D2E3FC;\n",
              "    }\n",
              "\n",
              "    [theme=dark] .colab-df-convert:hover {\n",
              "      background-color: #434B5C;\n",
              "      box-shadow: 0px 1px 3px 1px rgba(0, 0, 0, 0.15);\n",
              "      filter: drop-shadow(0px 1px 2px rgba(0, 0, 0, 0.3));\n",
              "      fill: #FFFFFF;\n",
              "    }\n",
              "  </style>\n",
              "\n",
              "      <script>\n",
              "        const buttonEl =\n",
              "          document.querySelector('#df-ed746dfb-b674-4592-94e6-63aea8776321 button.colab-df-convert');\n",
              "        buttonEl.style.display =\n",
              "          google.colab.kernel.accessAllowed ? 'block' : 'none';\n",
              "\n",
              "        async function convertToInteractive(key) {\n",
              "          const element = document.querySelector('#df-ed746dfb-b674-4592-94e6-63aea8776321');\n",
              "          const dataTable =\n",
              "            await google.colab.kernel.invokeFunction('convertToInteractive',\n",
              "                                                     [key], {});\n",
              "          if (!dataTable) return;\n",
              "\n",
              "          const docLinkHtml = 'Like what you see? Visit the ' +\n",
              "            '<a target=\"_blank\" href=https://colab.research.google.com/notebooks/data_table.ipynb>data table notebook</a>'\n",
              "            + ' to learn more about interactive tables.';\n",
              "          element.innerHTML = '';\n",
              "          dataTable['output_type'] = 'display_data';\n",
              "          await google.colab.output.renderOutput(dataTable, element);\n",
              "          const docLink = document.createElement('div');\n",
              "          docLink.innerHTML = docLinkHtml;\n",
              "          element.appendChild(docLink);\n",
              "        }\n",
              "      </script>\n",
              "    </div>\n",
              "  </div>\n",
              "  "
            ]
          },
          "metadata": {},
          "execution_count": 83
        }
      ]
    },
    {
      "cell_type": "code",
      "source": [
        "grouped_data = historical_data.groupby(['shop_id', 'item_description', 'item_price'])\n",
        "\n",
        "# define a custom function to calculate revenue for each group\n",
        "def calculate_revenue(group):\n",
        "    return group['item_price'].mean()\n",
        "\n",
        "# apply the custom function to calculate revenue for each group\n",
        "revenue_data = grouped_data.apply(calculate_revenue).reset_index(name='avg_price')\n",
        "\n",
        "# calculate the average revenue for each item by shop\n",
        "average_revenue = revenue_data.groupby(['shop_id', 'item_description'])['avg_price']\n",
        "\n",
        "pd.set_option('display.max_rows', 100)\n",
        "print(average_revenue)"
      ],
      "metadata": {
        "colab": {
          "base_uri": "https://localhost:8080/"
        },
        "id": "YliNon7uWGZ7",
        "outputId": "20969bc4-3cfb-4845-ebd1-4da2ba4d8707"
      },
      "execution_count": null,
      "outputs": [
        {
          "output_type": "stream",
          "name": "stdout",
          "text": [
            "<pandas.core.groupby.generic.SeriesGroupBy object at 0x7f16de861a20>\n"
          ]
        }
      ]
    },
    {
      "cell_type": "code",
      "source": [
        "grouped_data = historical_data.groupby(['shop_id','item_description', 'item_price'])\n",
        "\n",
        "# perform calculations on the grouped data\n",
        "# for example, to calculate the total quantity sold for each group:\n",
        "total_quantity = grouped_data['item_price'].mean()\n",
        "pd.set_option('display.max_rows', 100)\n",
        "print(total_quantity)"
      ],
      "metadata": {
        "colab": {
          "base_uri": "https://localhost:8080/"
        },
        "id": "FJ-Q5YangU_E",
        "outputId": "978635cc-35f9-4ebf-8e55-3fc6dde5aa39"
      },
      "execution_count": null,
      "outputs": [
        {
          "output_type": "stream",
          "name": "stdout",
          "text": [
            "shop_id  item_description             item_price\n",
            "SHOP001  BOTTLED DRINKING WATER 1.5L  70              70.0\n",
            "                                      140            140.0\n",
            "                                      210            210.0\n",
            "                                      280            280.0\n",
            "                                      630            630.0\n",
            "                                                     ...  \n",
            "SHOP127  TONIC PET 500ML              4000          4000.0\n",
            "         TWISTEE APPLE 1L             270            270.0\n",
            "                                      290            290.0\n",
            "                                      540            540.0\n",
            "                                      810            810.0\n",
            "Name: item_price, Length: 19728, dtype: float64\n"
          ]
        }
      ]
    },
    {
      "cell_type": "code",
      "source": [],
      "metadata": {
        "id": "ZwpxWv3jgm25"
      },
      "execution_count": null,
      "outputs": []
    }
  ]
}