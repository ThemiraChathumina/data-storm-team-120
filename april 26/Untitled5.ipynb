{
  "cells": [
    {
      "cell_type": "code",
      "execution_count": null,
      "metadata": {
        "colab": {
          "background_save": true
        },
        "id": "Or5cJfkWRNSb"
      },
      "outputs": [],
      "source": [
        "# !pip install kaggle\n",
        "# ! mkdir ~/.kaggle\n",
        "\n",
        "# import json\n",
        "# kaggle_token = {\"username\":\"datastorm120\",\"key\":\"8ff6645b2258b372547db6ef8b635c6c\"}\n",
        "# with open(\"kaggle.json\", \"w\") as f:\n",
        "#   token_json = json.dumps(kaggle_token)\n",
        "#   f.write(token_json)\n",
        "\n",
        "# ! cp kaggle.json ~/.kaggle/\n",
        "# ! chmod 600 ~/.kaggle/kaggle.json\n",
        "# ! kaggle competitions download -c data-storm-4\n",
        "# ! unzip data-storm-4.zip "
      ]
    },
    {
      "cell_type": "code",
      "execution_count": null,
      "metadata": {
        "colab": {
          "background_save": true
        },
        "id": "7h0y6PjlSR5F",
        "outputId": "bf3560da-72e8-4f71-e2f3-a1205a723f5e"
      },
      "outputs": [
        {
          "data": {
            "text/html": [
              "\n",
              "  <div id=\"df-1f7e9635-df70-4320-8c14-f3c236b44af0\">\n",
              "    <div class=\"colab-df-container\">\n",
              "      <div>\n",
              "<style scoped>\n",
              "    .dataframe tbody tr th:only-of-type {\n",
              "        vertical-align: middle;\n",
              "    }\n",
              "\n",
              "    .dataframe tbody tr th {\n",
              "        vertical-align: top;\n",
              "    }\n",
              "\n",
              "    .dataframe thead th {\n",
              "        text-align: right;\n",
              "    }\n",
              "</style>\n",
              "<table border=\"1\" class=\"dataframe\">\n",
              "  <thead>\n",
              "    <tr style=\"text-align: right;\">\n",
              "      <th></th>\n",
              "      <th>shop_id</th>\n",
              "      <th>shop_area_sq_ft</th>\n",
              "      <th>shop_profile</th>\n",
              "    </tr>\n",
              "  </thead>\n",
              "  <tbody>\n",
              "    <tr>\n",
              "      <th>0</th>\n",
              "      <td>SHOP047</td>\n",
              "      <td>528</td>\n",
              "      <td>Moderate</td>\n",
              "    </tr>\n",
              "    <tr>\n",
              "      <th>1</th>\n",
              "      <td>SHOP009</td>\n",
              "      <td>676</td>\n",
              "      <td>High</td>\n",
              "    </tr>\n",
              "    <tr>\n",
              "      <th>2</th>\n",
              "      <td>SHOP083</td>\n",
              "      <td>676</td>\n",
              "      <td>Low</td>\n",
              "    </tr>\n",
              "    <tr>\n",
              "      <th>3</th>\n",
              "      <td>SHOP117</td>\n",
              "      <td>676</td>\n",
              "      <td>Low</td>\n",
              "    </tr>\n",
              "    <tr>\n",
              "      <th>4</th>\n",
              "      <td>SHOP042</td>\n",
              "      <td>676</td>\n",
              "      <td>Low</td>\n",
              "    </tr>\n",
              "  </tbody>\n",
              "</table>\n",
              "</div>\n",
              "      <button class=\"colab-df-convert\" onclick=\"convertToInteractive('df-1f7e9635-df70-4320-8c14-f3c236b44af0')\"\n",
              "              title=\"Convert this dataframe to an interactive table.\"\n",
              "              style=\"display:none;\">\n",
              "        \n",
              "  <svg xmlns=\"http://www.w3.org/2000/svg\" height=\"24px\"viewBox=\"0 0 24 24\"\n",
              "       width=\"24px\">\n",
              "    <path d=\"M0 0h24v24H0V0z\" fill=\"none\"/>\n",
              "    <path d=\"M18.56 5.44l.94 2.06.94-2.06 2.06-.94-2.06-.94-.94-2.06-.94 2.06-2.06.94zm-11 1L8.5 8.5l.94-2.06 2.06-.94-2.06-.94L8.5 2.5l-.94 2.06-2.06.94zm10 10l.94 2.06.94-2.06 2.06-.94-2.06-.94-.94-2.06-.94 2.06-2.06.94z\"/><path d=\"M17.41 7.96l-1.37-1.37c-.4-.4-.92-.59-1.43-.59-.52 0-1.04.2-1.43.59L10.3 9.45l-7.72 7.72c-.78.78-.78 2.05 0 2.83L4 21.41c.39.39.9.59 1.41.59.51 0 1.02-.2 1.41-.59l7.78-7.78 2.81-2.81c.8-.78.8-2.07 0-2.86zM5.41 20L4 18.59l7.72-7.72 1.47 1.35L5.41 20z\"/>\n",
              "  </svg>\n",
              "      </button>\n",
              "      \n",
              "  <style>\n",
              "    .colab-df-container {\n",
              "      display:flex;\n",
              "      flex-wrap:wrap;\n",
              "      gap: 12px;\n",
              "    }\n",
              "\n",
              "    .colab-df-convert {\n",
              "      background-color: #E8F0FE;\n",
              "      border: none;\n",
              "      border-radius: 50%;\n",
              "      cursor: pointer;\n",
              "      display: none;\n",
              "      fill: #1967D2;\n",
              "      height: 32px;\n",
              "      padding: 0 0 0 0;\n",
              "      width: 32px;\n",
              "    }\n",
              "\n",
              "    .colab-df-convert:hover {\n",
              "      background-color: #E2EBFA;\n",
              "      box-shadow: 0px 1px 2px rgba(60, 64, 67, 0.3), 0px 1px 3px 1px rgba(60, 64, 67, 0.15);\n",
              "      fill: #174EA6;\n",
              "    }\n",
              "\n",
              "    [theme=dark] .colab-df-convert {\n",
              "      background-color: #3B4455;\n",
              "      fill: #D2E3FC;\n",
              "    }\n",
              "\n",
              "    [theme=dark] .colab-df-convert:hover {\n",
              "      background-color: #434B5C;\n",
              "      box-shadow: 0px 1px 3px 1px rgba(0, 0, 0, 0.15);\n",
              "      filter: drop-shadow(0px 1px 2px rgba(0, 0, 0, 0.3));\n",
              "      fill: #FFFFFF;\n",
              "    }\n",
              "  </style>\n",
              "\n",
              "      <script>\n",
              "        const buttonEl =\n",
              "          document.querySelector('#df-1f7e9635-df70-4320-8c14-f3c236b44af0 button.colab-df-convert');\n",
              "        buttonEl.style.display =\n",
              "          google.colab.kernel.accessAllowed ? 'block' : 'none';\n",
              "\n",
              "        async function convertToInteractive(key) {\n",
              "          const element = document.querySelector('#df-1f7e9635-df70-4320-8c14-f3c236b44af0');\n",
              "          const dataTable =\n",
              "            await google.colab.kernel.invokeFunction('convertToInteractive',\n",
              "                                                     [key], {});\n",
              "          if (!dataTable) return;\n",
              "\n",
              "          const docLinkHtml = 'Like what you see? Visit the ' +\n",
              "            '<a target=\"_blank\" href=https://colab.research.google.com/notebooks/data_table.ipynb>data table notebook</a>'\n",
              "            + ' to learn more about interactive tables.';\n",
              "          element.innerHTML = '';\n",
              "          dataTable['output_type'] = 'display_data';\n",
              "          await google.colab.output.renderOutput(dataTable, element);\n",
              "          const docLink = document.createElement('div');\n",
              "          docLink.innerHTML = docLinkHtml;\n",
              "          element.appendChild(docLink);\n",
              "        }\n",
              "      </script>\n",
              "    </div>\n",
              "  </div>\n",
              "  "
            ],
            "text/plain": [
              "   shop_id  shop_area_sq_ft shop_profile\n",
              "0  SHOP047              528     Moderate\n",
              "1  SHOP009              676         High\n",
              "2  SHOP083              676          Low\n",
              "3  SHOP117              676          Low\n",
              "4  SHOP042              676          Low"
            ]
          },
          "execution_count": 285,
          "metadata": {},
          "output_type": "execute_result"
        }
      ],
      "source": [
        "import pandas as pd\n",
        "import numpy as np\n",
        "\n",
        "store_info_data = pd.read_csv('Store-info.csv')\n",
        "historical_data = pd.read_csv('Historical-transaction-data.csv')\n",
        "testing_data = pd.read_csv('Testing-data.csv')\n",
        "\n",
        "store_info_data.head()"
      ]
    },
    {
      "cell_type": "code",
      "execution_count": null,
      "metadata": {
        "colab": {
          "background_save": true
        },
        "id": "POcbtnS9SeCR",
        "outputId": "80cf9fdc-e758-490e-8fae-75caae5b7c65"
      },
      "outputs": [
        {
          "data": {
            "text/html": [
              "\n",
              "  <div id=\"df-6f8d1b46-13b5-4480-91fd-89b84b889d8f\">\n",
              "    <div class=\"colab-df-container\">\n",
              "      <div>\n",
              "<style scoped>\n",
              "    .dataframe tbody tr th:only-of-type {\n",
              "        vertical-align: middle;\n",
              "    }\n",
              "\n",
              "    .dataframe tbody tr th {\n",
              "        vertical-align: top;\n",
              "    }\n",
              "\n",
              "    .dataframe thead th {\n",
              "        text-align: right;\n",
              "    }\n",
              "</style>\n",
              "<table border=\"1\" class=\"dataframe\">\n",
              "  <thead>\n",
              "    <tr style=\"text-align: right;\">\n",
              "      <th></th>\n",
              "      <th>item_description</th>\n",
              "      <th>transaction_date</th>\n",
              "      <th>invoice_id</th>\n",
              "      <th>customer_id</th>\n",
              "      <th>shop_id</th>\n",
              "      <th>item_price</th>\n",
              "      <th>quantity_sold</th>\n",
              "      <th>shop_area_sq_ft</th>\n",
              "      <th>shop_profile</th>\n",
              "    </tr>\n",
              "  </thead>\n",
              "  <tbody>\n",
              "    <tr>\n",
              "      <th>0</th>\n",
              "      <td>ORANGE BARLEY 1.5L</td>\n",
              "      <td>2021-12-11T00:00:00.000Z</td>\n",
              "      <td>147.0</td>\n",
              "      <td>BGXA</td>\n",
              "      <td>SHOP008</td>\n",
              "      <td>220</td>\n",
              "      <td>2</td>\n",
              "      <td>678</td>\n",
              "      <td>Moderate</td>\n",
              "    </tr>\n",
              "    <tr>\n",
              "      <th>1</th>\n",
              "      <td>GINGER BEER 1.5L</td>\n",
              "      <td>2021-10-17T00:00:00.000Z</td>\n",
              "      <td>371.0</td>\n",
              "      <td>IA25</td>\n",
              "      <td>SHOP112</td>\n",
              "      <td>220</td>\n",
              "      <td>2</td>\n",
              "      <td>668</td>\n",
              "      <td>Moderate</td>\n",
              "    </tr>\n",
              "    <tr>\n",
              "      <th>2</th>\n",
              "      <td>TONIC PET 500ML</td>\n",
              "      <td>2021-12-13T00:00:00.000Z</td>\n",
              "      <td>484.0</td>\n",
              "      <td>VN7V</td>\n",
              "      <td>SHOP008</td>\n",
              "      <td>160</td>\n",
              "      <td>2</td>\n",
              "      <td>678</td>\n",
              "      <td>Moderate</td>\n",
              "    </tr>\n",
              "    <tr>\n",
              "      <th>3</th>\n",
              "      <td>CREAM SODA 1L</td>\n",
              "      <td>2021-12-13T00:00:00.000Z</td>\n",
              "      <td>484.0</td>\n",
              "      <td>VN7V</td>\n",
              "      <td>SHOP008</td>\n",
              "      <td>150</td>\n",
              "      <td>2</td>\n",
              "      <td>678</td>\n",
              "      <td>Moderate</td>\n",
              "    </tr>\n",
              "    <tr>\n",
              "      <th>4</th>\n",
              "      <td>STRAWBERRY MILK 180ML</td>\n",
              "      <td>2021-10-23T00:00:00.000Z</td>\n",
              "      <td>1310.0</td>\n",
              "      <td>7S00</td>\n",
              "      <td>SHOP112</td>\n",
              "      <td>210</td>\n",
              "      <td>5</td>\n",
              "      <td>668</td>\n",
              "      <td>Moderate</td>\n",
              "    </tr>\n",
              "  </tbody>\n",
              "</table>\n",
              "</div>\n",
              "      <button class=\"colab-df-convert\" onclick=\"convertToInteractive('df-6f8d1b46-13b5-4480-91fd-89b84b889d8f')\"\n",
              "              title=\"Convert this dataframe to an interactive table.\"\n",
              "              style=\"display:none;\">\n",
              "        \n",
              "  <svg xmlns=\"http://www.w3.org/2000/svg\" height=\"24px\"viewBox=\"0 0 24 24\"\n",
              "       width=\"24px\">\n",
              "    <path d=\"M0 0h24v24H0V0z\" fill=\"none\"/>\n",
              "    <path d=\"M18.56 5.44l.94 2.06.94-2.06 2.06-.94-2.06-.94-.94-2.06-.94 2.06-2.06.94zm-11 1L8.5 8.5l.94-2.06 2.06-.94-2.06-.94L8.5 2.5l-.94 2.06-2.06.94zm10 10l.94 2.06.94-2.06 2.06-.94-2.06-.94-.94-2.06-.94 2.06-2.06.94z\"/><path d=\"M17.41 7.96l-1.37-1.37c-.4-.4-.92-.59-1.43-.59-.52 0-1.04.2-1.43.59L10.3 9.45l-7.72 7.72c-.78.78-.78 2.05 0 2.83L4 21.41c.39.39.9.59 1.41.59.51 0 1.02-.2 1.41-.59l7.78-7.78 2.81-2.81c.8-.78.8-2.07 0-2.86zM5.41 20L4 18.59l7.72-7.72 1.47 1.35L5.41 20z\"/>\n",
              "  </svg>\n",
              "      </button>\n",
              "      \n",
              "  <style>\n",
              "    .colab-df-container {\n",
              "      display:flex;\n",
              "      flex-wrap:wrap;\n",
              "      gap: 12px;\n",
              "    }\n",
              "\n",
              "    .colab-df-convert {\n",
              "      background-color: #E8F0FE;\n",
              "      border: none;\n",
              "      border-radius: 50%;\n",
              "      cursor: pointer;\n",
              "      display: none;\n",
              "      fill: #1967D2;\n",
              "      height: 32px;\n",
              "      padding: 0 0 0 0;\n",
              "      width: 32px;\n",
              "    }\n",
              "\n",
              "    .colab-df-convert:hover {\n",
              "      background-color: #E2EBFA;\n",
              "      box-shadow: 0px 1px 2px rgba(60, 64, 67, 0.3), 0px 1px 3px 1px rgba(60, 64, 67, 0.15);\n",
              "      fill: #174EA6;\n",
              "    }\n",
              "\n",
              "    [theme=dark] .colab-df-convert {\n",
              "      background-color: #3B4455;\n",
              "      fill: #D2E3FC;\n",
              "    }\n",
              "\n",
              "    [theme=dark] .colab-df-convert:hover {\n",
              "      background-color: #434B5C;\n",
              "      box-shadow: 0px 1px 3px 1px rgba(0, 0, 0, 0.15);\n",
              "      filter: drop-shadow(0px 1px 2px rgba(0, 0, 0, 0.3));\n",
              "      fill: #FFFFFF;\n",
              "    }\n",
              "  </style>\n",
              "\n",
              "      <script>\n",
              "        const buttonEl =\n",
              "          document.querySelector('#df-6f8d1b46-13b5-4480-91fd-89b84b889d8f button.colab-df-convert');\n",
              "        buttonEl.style.display =\n",
              "          google.colab.kernel.accessAllowed ? 'block' : 'none';\n",
              "\n",
              "        async function convertToInteractive(key) {\n",
              "          const element = document.querySelector('#df-6f8d1b46-13b5-4480-91fd-89b84b889d8f');\n",
              "          const dataTable =\n",
              "            await google.colab.kernel.invokeFunction('convertToInteractive',\n",
              "                                                     [key], {});\n",
              "          if (!dataTable) return;\n",
              "\n",
              "          const docLinkHtml = 'Like what you see? Visit the ' +\n",
              "            '<a target=\"_blank\" href=https://colab.research.google.com/notebooks/data_table.ipynb>data table notebook</a>'\n",
              "            + ' to learn more about interactive tables.';\n",
              "          element.innerHTML = '';\n",
              "          dataTable['output_type'] = 'display_data';\n",
              "          await google.colab.output.renderOutput(dataTable, element);\n",
              "          const docLink = document.createElement('div');\n",
              "          docLink.innerHTML = docLinkHtml;\n",
              "          element.appendChild(docLink);\n",
              "        }\n",
              "      </script>\n",
              "    </div>\n",
              "  </div>\n",
              "  "
            ],
            "text/plain": [
              "        item_description          transaction_date  invoice_id customer_id  \\\n",
              "0     ORANGE BARLEY 1.5L  2021-12-11T00:00:00.000Z       147.0        BGXA   \n",
              "1       GINGER BEER 1.5L  2021-10-17T00:00:00.000Z       371.0        IA25   \n",
              "2        TONIC PET 500ML  2021-12-13T00:00:00.000Z       484.0        VN7V   \n",
              "3          CREAM SODA 1L  2021-12-13T00:00:00.000Z       484.0        VN7V   \n",
              "4  STRAWBERRY MILK 180ML  2021-10-23T00:00:00.000Z      1310.0        7S00   \n",
              "\n",
              "   shop_id  item_price  quantity_sold  shop_area_sq_ft shop_profile  \n",
              "0  SHOP008         220              2              678     Moderate  \n",
              "1  SHOP112         220              2              668     Moderate  \n",
              "2  SHOP008         160              2              678     Moderate  \n",
              "3  SHOP008         150              2              678     Moderate  \n",
              "4  SHOP112         210              5              668     Moderate  "
            ]
          },
          "execution_count": 286,
          "metadata": {},
          "output_type": "execute_result"
        }
      ],
      "source": [
        "merged_df = pd.merge(historical_data, store_info_data, on='shop_id', how='left')\n",
        "\n",
        "merged_df.head()"
      ]
    },
    {
      "cell_type": "code",
      "execution_count": null,
      "metadata": {
        "colab": {
          "background_save": true
        },
        "id": "Ud-OZuQ630Hf",
        "outputId": "359be12d-ceea-4205-ee3e-5914c3542d82"
      },
      "outputs": [
        {
          "name": "stdout",
          "output_type": "stream",
          "text": [
            "144956\n"
          ]
        }
      ],
      "source": [
        "count = (merged_df['shop_profile'] == 'High').sum()\n",
        "print(count)"
      ]
    },
    {
      "cell_type": "code",
      "execution_count": null,
      "metadata": {
        "colab": {
          "background_save": true
        },
        "id": "CXUh1vfiSiYv",
        "outputId": "9cff786f-1009-49ca-a649-55edc5556674"
      },
      "outputs": [
        {
          "name": "stdout",
          "output_type": "stream",
          "text": [
            "Number of null values in item_description feature: 35928\n"
          ]
        }
      ],
      "source": [
        "null_count = merged_df['item_description'].isnull().sum()\n",
        "print(\"Number of null values in item_description feature:\", null_count)"
      ]
    },
    {
      "cell_type": "code",
      "execution_count": null,
      "metadata": {
        "colab": {
          "background_save": true
        },
        "id": "S61ecrAs45_N",
        "outputId": "33a2a4ec-be7c-4430-e18a-c64d8ab4d4a7"
      },
      "outputs": [
        {
          "name": "stdout",
          "output_type": "stream",
          "text": [
            "144956\n"
          ]
        }
      ],
      "source": [
        "count = (merged_df['shop_profile'] == 'High').sum()\n",
        "print(count)"
      ]
    },
    {
      "cell_type": "code",
      "execution_count": null,
      "metadata": {
        "colab": {
          "background_save": true
        },
        "id": "u-2AoFAlSmZH",
        "outputId": "05f16b77-fe2d-40a1-e92e-700561977678"
      },
      "outputs": [
        {
          "name": "stdout",
          "output_type": "stream",
          "text": [
            "Number of null values in item_description feature: 15503\n"
          ]
        }
      ],
      "source": [
        "# create a dictionary mapping item prices to their most common item descriptions\n",
        "price_to_mode = merged_df.groupby('item_description')['item_price'].apply(lambda x: x.mode()[0]).to_dict()\n",
        "# Loop through each row in merged_df\n",
        "for index, row in merged_df.iterrows():\n",
        "    # Check if item_description is null\n",
        "    if pd.isnull(row['item_description']):\n",
        "        # Find the item name in price_to_mode that has the same price\n",
        "        item_name = [key for key, value in price_to_mode.items() if value == row['item_price']]\n",
        "        # If there is a matching item name, fill the null value in item_description\n",
        "        if item_name:\n",
        "            merged_df.at[index, 'item_description'] = item_name[0]\n",
        "\n",
        "null_count = merged_df['item_description'].isnull().sum()\n",
        "print(\"Number of null values in item_description feature:\", null_count)"
      ]
    },
    {
      "cell_type": "code",
      "execution_count": 319,
      "metadata": {
        "colab": {
          "base_uri": "https://localhost:8080/"
        },
        "id": "6qzj7s31443z",
        "outputId": "4056eb51-1b72-4861-de45-d2c4727022fc"
      },
      "outputs": [
        {
          "metadata": {
            "tags": null
          },
          "name": "stdout",
          "output_type": "stream",
          "text": [
            "144956\n"
          ]
        }
      ],
      "source": [
        "count = (merged_df['shop_profile'] == 'High').sum()\n",
        "print(count)"
      ]
    },
    {
      "cell_type": "code",
      "execution_count": 320,
      "metadata": {
        "colab": {
          "base_uri": "https://localhost:8080/"
        },
        "id": "5T_3Bg6bStXM",
        "outputId": "fae1880e-1541-40a6-ccd6-269550d6d192"
      },
      "outputs": [
        {
          "metadata": {
            "tags": null
          },
          "name": "stdout",
          "output_type": "stream",
          "text": [
            "Number of null values in item_price feature: 0\n"
          ]
        }
      ],
      "source": [
        "merged_df['item_price'] = merged_df.apply(lambda row: price_to_mode[row['item_description']] if pd.isnull(row['item_price']) else row['item_price'], axis=1)\n",
        "\n",
        "null_count = merged_df['item_price'].isnull().sum()\n",
        "print(\"Number of null values in item_price feature:\", null_count)"
      ]
    },
    {
      "cell_type": "code",
      "execution_count": 321,
      "metadata": {
        "colab": {
          "base_uri": "https://localhost:8080/"
        },
        "id": "S_8XdNMS4pyG",
        "outputId": "23315205-7d8a-4274-c266-01a0e0583e48"
      },
      "outputs": [
        {
          "metadata": {
            "tags": null
          },
          "name": "stdout",
          "output_type": "stream",
          "text": [
            "144956\n"
          ]
        }
      ],
      "source": [
        "count = (merged_df['shop_profile'] == 'High').sum()\n",
        "print(count)"
      ]
    },
    {
      "cell_type": "code",
      "execution_count": 322,
      "metadata": {
        "colab": {
          "base_uri": "https://localhost:8080/"
        },
        "id": "j9nE7DNQSypd",
        "outputId": "1ad6089a-0854-4746-a853-4a305121c3ff"
      },
      "outputs": [
        {
          "metadata": {
            "tags": null
          },
          "name": "stdout",
          "output_type": "stream",
          "text": [
            "Number of null values in item_description feature: 0\n"
          ]
        }
      ],
      "source": [
        "merged_df.dropna(subset=['item_description'], inplace=True)\n",
        "\n",
        "null_count = merged_df['item_description'].isnull().sum()\n",
        "print(\"Number of null values in item_description feature:\", null_count)"
      ]
    },
    {
      "cell_type": "code",
      "execution_count": 323,
      "metadata": {
        "colab": {
          "base_uri": "https://localhost:8080/"
        },
        "id": "Je5hkoXs4qzW",
        "outputId": "55b0e893-9fba-452e-92ab-472d86a3cbd6"
      },
      "outputs": [
        {
          "metadata": {
            "tags": null
          },
          "name": "stdout",
          "output_type": "stream",
          "text": [
            "140782\n"
          ]
        }
      ],
      "source": [
        "count = (merged_df['shop_profile'] == 'High').sum()\n",
        "print(count)"
      ]
    },
    {
      "cell_type": "code",
      "execution_count": 324,
      "metadata": {
        "colab": {
          "base_uri": "https://localhost:8080/"
        },
        "id": "YssWQujPS7mP",
        "outputId": "ddc7ef11-b58a-460d-843c-8043b91be07d"
      },
      "outputs": [
        {
          "metadata": {
            "tags": null
          },
          "name": "stdout",
          "output_type": "stream",
          "text": [
            "Number of null values in invoice_id feature: 0\n"
          ]
        }
      ],
      "source": [
        "merged_df.dropna(subset=['invoice_id'], inplace=True)\n",
        "\n",
        "null_count = merged_df['invoice_id'].isnull().sum()\n",
        "print(\"Number of null values in invoice_id feature:\", null_count)"
      ]
    },
    {
      "cell_type": "code",
      "execution_count": 325,
      "metadata": {
        "colab": {
          "base_uri": "https://localhost:8080/"
        },
        "id": "DMsA8kwr7Qvl",
        "outputId": "ba29a350-d628-477f-e616-88afb793a39b"
      },
      "outputs": [
        {
          "metadata": {
            "tags": null
          },
          "name": "stdout",
          "output_type": "stream",
          "text": [
            "138647\n"
          ]
        }
      ],
      "source": [
        "count = (merged_df['shop_profile'] == 'High').sum()\n",
        "print(count)"
      ]
    },
    {
      "cell_type": "code",
      "execution_count": 326,
      "metadata": {
        "colab": {
          "base_uri": "https://localhost:8080/"
        },
        "id": "klnUyySsS90C",
        "outputId": "354ec786-7518-4a98-cb36-a2b822642ba3"
      },
      "outputs": [
        {
          "metadata": {
            "tags": null
          },
          "name": "stderr",
          "output_type": "stream",
          "text": [
            "<ipython-input-326-e7cf8abd89dd>:5: FutureWarning: In a future version of pandas all arguments of DataFrame.any and Series.any will be keyword-only.\n",
            "  merged_df = merged_df.drop(numeric_cols[(numeric_cols < 0).any(1)].index)\n"
          ]
        }
      ],
      "source": [
        "# Select columns with numeric data types\n",
        "numeric_cols = merged_df.select_dtypes(include=[int, float])\n",
        "\n",
        "# Drop rows with negative values in any numeric column\n",
        "merged_df = merged_df.drop(numeric_cols[(numeric_cols < 0).any(1)].index)"
      ]
    },
    {
      "cell_type": "code",
      "execution_count": 327,
      "metadata": {
        "colab": {
          "base_uri": "https://localhost:8080/"
        },
        "id": "VBisGls27Rda",
        "outputId": "182d1b14-9f21-43bb-b050-6221315707c1"
      },
      "outputs": [
        {
          "metadata": {
            "tags": null
          },
          "name": "stdout",
          "output_type": "stream",
          "text": [
            "138645\n"
          ]
        }
      ],
      "source": [
        "count = (merged_df['shop_profile'] == 'High').sum()\n",
        "print(count)"
      ]
    },
    {
      "cell_type": "code",
      "execution_count": 328,
      "metadata": {
        "colab": {
          "base_uri": "https://localhost:8080/",
          "height": 206
        },
        "id": "bvx1txt_S_gn",
        "outputId": "f5ba1388-903a-4598-e943-aed689894f44"
      },
      "outputs": [
        {
          "data": {
            "text/html": [
              "\n",
              "  <div id=\"df-377647e3-f64c-46dc-8cb9-f75d261d62dd\">\n",
              "    <div class=\"colab-df-container\">\n",
              "      <div>\n",
              "<style scoped>\n",
              "    .dataframe tbody tr th:only-of-type {\n",
              "        vertical-align: middle;\n",
              "    }\n",
              "\n",
              "    .dataframe tbody tr th {\n",
              "        vertical-align: top;\n",
              "    }\n",
              "\n",
              "    .dataframe thead th {\n",
              "        text-align: right;\n",
              "    }\n",
              "</style>\n",
              "<table border=\"1\" class=\"dataframe\">\n",
              "  <thead>\n",
              "    <tr style=\"text-align: right;\">\n",
              "      <th></th>\n",
              "      <th>item_description</th>\n",
              "      <th>transaction_date</th>\n",
              "      <th>invoice_id</th>\n",
              "      <th>customer_id</th>\n",
              "      <th>shop_id</th>\n",
              "      <th>item_price</th>\n",
              "      <th>quantity_sold</th>\n",
              "      <th>shop_area_sq_ft</th>\n",
              "      <th>shop_profile</th>\n",
              "    </tr>\n",
              "  </thead>\n",
              "  <tbody>\n",
              "    <tr>\n",
              "      <th>0</th>\n",
              "      <td>ORANGE BARLEY 1.5L</td>\n",
              "      <td>2021-12-11T00:00:00.000Z</td>\n",
              "      <td>147.0</td>\n",
              "      <td>BGXA</td>\n",
              "      <td>SHOP008</td>\n",
              "      <td>220</td>\n",
              "      <td>2</td>\n",
              "      <td>678</td>\n",
              "      <td>Moderate</td>\n",
              "    </tr>\n",
              "    <tr>\n",
              "      <th>1</th>\n",
              "      <td>GINGER BEER 1.5L</td>\n",
              "      <td>2021-10-17T00:00:00.000Z</td>\n",
              "      <td>371.0</td>\n",
              "      <td>IA25</td>\n",
              "      <td>SHOP112</td>\n",
              "      <td>220</td>\n",
              "      <td>2</td>\n",
              "      <td>668</td>\n",
              "      <td>Moderate</td>\n",
              "    </tr>\n",
              "    <tr>\n",
              "      <th>2</th>\n",
              "      <td>TONIC PET 500ML</td>\n",
              "      <td>2021-12-13T00:00:00.000Z</td>\n",
              "      <td>484.0</td>\n",
              "      <td>VN7V</td>\n",
              "      <td>SHOP008</td>\n",
              "      <td>160</td>\n",
              "      <td>2</td>\n",
              "      <td>678</td>\n",
              "      <td>Moderate</td>\n",
              "    </tr>\n",
              "    <tr>\n",
              "      <th>3</th>\n",
              "      <td>CREAM SODA 1L</td>\n",
              "      <td>2021-12-13T00:00:00.000Z</td>\n",
              "      <td>484.0</td>\n",
              "      <td>VN7V</td>\n",
              "      <td>SHOP008</td>\n",
              "      <td>150</td>\n",
              "      <td>2</td>\n",
              "      <td>678</td>\n",
              "      <td>Moderate</td>\n",
              "    </tr>\n",
              "    <tr>\n",
              "      <th>4</th>\n",
              "      <td>STRAWBERRY MILK 180ML</td>\n",
              "      <td>2021-10-23T00:00:00.000Z</td>\n",
              "      <td>1310.0</td>\n",
              "      <td>7S00</td>\n",
              "      <td>SHOP112</td>\n",
              "      <td>210</td>\n",
              "      <td>5</td>\n",
              "      <td>668</td>\n",
              "      <td>Moderate</td>\n",
              "    </tr>\n",
              "  </tbody>\n",
              "</table>\n",
              "</div>\n",
              "      <button class=\"colab-df-convert\" onclick=\"convertToInteractive('df-377647e3-f64c-46dc-8cb9-f75d261d62dd')\"\n",
              "              title=\"Convert this dataframe to an interactive table.\"\n",
              "              style=\"display:none;\">\n",
              "        \n",
              "  <svg xmlns=\"http://www.w3.org/2000/svg\" height=\"24px\"viewBox=\"0 0 24 24\"\n",
              "       width=\"24px\">\n",
              "    <path d=\"M0 0h24v24H0V0z\" fill=\"none\"/>\n",
              "    <path d=\"M18.56 5.44l.94 2.06.94-2.06 2.06-.94-2.06-.94-.94-2.06-.94 2.06-2.06.94zm-11 1L8.5 8.5l.94-2.06 2.06-.94-2.06-.94L8.5 2.5l-.94 2.06-2.06.94zm10 10l.94 2.06.94-2.06 2.06-.94-2.06-.94-.94-2.06-.94 2.06-2.06.94z\"/><path d=\"M17.41 7.96l-1.37-1.37c-.4-.4-.92-.59-1.43-.59-.52 0-1.04.2-1.43.59L10.3 9.45l-7.72 7.72c-.78.78-.78 2.05 0 2.83L4 21.41c.39.39.9.59 1.41.59.51 0 1.02-.2 1.41-.59l7.78-7.78 2.81-2.81c.8-.78.8-2.07 0-2.86zM5.41 20L4 18.59l7.72-7.72 1.47 1.35L5.41 20z\"/>\n",
              "  </svg>\n",
              "      </button>\n",
              "      \n",
              "  <style>\n",
              "    .colab-df-container {\n",
              "      display:flex;\n",
              "      flex-wrap:wrap;\n",
              "      gap: 12px;\n",
              "    }\n",
              "\n",
              "    .colab-df-convert {\n",
              "      background-color: #E8F0FE;\n",
              "      border: none;\n",
              "      border-radius: 50%;\n",
              "      cursor: pointer;\n",
              "      display: none;\n",
              "      fill: #1967D2;\n",
              "      height: 32px;\n",
              "      padding: 0 0 0 0;\n",
              "      width: 32px;\n",
              "    }\n",
              "\n",
              "    .colab-df-convert:hover {\n",
              "      background-color: #E2EBFA;\n",
              "      box-shadow: 0px 1px 2px rgba(60, 64, 67, 0.3), 0px 1px 3px 1px rgba(60, 64, 67, 0.15);\n",
              "      fill: #174EA6;\n",
              "    }\n",
              "\n",
              "    [theme=dark] .colab-df-convert {\n",
              "      background-color: #3B4455;\n",
              "      fill: #D2E3FC;\n",
              "    }\n",
              "\n",
              "    [theme=dark] .colab-df-convert:hover {\n",
              "      background-color: #434B5C;\n",
              "      box-shadow: 0px 1px 3px 1px rgba(0, 0, 0, 0.15);\n",
              "      filter: drop-shadow(0px 1px 2px rgba(0, 0, 0, 0.3));\n",
              "      fill: #FFFFFF;\n",
              "    }\n",
              "  </style>\n",
              "\n",
              "      <script>\n",
              "        const buttonEl =\n",
              "          document.querySelector('#df-377647e3-f64c-46dc-8cb9-f75d261d62dd button.colab-df-convert');\n",
              "        buttonEl.style.display =\n",
              "          google.colab.kernel.accessAllowed ? 'block' : 'none';\n",
              "\n",
              "        async function convertToInteractive(key) {\n",
              "          const element = document.querySelector('#df-377647e3-f64c-46dc-8cb9-f75d261d62dd');\n",
              "          const dataTable =\n",
              "            await google.colab.kernel.invokeFunction('convertToInteractive',\n",
              "                                                     [key], {});\n",
              "          if (!dataTable) return;\n",
              "\n",
              "          const docLinkHtml = 'Like what you see? Visit the ' +\n",
              "            '<a target=\"_blank\" href=https://colab.research.google.com/notebooks/data_table.ipynb>data table notebook</a>'\n",
              "            + ' to learn more about interactive tables.';\n",
              "          element.innerHTML = '';\n",
              "          dataTable['output_type'] = 'display_data';\n",
              "          await google.colab.output.renderOutput(dataTable, element);\n",
              "          const docLink = document.createElement('div');\n",
              "          docLink.innerHTML = docLinkHtml;\n",
              "          element.appendChild(docLink);\n",
              "        }\n",
              "      </script>\n",
              "    </div>\n",
              "  </div>\n",
              "  "
            ],
            "text/plain": [
              "        item_description          transaction_date  invoice_id customer_id  \\\n",
              "0     ORANGE BARLEY 1.5L  2021-12-11T00:00:00.000Z       147.0        BGXA   \n",
              "1       GINGER BEER 1.5L  2021-10-17T00:00:00.000Z       371.0        IA25   \n",
              "2        TONIC PET 500ML  2021-12-13T00:00:00.000Z       484.0        VN7V   \n",
              "3          CREAM SODA 1L  2021-12-13T00:00:00.000Z       484.0        VN7V   \n",
              "4  STRAWBERRY MILK 180ML  2021-10-23T00:00:00.000Z      1310.0        7S00   \n",
              "\n",
              "   shop_id  item_price  quantity_sold  shop_area_sq_ft shop_profile  \n",
              "0  SHOP008         220              2              678     Moderate  \n",
              "1  SHOP112         220              2              668     Moderate  \n",
              "2  SHOP008         160              2              678     Moderate  \n",
              "3  SHOP008         150              2              678     Moderate  \n",
              "4  SHOP112         210              5              668     Moderate  "
            ]
          },
          "execution_count": 328,
          "metadata": {},
          "output_type": "execute_result"
        }
      ],
      "source": [
        "merged_df.head()"
      ]
    },
    {
      "cell_type": "code",
      "execution_count": 329,
      "metadata": {
        "colab": {
          "base_uri": "https://localhost:8080/"
        },
        "id": "PmLHhQgbT-6g",
        "outputId": "9b545e5e-b136-495e-eb43-3780e9cdae87"
      },
      "outputs": [
        {
          "metadata": {
            "tags": null
          },
          "name": "stdout",
          "output_type": "stream",
          "text": [
            "452417\n"
          ]
        }
      ],
      "source": [
        "print(len(merged_df))"
      ]
    },
    {
      "cell_type": "code",
      "execution_count": 330,
      "metadata": {
        "colab": {
          "base_uri": "https://localhost:8080/"
        },
        "id": "X6Xq6A294QLK",
        "outputId": "28d82aa9-ae8b-4b62-c640-2372d5004dad"
      },
      "outputs": [
        {
          "metadata": {
            "tags": null
          },
          "name": "stdout",
          "output_type": "stream",
          "text": [
            "138645\n"
          ]
        }
      ],
      "source": [
        "count = (merged_df['shop_profile'] == 'High').sum()\n",
        "print(count)"
      ]
    },
    {
      "cell_type": "code",
      "execution_count": 331,
      "metadata": {
        "colab": {
          "base_uri": "https://localhost:8080/",
          "height": 206
        },
        "id": "XElu6AKLWW4x",
        "outputId": "96aa75e7-f766-4e0a-d0fb-0f0ebf4d9146"
      },
      "outputs": [
        {
          "data": {
            "text/html": [
              "\n",
              "  <div id=\"df-32041518-128b-4582-91e3-bbe22da9ef23\">\n",
              "    <div class=\"colab-df-container\">\n",
              "      <div>\n",
              "<style scoped>\n",
              "    .dataframe tbody tr th:only-of-type {\n",
              "        vertical-align: middle;\n",
              "    }\n",
              "\n",
              "    .dataframe tbody tr th {\n",
              "        vertical-align: top;\n",
              "    }\n",
              "\n",
              "    .dataframe thead th {\n",
              "        text-align: right;\n",
              "    }\n",
              "</style>\n",
              "<table border=\"1\" class=\"dataframe\">\n",
              "  <thead>\n",
              "    <tr style=\"text-align: right;\">\n",
              "      <th></th>\n",
              "      <th>item_description</th>\n",
              "      <th>transaction_date</th>\n",
              "      <th>invoice_id</th>\n",
              "      <th>customer_id</th>\n",
              "      <th>shop_id</th>\n",
              "      <th>item_price</th>\n",
              "      <th>quantity_sold</th>\n",
              "      <th>shop_area_sq_ft</th>\n",
              "      <th>shop_profile</th>\n",
              "    </tr>\n",
              "  </thead>\n",
              "  <tbody>\n",
              "    <tr>\n",
              "      <th>0</th>\n",
              "      <td>27</td>\n",
              "      <td>2021-12-11T00:00:00.000Z</td>\n",
              "      <td>147.0</td>\n",
              "      <td>59378</td>\n",
              "      <td>SHOP008</td>\n",
              "      <td>220</td>\n",
              "      <td>2</td>\n",
              "      <td>678</td>\n",
              "      <td>2.0</td>\n",
              "    </tr>\n",
              "    <tr>\n",
              "      <th>1</th>\n",
              "      <td>14</td>\n",
              "      <td>2021-10-17T00:00:00.000Z</td>\n",
              "      <td>371.0</td>\n",
              "      <td>94694</td>\n",
              "      <td>SHOP112</td>\n",
              "      <td>220</td>\n",
              "      <td>2</td>\n",
              "      <td>668</td>\n",
              "      <td>2.0</td>\n",
              "    </tr>\n",
              "    <tr>\n",
              "      <th>2</th>\n",
              "      <td>35</td>\n",
              "      <td>2021-12-13T00:00:00.000Z</td>\n",
              "      <td>484.0</td>\n",
              "      <td>163963</td>\n",
              "      <td>SHOP008</td>\n",
              "      <td>160</td>\n",
              "      <td>2</td>\n",
              "      <td>678</td>\n",
              "      <td>2.0</td>\n",
              "    </tr>\n",
              "    <tr>\n",
              "      <th>3</th>\n",
              "      <td>4</td>\n",
              "      <td>2021-12-13T00:00:00.000Z</td>\n",
              "      <td>484.0</td>\n",
              "      <td>163963</td>\n",
              "      <td>SHOP008</td>\n",
              "      <td>150</td>\n",
              "      <td>2</td>\n",
              "      <td>678</td>\n",
              "      <td>2.0</td>\n",
              "    </tr>\n",
              "    <tr>\n",
              "      <th>4</th>\n",
              "      <td>34</td>\n",
              "      <td>2021-10-23T00:00:00.000Z</td>\n",
              "      <td>1310.0</td>\n",
              "      <td>40280</td>\n",
              "      <td>SHOP112</td>\n",
              "      <td>210</td>\n",
              "      <td>5</td>\n",
              "      <td>668</td>\n",
              "      <td>2.0</td>\n",
              "    </tr>\n",
              "  </tbody>\n",
              "</table>\n",
              "</div>\n",
              "      <button class=\"colab-df-convert\" onclick=\"convertToInteractive('df-32041518-128b-4582-91e3-bbe22da9ef23')\"\n",
              "              title=\"Convert this dataframe to an interactive table.\"\n",
              "              style=\"display:none;\">\n",
              "        \n",
              "  <svg xmlns=\"http://www.w3.org/2000/svg\" height=\"24px\"viewBox=\"0 0 24 24\"\n",
              "       width=\"24px\">\n",
              "    <path d=\"M0 0h24v24H0V0z\" fill=\"none\"/>\n",
              "    <path d=\"M18.56 5.44l.94 2.06.94-2.06 2.06-.94-2.06-.94-.94-2.06-.94 2.06-2.06.94zm-11 1L8.5 8.5l.94-2.06 2.06-.94-2.06-.94L8.5 2.5l-.94 2.06-2.06.94zm10 10l.94 2.06.94-2.06 2.06-.94-2.06-.94-.94-2.06-.94 2.06-2.06.94z\"/><path d=\"M17.41 7.96l-1.37-1.37c-.4-.4-.92-.59-1.43-.59-.52 0-1.04.2-1.43.59L10.3 9.45l-7.72 7.72c-.78.78-.78 2.05 0 2.83L4 21.41c.39.39.9.59 1.41.59.51 0 1.02-.2 1.41-.59l7.78-7.78 2.81-2.81c.8-.78.8-2.07 0-2.86zM5.41 20L4 18.59l7.72-7.72 1.47 1.35L5.41 20z\"/>\n",
              "  </svg>\n",
              "      </button>\n",
              "      \n",
              "  <style>\n",
              "    .colab-df-container {\n",
              "      display:flex;\n",
              "      flex-wrap:wrap;\n",
              "      gap: 12px;\n",
              "    }\n",
              "\n",
              "    .colab-df-convert {\n",
              "      background-color: #E8F0FE;\n",
              "      border: none;\n",
              "      border-radius: 50%;\n",
              "      cursor: pointer;\n",
              "      display: none;\n",
              "      fill: #1967D2;\n",
              "      height: 32px;\n",
              "      padding: 0 0 0 0;\n",
              "      width: 32px;\n",
              "    }\n",
              "\n",
              "    .colab-df-convert:hover {\n",
              "      background-color: #E2EBFA;\n",
              "      box-shadow: 0px 1px 2px rgba(60, 64, 67, 0.3), 0px 1px 3px 1px rgba(60, 64, 67, 0.15);\n",
              "      fill: #174EA6;\n",
              "    }\n",
              "\n",
              "    [theme=dark] .colab-df-convert {\n",
              "      background-color: #3B4455;\n",
              "      fill: #D2E3FC;\n",
              "    }\n",
              "\n",
              "    [theme=dark] .colab-df-convert:hover {\n",
              "      background-color: #434B5C;\n",
              "      box-shadow: 0px 1px 3px 1px rgba(0, 0, 0, 0.15);\n",
              "      filter: drop-shadow(0px 1px 2px rgba(0, 0, 0, 0.3));\n",
              "      fill: #FFFFFF;\n",
              "    }\n",
              "  </style>\n",
              "\n",
              "      <script>\n",
              "        const buttonEl =\n",
              "          document.querySelector('#df-32041518-128b-4582-91e3-bbe22da9ef23 button.colab-df-convert');\n",
              "        buttonEl.style.display =\n",
              "          google.colab.kernel.accessAllowed ? 'block' : 'none';\n",
              "\n",
              "        async function convertToInteractive(key) {\n",
              "          const element = document.querySelector('#df-32041518-128b-4582-91e3-bbe22da9ef23');\n",
              "          const dataTable =\n",
              "            await google.colab.kernel.invokeFunction('convertToInteractive',\n",
              "                                                     [key], {});\n",
              "          if (!dataTable) return;\n",
              "\n",
              "          const docLinkHtml = 'Like what you see? Visit the ' +\n",
              "            '<a target=\"_blank\" href=https://colab.research.google.com/notebooks/data_table.ipynb>data table notebook</a>'\n",
              "            + ' to learn more about interactive tables.';\n",
              "          element.innerHTML = '';\n",
              "          dataTable['output_type'] = 'display_data';\n",
              "          await google.colab.output.renderOutput(dataTable, element);\n",
              "          const docLink = document.createElement('div');\n",
              "          docLink.innerHTML = docLinkHtml;\n",
              "          element.appendChild(docLink);\n",
              "        }\n",
              "      </script>\n",
              "    </div>\n",
              "  </div>\n",
              "  "
            ],
            "text/plain": [
              "   item_description          transaction_date  invoice_id  customer_id  \\\n",
              "0                27  2021-12-11T00:00:00.000Z       147.0        59378   \n",
              "1                14  2021-10-17T00:00:00.000Z       371.0        94694   \n",
              "2                35  2021-12-13T00:00:00.000Z       484.0       163963   \n",
              "3                 4  2021-12-13T00:00:00.000Z       484.0       163963   \n",
              "4                34  2021-10-23T00:00:00.000Z      1310.0        40280   \n",
              "\n",
              "   shop_id  item_price  quantity_sold  shop_area_sq_ft  shop_profile  \n",
              "0  SHOP008         220              2              678           2.0  \n",
              "1  SHOP112         220              2              668           2.0  \n",
              "2  SHOP008         160              2              678           2.0  \n",
              "3  SHOP008         150              2              678           2.0  \n",
              "4  SHOP112         210              5              668           2.0  "
            ]
          },
          "execution_count": 331,
          "metadata": {},
          "output_type": "execute_result"
        }
      ],
      "source": [
        "from sklearn.preprocessing import LabelEncoder\n",
        "\n",
        "# instantiate a LabelEncoder object\n",
        "le = LabelEncoder()\n",
        "\n",
        "# label encode the item_description, customer_id, and shop_profile columns\n",
        "merged_df['item_description'] = le.fit_transform(merged_df['item_description'])\n",
        "merged_df['customer_id'] = le.fit_transform(merged_df['customer_id'])\n",
        "\n",
        "# replace the values in the shop_profile column with 1 for High, 2 for Moderate, and 3 for Low\n",
        "merged_df['shop_profile'] = merged_df['shop_profile'].replace({'Low':3, 'Moderate':2, 'High':1})\n",
        "\n",
        "merged_df.head()"
      ]
    },
    {
      "cell_type": "code",
      "execution_count": 332,
      "metadata": {
        "colab": {
          "base_uri": "https://localhost:8080/",
          "height": 250
        },
        "id": "eEfOoeATY-JS",
        "outputId": "a6ec5497-250b-46de-96ee-dfd665be9908"
      },
      "outputs": [
        {
          "data": {
            "text/html": [
              "\n",
              "  <div id=\"df-cccd5a75-d1bb-4305-9662-5cc14187a0a2\">\n",
              "    <div class=\"colab-df-container\">\n",
              "      <div>\n",
              "<style scoped>\n",
              "    .dataframe tbody tr th:only-of-type {\n",
              "        vertical-align: middle;\n",
              "    }\n",
              "\n",
              "    .dataframe tbody tr th {\n",
              "        vertical-align: top;\n",
              "    }\n",
              "\n",
              "    .dataframe thead th {\n",
              "        text-align: right;\n",
              "    }\n",
              "</style>\n",
              "<table border=\"1\" class=\"dataframe\">\n",
              "  <thead>\n",
              "    <tr style=\"text-align: right;\">\n",
              "      <th></th>\n",
              "      <th>item_description</th>\n",
              "      <th>transaction_date</th>\n",
              "      <th>invoice_id</th>\n",
              "      <th>customer_id</th>\n",
              "      <th>shop_id</th>\n",
              "      <th>item_price</th>\n",
              "      <th>quantity_sold</th>\n",
              "      <th>shop_area_sq_ft</th>\n",
              "      <th>shop_profile</th>\n",
              "      <th>transaction_month</th>\n",
              "    </tr>\n",
              "  </thead>\n",
              "  <tbody>\n",
              "    <tr>\n",
              "      <th>0</th>\n",
              "      <td>27</td>\n",
              "      <td>2021-12-11T00:00:00.000Z</td>\n",
              "      <td>147.0</td>\n",
              "      <td>59378</td>\n",
              "      <td>SHOP008</td>\n",
              "      <td>220</td>\n",
              "      <td>2</td>\n",
              "      <td>678</td>\n",
              "      <td>2.0</td>\n",
              "      <td>12</td>\n",
              "    </tr>\n",
              "    <tr>\n",
              "      <th>1</th>\n",
              "      <td>14</td>\n",
              "      <td>2021-10-17T00:00:00.000Z</td>\n",
              "      <td>371.0</td>\n",
              "      <td>94694</td>\n",
              "      <td>SHOP112</td>\n",
              "      <td>220</td>\n",
              "      <td>2</td>\n",
              "      <td>668</td>\n",
              "      <td>2.0</td>\n",
              "      <td>10</td>\n",
              "    </tr>\n",
              "    <tr>\n",
              "      <th>2</th>\n",
              "      <td>35</td>\n",
              "      <td>2021-12-13T00:00:00.000Z</td>\n",
              "      <td>484.0</td>\n",
              "      <td>163963</td>\n",
              "      <td>SHOP008</td>\n",
              "      <td>160</td>\n",
              "      <td>2</td>\n",
              "      <td>678</td>\n",
              "      <td>2.0</td>\n",
              "      <td>12</td>\n",
              "    </tr>\n",
              "    <tr>\n",
              "      <th>3</th>\n",
              "      <td>4</td>\n",
              "      <td>2021-12-13T00:00:00.000Z</td>\n",
              "      <td>484.0</td>\n",
              "      <td>163963</td>\n",
              "      <td>SHOP008</td>\n",
              "      <td>150</td>\n",
              "      <td>2</td>\n",
              "      <td>678</td>\n",
              "      <td>2.0</td>\n",
              "      <td>12</td>\n",
              "    </tr>\n",
              "    <tr>\n",
              "      <th>4</th>\n",
              "      <td>34</td>\n",
              "      <td>2021-10-23T00:00:00.000Z</td>\n",
              "      <td>1310.0</td>\n",
              "      <td>40280</td>\n",
              "      <td>SHOP112</td>\n",
              "      <td>210</td>\n",
              "      <td>5</td>\n",
              "      <td>668</td>\n",
              "      <td>2.0</td>\n",
              "      <td>10</td>\n",
              "    </tr>\n",
              "  </tbody>\n",
              "</table>\n",
              "</div>\n",
              "      <button class=\"colab-df-convert\" onclick=\"convertToInteractive('df-cccd5a75-d1bb-4305-9662-5cc14187a0a2')\"\n",
              "              title=\"Convert this dataframe to an interactive table.\"\n",
              "              style=\"display:none;\">\n",
              "        \n",
              "  <svg xmlns=\"http://www.w3.org/2000/svg\" height=\"24px\"viewBox=\"0 0 24 24\"\n",
              "       width=\"24px\">\n",
              "    <path d=\"M0 0h24v24H0V0z\" fill=\"none\"/>\n",
              "    <path d=\"M18.56 5.44l.94 2.06.94-2.06 2.06-.94-2.06-.94-.94-2.06-.94 2.06-2.06.94zm-11 1L8.5 8.5l.94-2.06 2.06-.94-2.06-.94L8.5 2.5l-.94 2.06-2.06.94zm10 10l.94 2.06.94-2.06 2.06-.94-2.06-.94-.94-2.06-.94 2.06-2.06.94z\"/><path d=\"M17.41 7.96l-1.37-1.37c-.4-.4-.92-.59-1.43-.59-.52 0-1.04.2-1.43.59L10.3 9.45l-7.72 7.72c-.78.78-.78 2.05 0 2.83L4 21.41c.39.39.9.59 1.41.59.51 0 1.02-.2 1.41-.59l7.78-7.78 2.81-2.81c.8-.78.8-2.07 0-2.86zM5.41 20L4 18.59l7.72-7.72 1.47 1.35L5.41 20z\"/>\n",
              "  </svg>\n",
              "      </button>\n",
              "      \n",
              "  <style>\n",
              "    .colab-df-container {\n",
              "      display:flex;\n",
              "      flex-wrap:wrap;\n",
              "      gap: 12px;\n",
              "    }\n",
              "\n",
              "    .colab-df-convert {\n",
              "      background-color: #E8F0FE;\n",
              "      border: none;\n",
              "      border-radius: 50%;\n",
              "      cursor: pointer;\n",
              "      display: none;\n",
              "      fill: #1967D2;\n",
              "      height: 32px;\n",
              "      padding: 0 0 0 0;\n",
              "      width: 32px;\n",
              "    }\n",
              "\n",
              "    .colab-df-convert:hover {\n",
              "      background-color: #E2EBFA;\n",
              "      box-shadow: 0px 1px 2px rgba(60, 64, 67, 0.3), 0px 1px 3px 1px rgba(60, 64, 67, 0.15);\n",
              "      fill: #174EA6;\n",
              "    }\n",
              "\n",
              "    [theme=dark] .colab-df-convert {\n",
              "      background-color: #3B4455;\n",
              "      fill: #D2E3FC;\n",
              "    }\n",
              "\n",
              "    [theme=dark] .colab-df-convert:hover {\n",
              "      background-color: #434B5C;\n",
              "      box-shadow: 0px 1px 3px 1px rgba(0, 0, 0, 0.15);\n",
              "      filter: drop-shadow(0px 1px 2px rgba(0, 0, 0, 0.3));\n",
              "      fill: #FFFFFF;\n",
              "    }\n",
              "  </style>\n",
              "\n",
              "      <script>\n",
              "        const buttonEl =\n",
              "          document.querySelector('#df-cccd5a75-d1bb-4305-9662-5cc14187a0a2 button.colab-df-convert');\n",
              "        buttonEl.style.display =\n",
              "          google.colab.kernel.accessAllowed ? 'block' : 'none';\n",
              "\n",
              "        async function convertToInteractive(key) {\n",
              "          const element = document.querySelector('#df-cccd5a75-d1bb-4305-9662-5cc14187a0a2');\n",
              "          const dataTable =\n",
              "            await google.colab.kernel.invokeFunction('convertToInteractive',\n",
              "                                                     [key], {});\n",
              "          if (!dataTable) return;\n",
              "\n",
              "          const docLinkHtml = 'Like what you see? Visit the ' +\n",
              "            '<a target=\"_blank\" href=https://colab.research.google.com/notebooks/data_table.ipynb>data table notebook</a>'\n",
              "            + ' to learn more about interactive tables.';\n",
              "          element.innerHTML = '';\n",
              "          dataTable['output_type'] = 'display_data';\n",
              "          await google.colab.output.renderOutput(dataTable, element);\n",
              "          const docLink = document.createElement('div');\n",
              "          docLink.innerHTML = docLinkHtml;\n",
              "          element.appendChild(docLink);\n",
              "        }\n",
              "      </script>\n",
              "    </div>\n",
              "  </div>\n",
              "  "
            ],
            "text/plain": [
              "   item_description          transaction_date  invoice_id  customer_id  \\\n",
              "0                27  2021-12-11T00:00:00.000Z       147.0        59378   \n",
              "1                14  2021-10-17T00:00:00.000Z       371.0        94694   \n",
              "2                35  2021-12-13T00:00:00.000Z       484.0       163963   \n",
              "3                 4  2021-12-13T00:00:00.000Z       484.0       163963   \n",
              "4                34  2021-10-23T00:00:00.000Z      1310.0        40280   \n",
              "\n",
              "   shop_id  item_price  quantity_sold  shop_area_sq_ft  shop_profile  \\\n",
              "0  SHOP008         220              2              678           2.0   \n",
              "1  SHOP112         220              2              668           2.0   \n",
              "2  SHOP008         160              2              678           2.0   \n",
              "3  SHOP008         150              2              678           2.0   \n",
              "4  SHOP112         210              5              668           2.0   \n",
              "\n",
              "   transaction_month  \n",
              "0                 12  \n",
              "1                 10  \n",
              "2                 12  \n",
              "3                 12  \n",
              "4                 10  "
            ]
          },
          "execution_count": 332,
          "metadata": {},
          "output_type": "execute_result"
        }
      ],
      "source": [
        "# extract the month from the transaction_date column and replace its value with the month\n",
        "merged_df['transaction_month'] = pd.to_datetime(merged_df['transaction_date']).dt.month\n",
        "\n",
        "# display the updated dataframe\n",
        "merged_df.head()"
      ]
    },
    {
      "cell_type": "code",
      "execution_count": 333,
      "metadata": {
        "colab": {
          "base_uri": "https://localhost:8080/",
          "height": 206
        },
        "id": "MzzW-0MiZKxm",
        "outputId": "19a43e45-2304-42ad-f12e-cb8076420111"
      },
      "outputs": [
        {
          "data": {
            "text/html": [
              "\n",
              "  <div id=\"df-4a8527fe-7c23-4fd5-89d2-a1c3677eaf44\">\n",
              "    <div class=\"colab-df-container\">\n",
              "      <div>\n",
              "<style scoped>\n",
              "    .dataframe tbody tr th:only-of-type {\n",
              "        vertical-align: middle;\n",
              "    }\n",
              "\n",
              "    .dataframe tbody tr th {\n",
              "        vertical-align: top;\n",
              "    }\n",
              "\n",
              "    .dataframe thead th {\n",
              "        text-align: right;\n",
              "    }\n",
              "</style>\n",
              "<table border=\"1\" class=\"dataframe\">\n",
              "  <thead>\n",
              "    <tr style=\"text-align: right;\">\n",
              "      <th></th>\n",
              "      <th>item_description</th>\n",
              "      <th>invoice_id</th>\n",
              "      <th>customer_id</th>\n",
              "      <th>shop_id</th>\n",
              "      <th>item_price</th>\n",
              "      <th>quantity_sold</th>\n",
              "      <th>shop_area_sq_ft</th>\n",
              "      <th>shop_profile</th>\n",
              "      <th>transaction_month</th>\n",
              "    </tr>\n",
              "  </thead>\n",
              "  <tbody>\n",
              "    <tr>\n",
              "      <th>0</th>\n",
              "      <td>27</td>\n",
              "      <td>147.0</td>\n",
              "      <td>59378</td>\n",
              "      <td>SHOP008</td>\n",
              "      <td>220</td>\n",
              "      <td>2</td>\n",
              "      <td>678</td>\n",
              "      <td>2.0</td>\n",
              "      <td>12</td>\n",
              "    </tr>\n",
              "    <tr>\n",
              "      <th>1</th>\n",
              "      <td>14</td>\n",
              "      <td>371.0</td>\n",
              "      <td>94694</td>\n",
              "      <td>SHOP112</td>\n",
              "      <td>220</td>\n",
              "      <td>2</td>\n",
              "      <td>668</td>\n",
              "      <td>2.0</td>\n",
              "      <td>10</td>\n",
              "    </tr>\n",
              "    <tr>\n",
              "      <th>2</th>\n",
              "      <td>35</td>\n",
              "      <td>484.0</td>\n",
              "      <td>163963</td>\n",
              "      <td>SHOP008</td>\n",
              "      <td>160</td>\n",
              "      <td>2</td>\n",
              "      <td>678</td>\n",
              "      <td>2.0</td>\n",
              "      <td>12</td>\n",
              "    </tr>\n",
              "    <tr>\n",
              "      <th>3</th>\n",
              "      <td>4</td>\n",
              "      <td>484.0</td>\n",
              "      <td>163963</td>\n",
              "      <td>SHOP008</td>\n",
              "      <td>150</td>\n",
              "      <td>2</td>\n",
              "      <td>678</td>\n",
              "      <td>2.0</td>\n",
              "      <td>12</td>\n",
              "    </tr>\n",
              "    <tr>\n",
              "      <th>4</th>\n",
              "      <td>34</td>\n",
              "      <td>1310.0</td>\n",
              "      <td>40280</td>\n",
              "      <td>SHOP112</td>\n",
              "      <td>210</td>\n",
              "      <td>5</td>\n",
              "      <td>668</td>\n",
              "      <td>2.0</td>\n",
              "      <td>10</td>\n",
              "    </tr>\n",
              "  </tbody>\n",
              "</table>\n",
              "</div>\n",
              "      <button class=\"colab-df-convert\" onclick=\"convertToInteractive('df-4a8527fe-7c23-4fd5-89d2-a1c3677eaf44')\"\n",
              "              title=\"Convert this dataframe to an interactive table.\"\n",
              "              style=\"display:none;\">\n",
              "        \n",
              "  <svg xmlns=\"http://www.w3.org/2000/svg\" height=\"24px\"viewBox=\"0 0 24 24\"\n",
              "       width=\"24px\">\n",
              "    <path d=\"M0 0h24v24H0V0z\" fill=\"none\"/>\n",
              "    <path d=\"M18.56 5.44l.94 2.06.94-2.06 2.06-.94-2.06-.94-.94-2.06-.94 2.06-2.06.94zm-11 1L8.5 8.5l.94-2.06 2.06-.94-2.06-.94L8.5 2.5l-.94 2.06-2.06.94zm10 10l.94 2.06.94-2.06 2.06-.94-2.06-.94-.94-2.06-.94 2.06-2.06.94z\"/><path d=\"M17.41 7.96l-1.37-1.37c-.4-.4-.92-.59-1.43-.59-.52 0-1.04.2-1.43.59L10.3 9.45l-7.72 7.72c-.78.78-.78 2.05 0 2.83L4 21.41c.39.39.9.59 1.41.59.51 0 1.02-.2 1.41-.59l7.78-7.78 2.81-2.81c.8-.78.8-2.07 0-2.86zM5.41 20L4 18.59l7.72-7.72 1.47 1.35L5.41 20z\"/>\n",
              "  </svg>\n",
              "      </button>\n",
              "      \n",
              "  <style>\n",
              "    .colab-df-container {\n",
              "      display:flex;\n",
              "      flex-wrap:wrap;\n",
              "      gap: 12px;\n",
              "    }\n",
              "\n",
              "    .colab-df-convert {\n",
              "      background-color: #E8F0FE;\n",
              "      border: none;\n",
              "      border-radius: 50%;\n",
              "      cursor: pointer;\n",
              "      display: none;\n",
              "      fill: #1967D2;\n",
              "      height: 32px;\n",
              "      padding: 0 0 0 0;\n",
              "      width: 32px;\n",
              "    }\n",
              "\n",
              "    .colab-df-convert:hover {\n",
              "      background-color: #E2EBFA;\n",
              "      box-shadow: 0px 1px 2px rgba(60, 64, 67, 0.3), 0px 1px 3px 1px rgba(60, 64, 67, 0.15);\n",
              "      fill: #174EA6;\n",
              "    }\n",
              "\n",
              "    [theme=dark] .colab-df-convert {\n",
              "      background-color: #3B4455;\n",
              "      fill: #D2E3FC;\n",
              "    }\n",
              "\n",
              "    [theme=dark] .colab-df-convert:hover {\n",
              "      background-color: #434B5C;\n",
              "      box-shadow: 0px 1px 3px 1px rgba(0, 0, 0, 0.15);\n",
              "      filter: drop-shadow(0px 1px 2px rgba(0, 0, 0, 0.3));\n",
              "      fill: #FFFFFF;\n",
              "    }\n",
              "  </style>\n",
              "\n",
              "      <script>\n",
              "        const buttonEl =\n",
              "          document.querySelector('#df-4a8527fe-7c23-4fd5-89d2-a1c3677eaf44 button.colab-df-convert');\n",
              "        buttonEl.style.display =\n",
              "          google.colab.kernel.accessAllowed ? 'block' : 'none';\n",
              "\n",
              "        async function convertToInteractive(key) {\n",
              "          const element = document.querySelector('#df-4a8527fe-7c23-4fd5-89d2-a1c3677eaf44');\n",
              "          const dataTable =\n",
              "            await google.colab.kernel.invokeFunction('convertToInteractive',\n",
              "                                                     [key], {});\n",
              "          if (!dataTable) return;\n",
              "\n",
              "          const docLinkHtml = 'Like what you see? Visit the ' +\n",
              "            '<a target=\"_blank\" href=https://colab.research.google.com/notebooks/data_table.ipynb>data table notebook</a>'\n",
              "            + ' to learn more about interactive tables.';\n",
              "          element.innerHTML = '';\n",
              "          dataTable['output_type'] = 'display_data';\n",
              "          await google.colab.output.renderOutput(dataTable, element);\n",
              "          const docLink = document.createElement('div');\n",
              "          docLink.innerHTML = docLinkHtml;\n",
              "          element.appendChild(docLink);\n",
              "        }\n",
              "      </script>\n",
              "    </div>\n",
              "  </div>\n",
              "  "
            ],
            "text/plain": [
              "   item_description  invoice_id  customer_id  shop_id  item_price  \\\n",
              "0                27       147.0        59378  SHOP008         220   \n",
              "1                14       371.0        94694  SHOP112         220   \n",
              "2                35       484.0       163963  SHOP008         160   \n",
              "3                 4       484.0       163963  SHOP008         150   \n",
              "4                34      1310.0        40280  SHOP112         210   \n",
              "\n",
              "   quantity_sold  shop_area_sq_ft  shop_profile  transaction_month  \n",
              "0              2              678           2.0                 12  \n",
              "1              2              668           2.0                 10  \n",
              "2              2              678           2.0                 12  \n",
              "3              2              678           2.0                 12  \n",
              "4              5              668           2.0                 10  "
            ]
          },
          "execution_count": 333,
          "metadata": {},
          "output_type": "execute_result"
        }
      ],
      "source": [
        "merged_df = merged_df.drop(\"transaction_date\",axis=1)\n",
        "\n",
        "merged_df.head()"
      ]
    },
    {
      "cell_type": "code",
      "execution_count": 334,
      "metadata": {
        "colab": {
          "base_uri": "https://localhost:8080/"
        },
        "id": "aDfE6xUWZTPr",
        "outputId": "b3721561-27c6-412e-cccf-be7c9afc7cde"
      },
      "outputs": [
        {
          "metadata": {
            "tags": null
          },
          "name": "stdout",
          "output_type": "stream",
          "text": [
            "There are 83036 records with NaN as the value for shop_profile column.\n"
          ]
        }
      ],
      "source": [
        "num_null_shop_profile = merged_df['shop_profile'].isnull().sum()\n",
        "\n",
        "# print the number of records that have NaN as the value for the shop_profile column\n",
        "print(f\"There are {num_null_shop_profile} records with NaN as the value for shop_profile column.\")"
      ]
    },
    {
      "cell_type": "code",
      "execution_count": 335,
      "metadata": {
        "colab": {
          "base_uri": "https://localhost:8080/",
          "height": 206
        },
        "id": "GWddHJq3v5me",
        "outputId": "0f578645-dc0a-47f1-ef33-d06ee02d6584"
      },
      "outputs": [
        {
          "data": {
            "text/html": [
              "\n",
              "  <div id=\"df-35ca04a1-1279-4816-be83-46235931e2dd\">\n",
              "    <div class=\"colab-df-container\">\n",
              "      <div>\n",
              "<style scoped>\n",
              "    .dataframe tbody tr th:only-of-type {\n",
              "        vertical-align: middle;\n",
              "    }\n",
              "\n",
              "    .dataframe tbody tr th {\n",
              "        vertical-align: top;\n",
              "    }\n",
              "\n",
              "    .dataframe thead th {\n",
              "        text-align: right;\n",
              "    }\n",
              "</style>\n",
              "<table border=\"1\" class=\"dataframe\">\n",
              "  <thead>\n",
              "    <tr style=\"text-align: right;\">\n",
              "      <th></th>\n",
              "      <th>item_description</th>\n",
              "      <th>invoice_id</th>\n",
              "    </tr>\n",
              "  </thead>\n",
              "  <tbody>\n",
              "    <tr>\n",
              "      <th>0</th>\n",
              "      <td>27</td>\n",
              "      <td>147.0</td>\n",
              "    </tr>\n",
              "    <tr>\n",
              "      <th>1</th>\n",
              "      <td>14</td>\n",
              "      <td>371.0</td>\n",
              "    </tr>\n",
              "    <tr>\n",
              "      <th>2</th>\n",
              "      <td>35</td>\n",
              "      <td>484.0</td>\n",
              "    </tr>\n",
              "    <tr>\n",
              "      <th>3</th>\n",
              "      <td>4</td>\n",
              "      <td>484.0</td>\n",
              "    </tr>\n",
              "    <tr>\n",
              "      <th>4</th>\n",
              "      <td>34</td>\n",
              "      <td>1310.0</td>\n",
              "    </tr>\n",
              "  </tbody>\n",
              "</table>\n",
              "</div>\n",
              "      <button class=\"colab-df-convert\" onclick=\"convertToInteractive('df-35ca04a1-1279-4816-be83-46235931e2dd')\"\n",
              "              title=\"Convert this dataframe to an interactive table.\"\n",
              "              style=\"display:none;\">\n",
              "        \n",
              "  <svg xmlns=\"http://www.w3.org/2000/svg\" height=\"24px\"viewBox=\"0 0 24 24\"\n",
              "       width=\"24px\">\n",
              "    <path d=\"M0 0h24v24H0V0z\" fill=\"none\"/>\n",
              "    <path d=\"M18.56 5.44l.94 2.06.94-2.06 2.06-.94-2.06-.94-.94-2.06-.94 2.06-2.06.94zm-11 1L8.5 8.5l.94-2.06 2.06-.94-2.06-.94L8.5 2.5l-.94 2.06-2.06.94zm10 10l.94 2.06.94-2.06 2.06-.94-2.06-.94-.94-2.06-.94 2.06-2.06.94z\"/><path d=\"M17.41 7.96l-1.37-1.37c-.4-.4-.92-.59-1.43-.59-.52 0-1.04.2-1.43.59L10.3 9.45l-7.72 7.72c-.78.78-.78 2.05 0 2.83L4 21.41c.39.39.9.59 1.41.59.51 0 1.02-.2 1.41-.59l7.78-7.78 2.81-2.81c.8-.78.8-2.07 0-2.86zM5.41 20L4 18.59l7.72-7.72 1.47 1.35L5.41 20z\"/>\n",
              "  </svg>\n",
              "      </button>\n",
              "      \n",
              "  <style>\n",
              "    .colab-df-container {\n",
              "      display:flex;\n",
              "      flex-wrap:wrap;\n",
              "      gap: 12px;\n",
              "    }\n",
              "\n",
              "    .colab-df-convert {\n",
              "      background-color: #E8F0FE;\n",
              "      border: none;\n",
              "      border-radius: 50%;\n",
              "      cursor: pointer;\n",
              "      display: none;\n",
              "      fill: #1967D2;\n",
              "      height: 32px;\n",
              "      padding: 0 0 0 0;\n",
              "      width: 32px;\n",
              "    }\n",
              "\n",
              "    .colab-df-convert:hover {\n",
              "      background-color: #E2EBFA;\n",
              "      box-shadow: 0px 1px 2px rgba(60, 64, 67, 0.3), 0px 1px 3px 1px rgba(60, 64, 67, 0.15);\n",
              "      fill: #174EA6;\n",
              "    }\n",
              "\n",
              "    [theme=dark] .colab-df-convert {\n",
              "      background-color: #3B4455;\n",
              "      fill: #D2E3FC;\n",
              "    }\n",
              "\n",
              "    [theme=dark] .colab-df-convert:hover {\n",
              "      background-color: #434B5C;\n",
              "      box-shadow: 0px 1px 3px 1px rgba(0, 0, 0, 0.15);\n",
              "      filter: drop-shadow(0px 1px 2px rgba(0, 0, 0, 0.3));\n",
              "      fill: #FFFFFF;\n",
              "    }\n",
              "  </style>\n",
              "\n",
              "      <script>\n",
              "        const buttonEl =\n",
              "          document.querySelector('#df-35ca04a1-1279-4816-be83-46235931e2dd button.colab-df-convert');\n",
              "        buttonEl.style.display =\n",
              "          google.colab.kernel.accessAllowed ? 'block' : 'none';\n",
              "\n",
              "        async function convertToInteractive(key) {\n",
              "          const element = document.querySelector('#df-35ca04a1-1279-4816-be83-46235931e2dd');\n",
              "          const dataTable =\n",
              "            await google.colab.kernel.invokeFunction('convertToInteractive',\n",
              "                                                     [key], {});\n",
              "          if (!dataTable) return;\n",
              "\n",
              "          const docLinkHtml = 'Like what you see? Visit the ' +\n",
              "            '<a target=\"_blank\" href=https://colab.research.google.com/notebooks/data_table.ipynb>data table notebook</a>'\n",
              "            + ' to learn more about interactive tables.';\n",
              "          element.innerHTML = '';\n",
              "          dataTable['output_type'] = 'display_data';\n",
              "          await google.colab.output.renderOutput(dataTable, element);\n",
              "          const docLink = document.createElement('div');\n",
              "          docLink.innerHTML = docLinkHtml;\n",
              "          element.appendChild(docLink);\n",
              "        }\n",
              "      </script>\n",
              "    </div>\n",
              "  </div>\n",
              "  "
            ],
            "text/plain": [
              "   item_description  invoice_id\n",
              "0                27       147.0\n",
              "1                14       371.0\n",
              "2                35       484.0\n",
              "3                 4       484.0\n",
              "4                34      1310.0"
            ]
          },
          "execution_count": 335,
          "metadata": {},
          "output_type": "execute_result"
        }
      ],
      "source": [
        "x = merged_df[['item_description','invoice_id']]\n",
        "x.head()"
      ]
    },
    {
      "cell_type": "code",
      "execution_count": 344,
      "metadata": {
        "colab": {
          "base_uri": "https://localhost:8080/"
        },
        "id": "sbWqlrDnxsGa",
        "outputId": "b788f61a-942b-4f47-f7ab-ce740b23991f"
      },
      "outputs": [
        {
          "output_type": "stream",
          "name": "stdout",
          "text": [
            "Test accuracy: 0.4179\n",
            "Test f1 score: 0.4026\n"
          ]
        },
        {
          "output_type": "stream",
          "name": "stderr",
          "text": [
            "/usr/local/lib/python3.9/dist-packages/sklearn/linear_model/_logistic.py:458: ConvergenceWarning: lbfgs failed to converge (status=1):\n",
            "STOP: TOTAL NO. of ITERATIONS REACHED LIMIT.\n",
            "\n",
            "Increase the number of iterations (max_iter) or scale the data as shown in:\n",
            "    https://scikit-learn.org/stable/modules/preprocessing.html\n",
            "Please also refer to the documentation for alternative solver options:\n",
            "    https://scikit-learn.org/stable/modules/linear_model.html#logistic-regression\n",
            "  n_iter_i = _check_optimize_result(\n"
          ]
        }
      ],
      "source": [
        "import pandas as pd\n",
        "from sklearn.linear_model import LogisticRegression\n",
        "from sklearn.model_selection import train_test_split\n",
        "from sklearn.metrics import accuracy_score, f1_score\n",
        "\n",
        "# Select the features and predictor variable\n",
        "features = ['item_description','quantity_sold', 'shop_area_sq_ft']\n",
        "target = 'shop_profile'\n",
        "\n",
        "# Drop rows with NaN values\n",
        "merged = merged_df.dropna(subset=[target])\n",
        "\n",
        "# Split the data into training and testing sets\n",
        "X_train, X_test, y_train, y_test = train_test_split(merged[features], merged[target], test_size=0.2, random_state=42)\n",
        "\n",
        "# Train the logistic regression model\n",
        "model = LogisticRegression()\n",
        "model.fit(X_train, y_train)\n",
        "\n",
        "# Get accuracy and f1 score on test data\n",
        "y_pred = model.predict(X_test)\n",
        "accuracy = accuracy_score(y_test, y_pred)\n",
        "f1 = f1_score(y_test, y_pred, average='weighted')\n",
        "\n",
        "print(f'Test accuracy: {accuracy:.4f}')\n",
        "print(f'Test f1 score: {f1:.4f}')\n",
        "\n",
        "# Predict the shop_profile for rows with NaN values\n",
        "# missing_df = merged_df[merged_df[target].isna()]\n",
        "# missing_df[target] = model.predict(missing_df[features])\n",
        "\n",
        "# # Save the predicted shop_profile values\n",
        "# missing_df.head()"
      ]
    },
    {
      "cell_type": "code",
      "execution_count": 345,
      "metadata": {
        "colab": {
          "base_uri": "https://localhost:8080/",
          "height": 414
        },
        "id": "j_6e7JO40mLE",
        "outputId": "dcadd2f9-ff85-4f35-b634-297de830370e"
      },
      "outputs": [
        {
          "output_type": "display_data",
          "data": {
            "text/plain": [
              "<Figure size 640x480 with 1 Axes>"
            ],
            "image/png": "[encoded data removed]"
          },
          "metadata": {}
        }
      ],
      "source": [
        "from mpl_toolkits.mplot3d import Axes3D\n",
        "import matplotlib.pyplot as plt\n",
        "\n",
        "fig = plt.figure()\n",
        "ax = fig.add_subplot(111, projection='3d')\n",
        "\n",
        "x = merged_df[features[0]]\n",
        "y = merged_df[features[1]]\n",
        "z = merged_df[features[2]]\n",
        "\n",
        "ax.scatter(x, y, z, c=merged_df['shop_profile'], cmap='viridis')\n",
        "\n",
        "ax.set_xlabel(features[0])\n",
        "ax.set_ylabel(features[1])\n",
        "ax.set_zlabel(features[2])\n",
        "\n",
        "plt.show()"
      ]
    },
    {
      "cell_type": "code",
      "execution_count": null,
      "metadata": {
        "colab": {
          "background_save": true
        },
        "id": "A0MH9Snz1XO1",
        "outputId": "c0b98583-e6a6-42d2-fb89-c0ca2bcec7fa"
      },
      "outputs": [
        {
          "data": {
            "image/png": "[encoded data removed]",
            "text/plain": [
              "<Figure size 640x480 with 49 Axes>"
            ]
          },
          "metadata": {},
          "output_type": "display_data"
        }
      ],
      "source": [
        "import matplotlib.pyplot as plt\n",
        "from itertools import combinations\n",
        "\n",
        "fig, axs = plt.subplots(len(features), len(features))\n",
        "\n",
        "colors = {1.0: 'red', 2.0: 'blue', 3.0: 'green'}\n",
        "merged_df = merged_df.dropna(subset=[target])\n",
        "for i, j in combinations(range(len(features)), 2):\n",
        "    x = merged_df[features[i]]\n",
        "    y = merged_df[features[j]]\n",
        "    c = merged_df['shop_profile'].apply(lambda x: colors[x])\n",
        "    axs[i, j].scatter(x, y, c=c)\n",
        "    axs[i, j].set_xlabel(features[i])\n",
        "    axs[i, j].set_ylabel(features[j])\n",
        "\n",
        "plt.show()"
      ]
    },
    {
      "cell_type": "code",
      "execution_count": null,
      "metadata": {
        "colab": {
          "background_save": true
        },
        "id": "SOGZTdbh3WaZ",
        "outputId": "fc0ca787-5cc5-4b23-97b9-5f4e1d63212c"
      },
      "outputs": [
        {
          "name": "stdout",
          "output_type": "stream",
          "text": [
            "0\n"
          ]
        }
      ],
      "source": [
        "count = (merged_df['shop_profile'] == 1.0).sum()\n",
        "print(count)"
      ]
    }
  ],
  "metadata": {
    "colab": {
      "provenance": []
    },
    "kernelspec": {
      "display_name": "Python 3",
      "name": "python3"
    },
    "language_info": {
      "name": "python"
    }
  },
  "nbformat": 4,
  "nbformat_minor": 0
}